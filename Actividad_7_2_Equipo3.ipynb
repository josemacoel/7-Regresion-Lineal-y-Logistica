{
  "nbformat": 4,
  "nbformat_minor": 0,
  "metadata": {
    "colab": {
      "provenance": []
    },
    "kernelspec": {
      "name": "python3",
      "display_name": "Python 3"
    },
    "language_info": {
      "name": "python"
    }
  },
  "cells": [
    {
      "cell_type": "code",
      "source": [
        "#Cargamos librerias\n",
        "import pandas as pd\n",
        "import numpy as np\n",
        "import matplotlib.pyplot as plt\n",
        "import scipy.special as special\n",
        "from scipy.optimize import curve_fit\n",
        "import seaborn as sns\n",
        "from sklearn.metrics import r2_score\n",
        "from sklearn.model_selection import train_test_split\n",
        "from sklearn.preprocessing import StandardScaler"
      ],
      "metadata": {
        "id": "lGdeeliJTQJO"
      },
      "execution_count": 1,
      "outputs": []
    },
    {
      "cell_type": "markdown",
      "source": [
        "# **2020**"
      ],
      "metadata": {
        "id": "gr_2Ke9BmLG5"
      }
    },
    {
      "cell_type": "code",
      "source": [
        "#Cargar archivo csv desde seaborn\n",
        "# load Excel file and select sheet\n",
        "df = pd.read_excel('GastosCostos2023_adecuado.xlsx', sheet_name='2020')\n",
        "#df2020.head(3)"
      ],
      "metadata": {
        "id": "dUTL3f-ucVrR"
      },
      "execution_count": null,
      "outputs": []
    },
    {
      "cell_type": "code",
      "source": [
        "#df[\"IVA\"]=df['IVA'].fillna(df['IVA'].mean())"
      ],
      "metadata": {
        "id": "V_mJBmNnP-74"
      },
      "execution_count": null,
      "outputs": []
    },
    {
      "cell_type": "code",
      "source": [
        "#Rellenamos nulos\n",
        "df =df.fillna(method=\"bfill\")\n",
        "df =df.fillna(method=\"ffill\")\n"
      ],
      "metadata": {
        "id": "_uuDD5trcYoO"
      },
      "execution_count": null,
      "outputs": []
    },
    {
      "cell_type": "markdown",
      "source": [
        "## **Reemplazar valores**"
      ],
      "metadata": {
        "id": "nG2MFCcr1Mv6"
      }
    },
    {
      "cell_type": "code",
      "source": [
        "#Verificar los valores sin repetirse de una columna\n",
        "unico = np.unique(df['TIPO GASTO'])\n",
        "unico"
      ],
      "metadata": {
        "colab": {
          "base_uri": "https://localhost:8080/"
        },
        "id": "Yoy5BqFQ1LdC",
        "outputId": "74035bcf-5cb7-4ec9-f9cf-e8d76a1e277e"
      },
      "execution_count": null,
      "outputs": [
        {
          "output_type": "execute_result",
          "data": {
            "text/plain": [
              "array(['ALIMENTOS', 'ARRENDAMIENTO FINANCIERO', 'ARRENDAMIENTO LOCAL',\n",
              "       'ATENCION CLIENTES', 'CALIBRACIONES', 'CAPACITACION',\n",
              "       'COMBUSTIBLE', 'COMISION BANCARIA', 'COMISION VENTA', 'COMPRAS',\n",
              "       'DERECHOS', 'ENERGIA ELECTRICA', 'FLETES', 'GERENCIA ADMON',\n",
              "       'GERENCIA VTAS', 'HONORARIOS ADMON', 'HONORARIOS CONTABLES',\n",
              "       'HONORARIOS PM', 'HOSPEDAJE', 'IMSS/INFONAVIT', 'MAQUILAS GIC',\n",
              "       'MAQUINARIA', 'MEDICOS', 'MENSAJERIA', 'MOBILIARIO',\n",
              "       'MTTO COMPUTO', 'MTTO LOCAL', 'MTTO TRANSPORTE', 'NO DEDUCIBLE',\n",
              "       'PAPELERIA', 'PAQUETERIA', 'PEAJES', 'PUBLICIDAD',\n",
              "       'REPARACIONES ELECTRICAS', 'SEGUROS', 'SERV FUNERARIO ',\n",
              "       'SUBCONTRATOS', 'SUSCRIPCIONES', 'TELEFONO', 'TRANSPORTE',\n",
              "       'UNIFORME', 'VALES DESPENSA'], dtype=object)"
            ]
          },
          "metadata": {},
          "execution_count": 560
        }
      ]
    },
    {
      "cell_type": "code",
      "source": [
        "#Convierto una variable a dicotómica \n",
        "df['TIPO GASTO']= df['TIPO GASTO'].replace(['ALIMENTOS', 'ARRENDAMIENTO FINANCIERO', 'ARRENDAMIENTO LOCAL',\n",
        "       'ATENCION CLIENTES', 'CALIBRACIONES', 'CAPACITACION',\n",
        "       'COMBUSTIBLE', 'COMISION BANCARIA', 'COMISION VENTA',\n",
        "       'DERECHOS', 'ENERGIA ELECTRICA', 'FLETES', 'GERENCIA ADMON',\n",
        "       'GERENCIA VTAS', 'HONORARIOS ADMON', 'HONORARIOS CONTABLES',\n",
        "       'HONORARIOS PM', 'HOSPEDAJE', 'IMSS/INFONAVIT', 'MAQUILAS GIC',\n",
        "       'MAQUINARIA', 'MEDICOS', 'MENSAJERIA', 'MOBILIARIO',\n",
        "       'MTTO COMPUTO', 'MTTO LOCAL', 'MTTO TRANSPORTE', 'NO DEDUCIBLE',\n",
        "       'PAPELERIA', 'PAQUETERIA', 'PEAJES', 'PUBLICIDAD',\n",
        "       'REPARACIONES ELECTRICAS', 'SEGUROS', 'SERV FUNERARIO ',\n",
        "       'SUBCONTRATOS', 'SUSCRIPCIONES', 'TELEFONO', 'TRANSPORTE',\n",
        "       'UNIFORME', 'VALES DESPENSA'], \"OTROS GASTOS\")\n",
        "#df"
      ],
      "metadata": {
        "id": "3GF62qwb13SC"
      },
      "execution_count": null,
      "outputs": []
    },
    {
      "cell_type": "code",
      "source": [
        "#Verificar los valores sin repetirse de una columna\n",
        "unico = np.unique(df['TIPO GASTO'])\n",
        "unico"
      ],
      "metadata": {
        "colab": {
          "base_uri": "https://localhost:8080/"
        },
        "id": "gwIQT9n9RAzX",
        "outputId": "b734c0ec-b960-43e9-c8dd-880af81fc95d"
      },
      "execution_count": null,
      "outputs": [
        {
          "output_type": "execute_result",
          "data": {
            "text/plain": [
              "array(['COMPRAS', 'OTROS GASTOS'], dtype=object)"
            ]
          },
          "metadata": {},
          "execution_count": 562
        }
      ]
    },
    {
      "cell_type": "code",
      "source": [
        "df['TIPO GASTO'].value_counts()"
      ],
      "metadata": {
        "colab": {
          "base_uri": "https://localhost:8080/"
        },
        "id": "aesNmOIAV3SD",
        "outputId": "69acc341-3ef7-40a9-d299-54cb8603b48e"
      },
      "execution_count": null,
      "outputs": [
        {
          "output_type": "execute_result",
          "data": {
            "text/plain": [
              "OTROS GASTOS    1871\n",
              "COMPRAS         1471\n",
              "Name: TIPO GASTO, dtype: int64"
            ]
          },
          "metadata": {},
          "execution_count": 563
        }
      ]
    },
    {
      "cell_type": "code",
      "source": [
        "#Declaramos las variables dependientes e independientes para la regresión Logística\n",
        "Vars_Indep= df[['TOTAL MX']]\n",
        "Var_Dep= df['TIPO GASTO']"
      ],
      "metadata": {
        "id": "UpTe1UuRcgnE"
      },
      "execution_count": null,
      "outputs": []
    },
    {
      "cell_type": "code",
      "source": [
        "#Redefinimos las variables \n",
        "X= Vars_Indep\n",
        "y= Var_Dep"
      ],
      "metadata": {
        "id": "wACjx4bAchca"
      },
      "execution_count": null,
      "outputs": []
    },
    {
      "cell_type": "code",
      "source": [
        "#Dividimos el conjunto de datos en la parte de entrenamiento y prueba:\n",
        "X_train, X_test, y_train, y_test = train_test_split(X, y, test_size=0.3, random_state =68)"
      ],
      "metadata": {
        "id": "0SlqN20_ckc5"
      },
      "execution_count": null,
      "outputs": []
    },
    {
      "cell_type": "code",
      "source": [
        "#Se escalan todos los datos\n",
        "escalar = StandardScaler()"
      ],
      "metadata": {
        "id": "MkwSH7-1eZpR"
      },
      "execution_count": null,
      "outputs": []
    },
    {
      "cell_type": "code",
      "source": [
        "#Para realizar el escalamiento de las variables “X” tanto de entrenamiento como de prueba, utilizaremos fit_transform\n",
        "X_train = escalar.fit_transform(X_train)\n",
        "X_test = escalar.transform(X_test)"
      ],
      "metadata": {
        "id": "m7G55cbNefKi"
      },
      "execution_count": null,
      "outputs": []
    },
    {
      "cell_type": "code",
      "source": [
        "#Definimos el algoritmo a utilizar\n",
        "from sklearn.linear_model import LogisticRegression\n",
        "algoritmo = LogisticRegression()"
      ],
      "metadata": {
        "id": "9ODFuBepehxE"
      },
      "execution_count": null,
      "outputs": []
    },
    {
      "cell_type": "code",
      "source": [
        "#Entrenamos el modelo\n",
        "algoritmo.fit(X_train, y_train)"
      ],
      "metadata": {
        "colab": {
          "base_uri": "https://localhost:8080/",
          "height": 75
        },
        "id": "TGoNkF8eej4u",
        "outputId": "8e166724-af4b-416b-8f82-99b86a87107e"
      },
      "execution_count": null,
      "outputs": [
        {
          "output_type": "execute_result",
          "data": {
            "text/plain": [
              "LogisticRegression()"
            ],
            "text/html": [
              "<style>#sk-container-id-27 {color: black;background-color: white;}#sk-container-id-27 pre{padding: 0;}#sk-container-id-27 div.sk-toggleable {background-color: white;}#sk-container-id-27 label.sk-toggleable__label {cursor: pointer;display: block;width: 100%;margin-bottom: 0;padding: 0.3em;box-sizing: border-box;text-align: center;}#sk-container-id-27 label.sk-toggleable__label-arrow:before {content: \"▸\";float: left;margin-right: 0.25em;color: #696969;}#sk-container-id-27 label.sk-toggleable__label-arrow:hover:before {color: black;}#sk-container-id-27 div.sk-estimator:hover label.sk-toggleable__label-arrow:before {color: black;}#sk-container-id-27 div.sk-toggleable__content {max-height: 0;max-width: 0;overflow: hidden;text-align: left;background-color: #f0f8ff;}#sk-container-id-27 div.sk-toggleable__content pre {margin: 0.2em;color: black;border-radius: 0.25em;background-color: #f0f8ff;}#sk-container-id-27 input.sk-toggleable__control:checked~div.sk-toggleable__content {max-height: 200px;max-width: 100%;overflow: auto;}#sk-container-id-27 input.sk-toggleable__control:checked~label.sk-toggleable__label-arrow:before {content: \"▾\";}#sk-container-id-27 div.sk-estimator input.sk-toggleable__control:checked~label.sk-toggleable__label {background-color: #d4ebff;}#sk-container-id-27 div.sk-label input.sk-toggleable__control:checked~label.sk-toggleable__label {background-color: #d4ebff;}#sk-container-id-27 input.sk-hidden--visually {border: 0;clip: rect(1px 1px 1px 1px);clip: rect(1px, 1px, 1px, 1px);height: 1px;margin: -1px;overflow: hidden;padding: 0;position: absolute;width: 1px;}#sk-container-id-27 div.sk-estimator {font-family: monospace;background-color: #f0f8ff;border: 1px dotted black;border-radius: 0.25em;box-sizing: border-box;margin-bottom: 0.5em;}#sk-container-id-27 div.sk-estimator:hover {background-color: #d4ebff;}#sk-container-id-27 div.sk-parallel-item::after {content: \"\";width: 100%;border-bottom: 1px solid gray;flex-grow: 1;}#sk-container-id-27 div.sk-label:hover label.sk-toggleable__label {background-color: #d4ebff;}#sk-container-id-27 div.sk-serial::before {content: \"\";position: absolute;border-left: 1px solid gray;box-sizing: border-box;top: 0;bottom: 0;left: 50%;z-index: 0;}#sk-container-id-27 div.sk-serial {display: flex;flex-direction: column;align-items: center;background-color: white;padding-right: 0.2em;padding-left: 0.2em;position: relative;}#sk-container-id-27 div.sk-item {position: relative;z-index: 1;}#sk-container-id-27 div.sk-parallel {display: flex;align-items: stretch;justify-content: center;background-color: white;position: relative;}#sk-container-id-27 div.sk-item::before, #sk-container-id-27 div.sk-parallel-item::before {content: \"\";position: absolute;border-left: 1px solid gray;box-sizing: border-box;top: 0;bottom: 0;left: 50%;z-index: -1;}#sk-container-id-27 div.sk-parallel-item {display: flex;flex-direction: column;z-index: 1;position: relative;background-color: white;}#sk-container-id-27 div.sk-parallel-item:first-child::after {align-self: flex-end;width: 50%;}#sk-container-id-27 div.sk-parallel-item:last-child::after {align-self: flex-start;width: 50%;}#sk-container-id-27 div.sk-parallel-item:only-child::after {width: 0;}#sk-container-id-27 div.sk-dashed-wrapped {border: 1px dashed gray;margin: 0 0.4em 0.5em 0.4em;box-sizing: border-box;padding-bottom: 0.4em;background-color: white;}#sk-container-id-27 div.sk-label label {font-family: monospace;font-weight: bold;display: inline-block;line-height: 1.2em;}#sk-container-id-27 div.sk-label-container {text-align: center;}#sk-container-id-27 div.sk-container {/* jupyter's `normalize.less` sets `[hidden] { display: none; }` but bootstrap.min.css set `[hidden] { display: none !important; }` so we also need the `!important` here to be able to override the default hidden behavior on the sphinx rendered scikit-learn.org. See: https://github.com/scikit-learn/scikit-learn/issues/21755 */display: inline-block !important;position: relative;}#sk-container-id-27 div.sk-text-repr-fallback {display: none;}</style><div id=\"sk-container-id-27\" class=\"sk-top-container\"><div class=\"sk-text-repr-fallback\"><pre>LogisticRegression()</pre><b>In a Jupyter environment, please rerun this cell to show the HTML representation or trust the notebook. <br />On GitHub, the HTML representation is unable to render, please try loading this page with nbviewer.org.</b></div><div class=\"sk-container\" hidden><div class=\"sk-item\"><div class=\"sk-estimator sk-toggleable\"><input class=\"sk-toggleable__control sk-hidden--visually\" id=\"sk-estimator-id-27\" type=\"checkbox\" checked><label for=\"sk-estimator-id-27\" class=\"sk-toggleable__label sk-toggleable__label-arrow\">LogisticRegression</label><div class=\"sk-toggleable__content\"><pre>LogisticRegression()</pre></div></div></div></div></div>"
            ]
          },
          "metadata": {},
          "execution_count": 570
        }
      ]
    },
    {
      "cell_type": "code",
      "source": [
        "#Realizamos una predicción\n",
        "y_pred = algoritmo.predict(X_test) \n",
        "y_pred"
      ],
      "metadata": {
        "id": "RmhkpqPufPtq",
        "colab": {
          "base_uri": "https://localhost:8080/"
        },
        "outputId": "36248945-781a-4eca-ebaf-85e3166a8777"
      },
      "execution_count": null,
      "outputs": [
        {
          "output_type": "execute_result",
          "data": {
            "text/plain": [
              "array(['OTROS GASTOS', 'OTROS GASTOS', 'OTROS GASTOS', ...,\n",
              "       'OTROS GASTOS', 'OTROS GASTOS', 'OTROS GASTOS'], dtype=object)"
            ]
          },
          "metadata": {},
          "execution_count": 571
        }
      ]
    },
    {
      "cell_type": "code",
      "source": [
        "#Verifico la matriz de Confusión\n",
        "from sklearn.metrics import confusion_matrix\n",
        "matriz = confusion_matrix(y_test, y_pred)\n",
        "print('Matriz de Confusión:')\n",
        "print(matriz)"
      ],
      "metadata": {
        "colab": {
          "base_uri": "https://localhost:8080/"
        },
        "id": "HcmoerMWfSgz",
        "outputId": "be41f5e7-cdd5-48b5-f79e-583ecdb99e2f"
      },
      "execution_count": null,
      "outputs": [
        {
          "output_type": "stream",
          "name": "stdout",
          "text": [
            "Matriz de Confusión:\n",
            "[[  0 455]\n",
            " [  0 548]]\n"
          ]
        }
      ]
    },
    {
      "cell_type": "code",
      "source": [
        "#Calculo la precisión del modelo\n",
        "from sklearn.metrics import precision_score\n",
        "\n",
        "precision = precision_score(y_test, y_pred, average=\"weighted\", pos_label=\"COMPRAS\")\n",
        "print('Precisión del modelo:')\n",
        "print(precision)"
      ],
      "metadata": {
        "colab": {
          "base_uri": "https://localhost:8080/"
        },
        "id": "EZLYhQv9ffsZ",
        "outputId": "40485464-de59-4642-cbb9-588749105f4a"
      },
      "execution_count": null,
      "outputs": [
        {
          "output_type": "stream",
          "name": "stdout",
          "text": [
            "Precisión del modelo:\n",
            "0.2985102518963548\n"
          ]
        },
        {
          "output_type": "stream",
          "name": "stderr",
          "text": [
            "/usr/local/lib/python3.10/dist-packages/sklearn/metrics/_classification.py:1396: UserWarning: Note that pos_label (set to 'COMPRAS') is ignored when average != 'binary' (got 'weighted'). You may use labels=[pos_label] to specify a single positive class.\n",
            "  warnings.warn(\n",
            "/usr/local/lib/python3.10/dist-packages/sklearn/metrics/_classification.py:1344: UndefinedMetricWarning: Precision is ill-defined and being set to 0.0 in labels with no predicted samples. Use `zero_division` parameter to control this behavior.\n",
            "  _warn_prf(average, modifier, msg_start, len(result))\n"
          ]
        }
      ]
    },
    {
      "cell_type": "code",
      "source": [
        "#Calculo la exactitud del modelo\n",
        "from sklearn.metrics import accuracy_score\n",
        "\n",
        "exactitud = accuracy_score(y_test, y_pred)\n",
        "print('Exactitud del modelo:')\n",
        "print(exactitud)"
      ],
      "metadata": {
        "colab": {
          "base_uri": "https://localhost:8080/"
        },
        "id": "JuQmoNf8gPHT",
        "outputId": "1458170e-966a-4679-dc2c-bae684b2a5a6"
      },
      "execution_count": null,
      "outputs": [
        {
          "output_type": "stream",
          "name": "stdout",
          "text": [
            "Exactitud del modelo:\n",
            "0.5463609172482552\n"
          ]
        }
      ]
    },
    {
      "cell_type": "code",
      "source": [
        "#Calculo la sensibilidad del modelo\n",
        "from sklearn.metrics import recall_score\n",
        "\n",
        "sensibilidad = recall_score(y_test, y_pred, average=\"weighted\", pos_label=\"COMPRAS\")\n",
        "print('Sensibilidad del modelo:')\n",
        "print(sensibilidad)"
      ],
      "metadata": {
        "colab": {
          "base_uri": "https://localhost:8080/"
        },
        "id": "2ROKMocYgRNb",
        "outputId": "bc1b1f4d-9bde-45d0-c9f2-90abc9c7ba57"
      },
      "execution_count": null,
      "outputs": [
        {
          "output_type": "stream",
          "name": "stdout",
          "text": [
            "Sensibilidad del modelo:\n",
            "0.5463609172482552\n"
          ]
        },
        {
          "output_type": "stream",
          "name": "stderr",
          "text": [
            "/usr/local/lib/python3.10/dist-packages/sklearn/metrics/_classification.py:1396: UserWarning: Note that pos_label (set to 'COMPRAS') is ignored when average != 'binary' (got 'weighted'). You may use labels=[pos_label] to specify a single positive class.\n",
            "  warnings.warn(\n"
          ]
        }
      ]
    },
    {
      "cell_type": "code",
      "source": [
        "# el puntaje F1 que es una combinación entre la precisión y la sensibilidad, para esto importamos f1_score.\n",
        "#Calculo el Puntaje F1 del modelo\n",
        "from sklearn.metrics import f1_score\n",
        "\n",
        "puntajef1 = f1_score(y_test, y_pred, average=\"weighted\", pos_label=\"COMPRAS\")\n",
        "print('Puntaje F1 del modelo:')\n",
        "print(puntajef1)"
      ],
      "metadata": {
        "colab": {
          "base_uri": "https://localhost:8080/"
        },
        "id": "dpVw7tZ1gUja",
        "outputId": "d20795a0-ac58-4a1d-c79c-dbd3724f6e05"
      },
      "execution_count": null,
      "outputs": [
        {
          "output_type": "stream",
          "name": "stdout",
          "text": [
            "Puntaje F1 del modelo:\n",
            "0.38608095764286765\n"
          ]
        },
        {
          "output_type": "stream",
          "name": "stderr",
          "text": [
            "/usr/local/lib/python3.10/dist-packages/sklearn/metrics/_classification.py:1396: UserWarning: Note that pos_label (set to 'COMPRAS') is ignored when average != 'binary' (got 'weighted'). You may use labels=[pos_label] to specify a single positive class.\n",
            "  warnings.warn(\n"
          ]
        }
      ]
    },
    {
      "cell_type": "markdown",
      "source": [
        "# **2021**"
      ],
      "metadata": {
        "id": "K2WNWN4lTLAs"
      }
    },
    {
      "cell_type": "markdown",
      "source": [
        "### **Preparación**"
      ],
      "metadata": {
        "id": "1focAyWTV1xN"
      }
    },
    {
      "cell_type": "code",
      "source": [
        "df2021 = pd.read_excel('GastosCostos2023_adecuado.xlsx', sheet_name='2021')"
      ],
      "metadata": {
        "id": "bhg013MkTNJU"
      },
      "execution_count": 2,
      "outputs": []
    },
    {
      "cell_type": "code",
      "source": [
        "#Rellenamos nulos\n",
        "df2021 =df2021.fillna(method=\"bfill\")\n",
        "df2021 =df2021.fillna(method=\"ffill\")"
      ],
      "metadata": {
        "id": "cMRTG8bXTkCM"
      },
      "execution_count": 3,
      "outputs": []
    },
    {
      "cell_type": "markdown",
      "source": [
        "Convertir la variable TIPO GASTO en una variable dicotómica con los valores: “COMPRAS” y “OTROS GASTOS”"
      ],
      "metadata": {
        "id": "-v0CTfXGVy5E"
      }
    },
    {
      "cell_type": "code",
      "source": [
        "#Verificar los valores sin repetirse de una columna\n",
        "unico = np.unique(df2021['TIPO GASTO'])\n",
        "unico"
      ],
      "metadata": {
        "colab": {
          "base_uri": "https://localhost:8080/"
        },
        "id": "FeE6t4vCTwWq",
        "outputId": "58d72036-c1f8-446c-915d-67e791748989"
      },
      "execution_count": 4,
      "outputs": [
        {
          "output_type": "execute_result",
          "data": {
            "text/plain": [
              "array(['ALIMENTOS', 'ARRENDAMIENTO FINANCIERO', 'ARRENDAMIENTO LOCAL',\n",
              "       'BOTIQUIN', 'CALIBRACIONES', 'CAPACITACION', 'COMBUSTIBLE ',\n",
              "       'COMISION BANCARIA', 'COMISION MIXTA', 'COMPRA COMPUTADORA ',\n",
              "       'COMPRA TABLET ', 'COMPRAS', 'COMPRAS ', 'DERECHOS',\n",
              "       'ENERGIA ELECTRICA', 'FLETE', 'FLETES', 'GASOLINA',\n",
              "       'GASTOS IMPORTACION ', 'GERENCIA ADMON', 'GERENCIA VTAS',\n",
              "       'HONORARIOS CONTABLES', 'HONORARIOS JURIDICOS', 'HONORARIOS PF',\n",
              "       'HONORARIOS PM', 'HOSPEDAJE', 'HOSPEDAJE ', 'IMSS/INFONAVIT',\n",
              "       'MAQUILAS', 'MAQUILAS GIC', 'MAQUINARIA', 'MEDICOS', 'MENSAJERIA',\n",
              "       'MONITOREO CAMARAS ADT', 'MTTO COMPUTO', 'MTTO LOCAL',\n",
              "       'MTTO MAQUINARIA', 'MTTO OFICINA ', 'MTTO TRANSPORTE',\n",
              "       'NO DEDUCIBLE', 'PAPELERIA', 'PAQUETERIA', 'PEAJES', 'PUBLICIDAD',\n",
              "       'RENTA COPIADORA', 'RENTA OFICINA ', 'SANITIZACION', 'SEGUROS',\n",
              "       'SUELDOS DIRECCION', 'SUELDOS PRODUCCION', 'SUELDOS VENTAS',\n",
              "       'SUSCRIPCIONES', 'TELEFONO', 'TRANSPORTE', 'UNIFORME',\n",
              "       'VALES DESPENSA'], dtype=object)"
            ]
          },
          "metadata": {},
          "execution_count": 4
        }
      ]
    },
    {
      "cell_type": "code",
      "source": [
        "#Convierto una variable a dicotómica \n",
        "\n",
        "df2021['TIPO GASTO']= df2021['TIPO GASTO'].replace(['COMPRAS '],\"COMPRAS\")\n",
        "df2021['TIPO GASTO']= df2021['TIPO GASTO'].replace(['ALIMENTOS', 'ARRENDAMIENTO FINANCIERO', 'ARRENDAMIENTO LOCAL',\n",
        "       'BOTIQUIN', 'CALIBRACIONES', 'CAPACITACION', 'COMBUSTIBLE ',\n",
        "       'COMISION BANCARIA', 'COMISION MIXTA', 'COMPRA COMPUTADORA ',\n",
        "       'COMPRA TABLET ', 'DERECHOS',\n",
        "       'ENERGIA ELECTRICA', 'FLETE', 'FLETES', 'GASOLINA',\n",
        "       'GASTOS IMPORTACION ', 'GERENCIA ADMON', 'GERENCIA VTAS',\n",
        "       'HONORARIOS CONTABLES', 'HONORARIOS JURIDICOS', 'HONORARIOS PF',\n",
        "       'HONORARIOS PM', 'HOSPEDAJE', 'HOSPEDAJE ', 'IMSS/INFONAVIT',\n",
        "       'MAQUILAS', 'MAQUILAS GIC', 'MAQUINARIA', 'MEDICOS', 'MENSAJERIA',\n",
        "       'MONITOREO CAMARAS ADT', 'MTTO COMPUTO', 'MTTO LOCAL',\n",
        "       'MTTO MAQUINARIA', 'MTTO OFICINA ', 'MTTO TRANSPORTE',\n",
        "       'NO DEDUCIBLE', 'PAPELERIA', 'PAQUETERIA', 'PEAJES', 'PUBLICIDAD',\n",
        "       'RENTA COPIADORA', 'RENTA OFICINA ', 'SANITIZACION', 'SEGUROS',\n",
        "       'SUELDOS DIRECCION', 'SUELDOS PRODUCCION', 'SUELDOS VENTAS',\n",
        "       'SUSCRIPCIONES', 'TELEFONO', 'TRANSPORTE', 'UNIFORME',\n",
        "       'VALES DESPENSA'], \"OTROS GASTOS\")\n",
        "df2021"
      ],
      "metadata": {
        "colab": {
          "base_uri": "https://localhost:8080/",
          "height": 1000
        },
        "id": "kAFPJPtjTuoF",
        "outputId": "c713a13b-7b23-4511-d66e-d32d28b244d7"
      },
      "execution_count": 5,
      "outputs": [
        {
          "output_type": "execute_result",
          "data": {
            "text/plain": [
              "          FECHA                   FOLIO                                  UUID  \\\n",
              "0    2021-01-01  0001010100750847116902  71B4C8B9-8DAA-47CC-AD47-9DD90AA5AF6B   \n",
              "1    2021-01-01  0001010100752163714102  B8AEDE83-CC76-404C-A611-6B5A87BA561F   \n",
              "2    2021-01-01                   19788  19B9B2C2-DF58-E24D-B43A-3FC4D5A929E7   \n",
              "3    2021-01-01                  211781  EAB26414-DD9A-4E8F-9F5C-05FE24D98E48   \n",
              "4    2021-01-01                  211782  C16F79B5-FB35-4BFC-AF84-708B24F500BB   \n",
              "...         ...                     ...                                   ...   \n",
              "3030 2021-12-01                  127043  83F82167-0D14-144E-9D76-045C95F25DDD   \n",
              "3031 2021-12-01                   11740  B1C60AE0-02BC-4A33-9513-A280F72B5D06   \n",
              "3032 2021-12-01              1092957089  255F4A25-5753-4208-8F6B-0B59E5AE4741   \n",
              "3033 2021-12-01                  747826  D8226E4F-9241-44C3-86A4-CDE9BC932528   \n",
              "3034 2021-12-01                 1227374  41770F35-39EF-41A4-8DF4-EE9586CF4549   \n",
              "\n",
              "               RFC                                          PROVEEDOR  \\\n",
              "0     BNM840515VB1                     BANCO NACIONAL DE MEXICO, S.A.   \n",
              "1     BNM840515VB1                     BANCO NACIONAL DE MEXICO, S.A.   \n",
              "2     ESI9612311E7             ELECTRONICOS Y SIMILARES, S.A. DE C.V.   \n",
              "3     BLE1512082R9                       BEPENSA LEASING S.A. DE C.V.   \n",
              "4     BLE1512082R9                       BEPENSA LEASING S.A. DE C.V.   \n",
              "...            ...                                                ...   \n",
              "3030  PGM881128QIA       PROMOCIONES GRAFICAS MEXICANAS, S.A. DE C.V.   \n",
              "3031  SME0510105C7                      SPECTRIS MEXICO S DE RL DE CV   \n",
              "3032  BMN930209927  BANCO MERCANTIL DEL NORTE SA INSTITUCION DE BA...   \n",
              "3033  BIN940223KE0  BANCO INVEX, S.A., INSTITUCION DE BANCA MULTIP...   \n",
              "3034  EFE8908015L3                      EFECTIVALE S. de R.L. de C.V.   \n",
              "\n",
              "        TIPO GASTO                                        DESCRIPCION   MP  \\\n",
              "0     OTROS GASTOS                                   COMISION COBRADA  PUE   \n",
              "1     OTROS GASTOS                                   COMISION COBRADA  PUE   \n",
              "2          COMPRAS                        MOTO E7 PLUS AZUL 64GB 4RAM  PUE   \n",
              "3     OTROS GASTOS  AA RENTA EXIGIBLE CL0000006876 6/36 de 03/12/2...  PPD   \n",
              "4     OTROS GASTOS  AA RENTA EXIGIBLE CL0000006877 6/36 de 03/12/2...  PPD   \n",
              "...            ...                                                ...  ...   \n",
              "3030  OTROS GASTOS                                               Pago  PUE   \n",
              "3031       COMPRAS                                 INSULATED T/C WIRE  PUE   \n",
              "3032  OTROS GASTOS                                SERVICIOS BANCARIOS  PUE   \n",
              "3033  OTROS GASTOS                             COMISIONES E INTERESES  PUE   \n",
              "3034  OTROS GASTOS  CONSUMOS DE COMBUSTIBLE DE MONEDEROS ELECTRONICOS  PUE   \n",
              "\n",
              "       TC   IMPORTE     IVA  RET ISR  RET IVA  TOTAL MX  TOTAL SAT TIPO  \\\n",
              "0     1.0    490.00   78.40      0.0      0.0    568.40     568.40    I   \n",
              "1     1.0    345.00   55.20      0.0      0.0    400.20     400.20    I   \n",
              "2     1.0   3447.41  551.59      0.0      0.0   3999.00    3999.00    I   \n",
              "3     1.0   5551.38  888.22      0.0      0.0   6439.60    6439.60    I   \n",
              "4     1.0   5551.98  888.32      0.0      0.0   6440.30    6440.30    I   \n",
              "...   ...       ...     ...      ...      ...       ...        ...  ...   \n",
              "3030  1.0      0.00    0.00      0.0      0.0      0.00       0.00    P   \n",
              "3031  1.0      0.00    0.00      0.0      0.0      0.00       0.00    I   \n",
              "3032  1.0  22826.46  705.58      0.0      0.0  23532.04   23532.04    I   \n",
              "3033  1.0      0.00    0.00      0.0      0.0      0.00       0.00    I   \n",
              "3034  1.0  15656.15    0.00      0.0      0.0  15656.15   15656.15    I   \n",
              "\n",
              "       STATUS      POLIZA  \n",
              "0     Vigente           0  \n",
              "1     Vigente           0  \n",
              "2     Vigente           0  \n",
              "3     Vigente           0  \n",
              "4     Vigente           0  \n",
              "...       ...         ...  \n",
              "3030  Vigente  PD02-DIC21  \n",
              "3031  Vigente  PD02-DIC21  \n",
              "3032  Vigente  PD02-DIC21  \n",
              "3033  Vigente  PD02-DIC21  \n",
              "3034  Vigente  PD02-DIC21  \n",
              "\n",
              "[3035 rows x 18 columns]"
            ],
            "text/html": [
              "\n",
              "  <div id=\"df-75de39b0-e458-4fa1-a353-b531ff4c248c\">\n",
              "    <div class=\"colab-df-container\">\n",
              "      <div>\n",
              "<style scoped>\n",
              "    .dataframe tbody tr th:only-of-type {\n",
              "        vertical-align: middle;\n",
              "    }\n",
              "\n",
              "    .dataframe tbody tr th {\n",
              "        vertical-align: top;\n",
              "    }\n",
              "\n",
              "    .dataframe thead th {\n",
              "        text-align: right;\n",
              "    }\n",
              "</style>\n",
              "<table border=\"1\" class=\"dataframe\">\n",
              "  <thead>\n",
              "    <tr style=\"text-align: right;\">\n",
              "      <th></th>\n",
              "      <th>FECHA</th>\n",
              "      <th>FOLIO</th>\n",
              "      <th>UUID</th>\n",
              "      <th>RFC</th>\n",
              "      <th>PROVEEDOR</th>\n",
              "      <th>TIPO GASTO</th>\n",
              "      <th>DESCRIPCION</th>\n",
              "      <th>MP</th>\n",
              "      <th>TC</th>\n",
              "      <th>IMPORTE</th>\n",
              "      <th>IVA</th>\n",
              "      <th>RET ISR</th>\n",
              "      <th>RET IVA</th>\n",
              "      <th>TOTAL MX</th>\n",
              "      <th>TOTAL SAT</th>\n",
              "      <th>TIPO</th>\n",
              "      <th>STATUS</th>\n",
              "      <th>POLIZA</th>\n",
              "    </tr>\n",
              "  </thead>\n",
              "  <tbody>\n",
              "    <tr>\n",
              "      <th>0</th>\n",
              "      <td>2021-01-01</td>\n",
              "      <td>0001010100750847116902</td>\n",
              "      <td>71B4C8B9-8DAA-47CC-AD47-9DD90AA5AF6B</td>\n",
              "      <td>BNM840515VB1</td>\n",
              "      <td>BANCO NACIONAL DE MEXICO, S.A.</td>\n",
              "      <td>OTROS GASTOS</td>\n",
              "      <td>COMISION COBRADA</td>\n",
              "      <td>PUE</td>\n",
              "      <td>1.0</td>\n",
              "      <td>490.00</td>\n",
              "      <td>78.40</td>\n",
              "      <td>0.0</td>\n",
              "      <td>0.0</td>\n",
              "      <td>568.40</td>\n",
              "      <td>568.40</td>\n",
              "      <td>I</td>\n",
              "      <td>Vigente</td>\n",
              "      <td>0</td>\n",
              "    </tr>\n",
              "    <tr>\n",
              "      <th>1</th>\n",
              "      <td>2021-01-01</td>\n",
              "      <td>0001010100752163714102</td>\n",
              "      <td>B8AEDE83-CC76-404C-A611-6B5A87BA561F</td>\n",
              "      <td>BNM840515VB1</td>\n",
              "      <td>BANCO NACIONAL DE MEXICO, S.A.</td>\n",
              "      <td>OTROS GASTOS</td>\n",
              "      <td>COMISION COBRADA</td>\n",
              "      <td>PUE</td>\n",
              "      <td>1.0</td>\n",
              "      <td>345.00</td>\n",
              "      <td>55.20</td>\n",
              "      <td>0.0</td>\n",
              "      <td>0.0</td>\n",
              "      <td>400.20</td>\n",
              "      <td>400.20</td>\n",
              "      <td>I</td>\n",
              "      <td>Vigente</td>\n",
              "      <td>0</td>\n",
              "    </tr>\n",
              "    <tr>\n",
              "      <th>2</th>\n",
              "      <td>2021-01-01</td>\n",
              "      <td>19788</td>\n",
              "      <td>19B9B2C2-DF58-E24D-B43A-3FC4D5A929E7</td>\n",
              "      <td>ESI9612311E7</td>\n",
              "      <td>ELECTRONICOS Y SIMILARES, S.A. DE C.V.</td>\n",
              "      <td>COMPRAS</td>\n",
              "      <td>MOTO E7 PLUS AZUL 64GB 4RAM</td>\n",
              "      <td>PUE</td>\n",
              "      <td>1.0</td>\n",
              "      <td>3447.41</td>\n",
              "      <td>551.59</td>\n",
              "      <td>0.0</td>\n",
              "      <td>0.0</td>\n",
              "      <td>3999.00</td>\n",
              "      <td>3999.00</td>\n",
              "      <td>I</td>\n",
              "      <td>Vigente</td>\n",
              "      <td>0</td>\n",
              "    </tr>\n",
              "    <tr>\n",
              "      <th>3</th>\n",
              "      <td>2021-01-01</td>\n",
              "      <td>211781</td>\n",
              "      <td>EAB26414-DD9A-4E8F-9F5C-05FE24D98E48</td>\n",
              "      <td>BLE1512082R9</td>\n",
              "      <td>BEPENSA LEASING S.A. DE C.V.</td>\n",
              "      <td>OTROS GASTOS</td>\n",
              "      <td>AA RENTA EXIGIBLE CL0000006876 6/36 de 03/12/2...</td>\n",
              "      <td>PPD</td>\n",
              "      <td>1.0</td>\n",
              "      <td>5551.38</td>\n",
              "      <td>888.22</td>\n",
              "      <td>0.0</td>\n",
              "      <td>0.0</td>\n",
              "      <td>6439.60</td>\n",
              "      <td>6439.60</td>\n",
              "      <td>I</td>\n",
              "      <td>Vigente</td>\n",
              "      <td>0</td>\n",
              "    </tr>\n",
              "    <tr>\n",
              "      <th>4</th>\n",
              "      <td>2021-01-01</td>\n",
              "      <td>211782</td>\n",
              "      <td>C16F79B5-FB35-4BFC-AF84-708B24F500BB</td>\n",
              "      <td>BLE1512082R9</td>\n",
              "      <td>BEPENSA LEASING S.A. DE C.V.</td>\n",
              "      <td>OTROS GASTOS</td>\n",
              "      <td>AA RENTA EXIGIBLE CL0000006877 6/36 de 03/12/2...</td>\n",
              "      <td>PPD</td>\n",
              "      <td>1.0</td>\n",
              "      <td>5551.98</td>\n",
              "      <td>888.32</td>\n",
              "      <td>0.0</td>\n",
              "      <td>0.0</td>\n",
              "      <td>6440.30</td>\n",
              "      <td>6440.30</td>\n",
              "      <td>I</td>\n",
              "      <td>Vigente</td>\n",
              "      <td>0</td>\n",
              "    </tr>\n",
              "    <tr>\n",
              "      <th>...</th>\n",
              "      <td>...</td>\n",
              "      <td>...</td>\n",
              "      <td>...</td>\n",
              "      <td>...</td>\n",
              "      <td>...</td>\n",
              "      <td>...</td>\n",
              "      <td>...</td>\n",
              "      <td>...</td>\n",
              "      <td>...</td>\n",
              "      <td>...</td>\n",
              "      <td>...</td>\n",
              "      <td>...</td>\n",
              "      <td>...</td>\n",
              "      <td>...</td>\n",
              "      <td>...</td>\n",
              "      <td>...</td>\n",
              "      <td>...</td>\n",
              "      <td>...</td>\n",
              "    </tr>\n",
              "    <tr>\n",
              "      <th>3030</th>\n",
              "      <td>2021-12-01</td>\n",
              "      <td>127043</td>\n",
              "      <td>83F82167-0D14-144E-9D76-045C95F25DDD</td>\n",
              "      <td>PGM881128QIA</td>\n",
              "      <td>PROMOCIONES GRAFICAS MEXICANAS, S.A. DE C.V.</td>\n",
              "      <td>OTROS GASTOS</td>\n",
              "      <td>Pago</td>\n",
              "      <td>PUE</td>\n",
              "      <td>1.0</td>\n",
              "      <td>0.00</td>\n",
              "      <td>0.00</td>\n",
              "      <td>0.0</td>\n",
              "      <td>0.0</td>\n",
              "      <td>0.00</td>\n",
              "      <td>0.00</td>\n",
              "      <td>P</td>\n",
              "      <td>Vigente</td>\n",
              "      <td>PD02-DIC21</td>\n",
              "    </tr>\n",
              "    <tr>\n",
              "      <th>3031</th>\n",
              "      <td>2021-12-01</td>\n",
              "      <td>11740</td>\n",
              "      <td>B1C60AE0-02BC-4A33-9513-A280F72B5D06</td>\n",
              "      <td>SME0510105C7</td>\n",
              "      <td>SPECTRIS MEXICO S DE RL DE CV</td>\n",
              "      <td>COMPRAS</td>\n",
              "      <td>INSULATED T/C WIRE</td>\n",
              "      <td>PUE</td>\n",
              "      <td>1.0</td>\n",
              "      <td>0.00</td>\n",
              "      <td>0.00</td>\n",
              "      <td>0.0</td>\n",
              "      <td>0.0</td>\n",
              "      <td>0.00</td>\n",
              "      <td>0.00</td>\n",
              "      <td>I</td>\n",
              "      <td>Vigente</td>\n",
              "      <td>PD02-DIC21</td>\n",
              "    </tr>\n",
              "    <tr>\n",
              "      <th>3032</th>\n",
              "      <td>2021-12-01</td>\n",
              "      <td>1092957089</td>\n",
              "      <td>255F4A25-5753-4208-8F6B-0B59E5AE4741</td>\n",
              "      <td>BMN930209927</td>\n",
              "      <td>BANCO MERCANTIL DEL NORTE SA INSTITUCION DE BA...</td>\n",
              "      <td>OTROS GASTOS</td>\n",
              "      <td>SERVICIOS BANCARIOS</td>\n",
              "      <td>PUE</td>\n",
              "      <td>1.0</td>\n",
              "      <td>22826.46</td>\n",
              "      <td>705.58</td>\n",
              "      <td>0.0</td>\n",
              "      <td>0.0</td>\n",
              "      <td>23532.04</td>\n",
              "      <td>23532.04</td>\n",
              "      <td>I</td>\n",
              "      <td>Vigente</td>\n",
              "      <td>PD02-DIC21</td>\n",
              "    </tr>\n",
              "    <tr>\n",
              "      <th>3033</th>\n",
              "      <td>2021-12-01</td>\n",
              "      <td>747826</td>\n",
              "      <td>D8226E4F-9241-44C3-86A4-CDE9BC932528</td>\n",
              "      <td>BIN940223KE0</td>\n",
              "      <td>BANCO INVEX, S.A., INSTITUCION DE BANCA MULTIP...</td>\n",
              "      <td>OTROS GASTOS</td>\n",
              "      <td>COMISIONES E INTERESES</td>\n",
              "      <td>PUE</td>\n",
              "      <td>1.0</td>\n",
              "      <td>0.00</td>\n",
              "      <td>0.00</td>\n",
              "      <td>0.0</td>\n",
              "      <td>0.0</td>\n",
              "      <td>0.00</td>\n",
              "      <td>0.00</td>\n",
              "      <td>I</td>\n",
              "      <td>Vigente</td>\n",
              "      <td>PD02-DIC21</td>\n",
              "    </tr>\n",
              "    <tr>\n",
              "      <th>3034</th>\n",
              "      <td>2021-12-01</td>\n",
              "      <td>1227374</td>\n",
              "      <td>41770F35-39EF-41A4-8DF4-EE9586CF4549</td>\n",
              "      <td>EFE8908015L3</td>\n",
              "      <td>EFECTIVALE S. de R.L. de C.V.</td>\n",
              "      <td>OTROS GASTOS</td>\n",
              "      <td>CONSUMOS DE COMBUSTIBLE DE MONEDEROS ELECTRONICOS</td>\n",
              "      <td>PUE</td>\n",
              "      <td>1.0</td>\n",
              "      <td>15656.15</td>\n",
              "      <td>0.00</td>\n",
              "      <td>0.0</td>\n",
              "      <td>0.0</td>\n",
              "      <td>15656.15</td>\n",
              "      <td>15656.15</td>\n",
              "      <td>I</td>\n",
              "      <td>Vigente</td>\n",
              "      <td>PD02-DIC21</td>\n",
              "    </tr>\n",
              "  </tbody>\n",
              "</table>\n",
              "<p>3035 rows × 18 columns</p>\n",
              "</div>\n",
              "      <button class=\"colab-df-convert\" onclick=\"convertToInteractive('df-75de39b0-e458-4fa1-a353-b531ff4c248c')\"\n",
              "              title=\"Convert this dataframe to an interactive table.\"\n",
              "              style=\"display:none;\">\n",
              "        \n",
              "  <svg xmlns=\"http://www.w3.org/2000/svg\" height=\"24px\"viewBox=\"0 0 24 24\"\n",
              "       width=\"24px\">\n",
              "    <path d=\"M0 0h24v24H0V0z\" fill=\"none\"/>\n",
              "    <path d=\"M18.56 5.44l.94 2.06.94-2.06 2.06-.94-2.06-.94-.94-2.06-.94 2.06-2.06.94zm-11 1L8.5 8.5l.94-2.06 2.06-.94-2.06-.94L8.5 2.5l-.94 2.06-2.06.94zm10 10l.94 2.06.94-2.06 2.06-.94-2.06-.94-.94-2.06-.94 2.06-2.06.94z\"/><path d=\"M17.41 7.96l-1.37-1.37c-.4-.4-.92-.59-1.43-.59-.52 0-1.04.2-1.43.59L10.3 9.45l-7.72 7.72c-.78.78-.78 2.05 0 2.83L4 21.41c.39.39.9.59 1.41.59.51 0 1.02-.2 1.41-.59l7.78-7.78 2.81-2.81c.8-.78.8-2.07 0-2.86zM5.41 20L4 18.59l7.72-7.72 1.47 1.35L5.41 20z\"/>\n",
              "  </svg>\n",
              "      </button>\n",
              "      \n",
              "  <style>\n",
              "    .colab-df-container {\n",
              "      display:flex;\n",
              "      flex-wrap:wrap;\n",
              "      gap: 12px;\n",
              "    }\n",
              "\n",
              "    .colab-df-convert {\n",
              "      background-color: #E8F0FE;\n",
              "      border: none;\n",
              "      border-radius: 50%;\n",
              "      cursor: pointer;\n",
              "      display: none;\n",
              "      fill: #1967D2;\n",
              "      height: 32px;\n",
              "      padding: 0 0 0 0;\n",
              "      width: 32px;\n",
              "    }\n",
              "\n",
              "    .colab-df-convert:hover {\n",
              "      background-color: #E2EBFA;\n",
              "      box-shadow: 0px 1px 2px rgba(60, 64, 67, 0.3), 0px 1px 3px 1px rgba(60, 64, 67, 0.15);\n",
              "      fill: #174EA6;\n",
              "    }\n",
              "\n",
              "    [theme=dark] .colab-df-convert {\n",
              "      background-color: #3B4455;\n",
              "      fill: #D2E3FC;\n",
              "    }\n",
              "\n",
              "    [theme=dark] .colab-df-convert:hover {\n",
              "      background-color: #434B5C;\n",
              "      box-shadow: 0px 1px 3px 1px rgba(0, 0, 0, 0.15);\n",
              "      filter: drop-shadow(0px 1px 2px rgba(0, 0, 0, 0.3));\n",
              "      fill: #FFFFFF;\n",
              "    }\n",
              "  </style>\n",
              "\n",
              "      <script>\n",
              "        const buttonEl =\n",
              "          document.querySelector('#df-75de39b0-e458-4fa1-a353-b531ff4c248c button.colab-df-convert');\n",
              "        buttonEl.style.display =\n",
              "          google.colab.kernel.accessAllowed ? 'block' : 'none';\n",
              "\n",
              "        async function convertToInteractive(key) {\n",
              "          const element = document.querySelector('#df-75de39b0-e458-4fa1-a353-b531ff4c248c');\n",
              "          const dataTable =\n",
              "            await google.colab.kernel.invokeFunction('convertToInteractive',\n",
              "                                                     [key], {});\n",
              "          if (!dataTable) return;\n",
              "\n",
              "          const docLinkHtml = 'Like what you see? Visit the ' +\n",
              "            '<a target=\"_blank\" href=https://colab.research.google.com/notebooks/data_table.ipynb>data table notebook</a>'\n",
              "            + ' to learn more about interactive tables.';\n",
              "          element.innerHTML = '';\n",
              "          dataTable['output_type'] = 'display_data';\n",
              "          await google.colab.output.renderOutput(dataTable, element);\n",
              "          const docLink = document.createElement('div');\n",
              "          docLink.innerHTML = docLinkHtml;\n",
              "          element.appendChild(docLink);\n",
              "        }\n",
              "      </script>\n",
              "    </div>\n",
              "  </div>\n",
              "  "
            ]
          },
          "metadata": {},
          "execution_count": 5
        }
      ]
    },
    {
      "cell_type": "code",
      "source": [
        "#Verificar los valores sin repetirse de una columna\n",
        "unico = np.unique(df2021['TIPO GASTO'])\n",
        "unico"
      ],
      "metadata": {
        "colab": {
          "base_uri": "https://localhost:8080/"
        },
        "id": "utx7i9QJUsbg",
        "outputId": "0daad485-c3f6-4061-8075-02b822748b05"
      },
      "execution_count": 6,
      "outputs": [
        {
          "output_type": "execute_result",
          "data": {
            "text/plain": [
              "array(['COMPRAS', 'OTROS GASTOS'], dtype=object)"
            ]
          },
          "metadata": {},
          "execution_count": 6
        }
      ]
    },
    {
      "cell_type": "code",
      "source": [
        "df2021[\"TIPO GASTO\"].value_counts()"
      ],
      "metadata": {
        "colab": {
          "base_uri": "https://localhost:8080/"
        },
        "id": "g1n5Ot7GVm1U",
        "outputId": "71013afa-ade9-4a50-9a06-78a48a6e6a1b"
      },
      "execution_count": 19,
      "outputs": [
        {
          "output_type": "execute_result",
          "data": {
            "text/plain": [
              "COMPRAS         1531\n",
              "OTROS GASTOS    1504\n",
              "Name: TIPO GASTO, dtype: int64"
            ]
          },
          "metadata": {},
          "execution_count": 19
        }
      ]
    },
    {
      "cell_type": "markdown",
      "source": [
        "### **Análisis**"
      ],
      "metadata": {
        "id": "6ELnMxjYV4y5"
      }
    },
    {
      "cell_type": "code",
      "source": [
        "#Declaramos las variables dependientes e independientes para la regresión Logística\n",
        "Vars_Indep= df2021[['TOTAL MX']]\n",
        "Var_Dep= df2021['TIPO GASTO']"
      ],
      "metadata": {
        "id": "FXozVZ5NV6Tz"
      },
      "execution_count": 20,
      "outputs": []
    },
    {
      "cell_type": "code",
      "source": [
        "#Redefinimos las variables \n",
        "X= Vars_Indep\n",
        "y= Var_Dep"
      ],
      "metadata": {
        "id": "Tj_0RMrGWnAZ"
      },
      "execution_count": 21,
      "outputs": []
    },
    {
      "cell_type": "code",
      "source": [
        "#Dividimos el conjunto de datos en la parte de entrenamiento y prueba:\n",
        "X_train, X_test, y_train, y_test = train_test_split(X, y, test_size=0.3, random_state =None)"
      ],
      "metadata": {
        "id": "7oyv-Rg0WooN"
      },
      "execution_count": 22,
      "outputs": []
    },
    {
      "cell_type": "code",
      "source": [
        "#Se escalan todos los datos\n",
        "escalar = StandardScaler()"
      ],
      "metadata": {
        "id": "zLwLUesZWr04"
      },
      "execution_count": 23,
      "outputs": []
    },
    {
      "cell_type": "code",
      "source": [
        "#Para realizar el escalamiento de las variables “X” tanto de entrenamiento como de prueba, utilizaremos fit_transform\n",
        "X_train = escalar.fit_transform(X_train)\n",
        "X_test = escalar.transform(X_test)"
      ],
      "metadata": {
        "id": "UXFqvaTsWrwm"
      },
      "execution_count": 24,
      "outputs": []
    },
    {
      "cell_type": "code",
      "source": [
        "#Definimos el algoritmo a utilizar\n",
        "from sklearn.linear_model import LogisticRegression\n",
        "algoritmo = LogisticRegression()"
      ],
      "metadata": {
        "id": "lrSv333VWvii"
      },
      "execution_count": 25,
      "outputs": []
    },
    {
      "cell_type": "code",
      "source": [
        "#Entrenamos el modelo\n",
        "algoritmo.fit(X_train, y_train)"
      ],
      "metadata": {
        "colab": {
          "base_uri": "https://localhost:8080/",
          "height": 75
        },
        "id": "EEAEsYJdWwuo",
        "outputId": "1fe9f0f8-6269-4bc0-ff8e-7be084940373"
      },
      "execution_count": 26,
      "outputs": [
        {
          "output_type": "execute_result",
          "data": {
            "text/plain": [
              "LogisticRegression()"
            ],
            "text/html": [
              "<style>#sk-container-id-1 {color: black;background-color: white;}#sk-container-id-1 pre{padding: 0;}#sk-container-id-1 div.sk-toggleable {background-color: white;}#sk-container-id-1 label.sk-toggleable__label {cursor: pointer;display: block;width: 100%;margin-bottom: 0;padding: 0.3em;box-sizing: border-box;text-align: center;}#sk-container-id-1 label.sk-toggleable__label-arrow:before {content: \"▸\";float: left;margin-right: 0.25em;color: #696969;}#sk-container-id-1 label.sk-toggleable__label-arrow:hover:before {color: black;}#sk-container-id-1 div.sk-estimator:hover label.sk-toggleable__label-arrow:before {color: black;}#sk-container-id-1 div.sk-toggleable__content {max-height: 0;max-width: 0;overflow: hidden;text-align: left;background-color: #f0f8ff;}#sk-container-id-1 div.sk-toggleable__content pre {margin: 0.2em;color: black;border-radius: 0.25em;background-color: #f0f8ff;}#sk-container-id-1 input.sk-toggleable__control:checked~div.sk-toggleable__content {max-height: 200px;max-width: 100%;overflow: auto;}#sk-container-id-1 input.sk-toggleable__control:checked~label.sk-toggleable__label-arrow:before {content: \"▾\";}#sk-container-id-1 div.sk-estimator input.sk-toggleable__control:checked~label.sk-toggleable__label {background-color: #d4ebff;}#sk-container-id-1 div.sk-label input.sk-toggleable__control:checked~label.sk-toggleable__label {background-color: #d4ebff;}#sk-container-id-1 input.sk-hidden--visually {border: 0;clip: rect(1px 1px 1px 1px);clip: rect(1px, 1px, 1px, 1px);height: 1px;margin: -1px;overflow: hidden;padding: 0;position: absolute;width: 1px;}#sk-container-id-1 div.sk-estimator {font-family: monospace;background-color: #f0f8ff;border: 1px dotted black;border-radius: 0.25em;box-sizing: border-box;margin-bottom: 0.5em;}#sk-container-id-1 div.sk-estimator:hover {background-color: #d4ebff;}#sk-container-id-1 div.sk-parallel-item::after {content: \"\";width: 100%;border-bottom: 1px solid gray;flex-grow: 1;}#sk-container-id-1 div.sk-label:hover label.sk-toggleable__label {background-color: #d4ebff;}#sk-container-id-1 div.sk-serial::before {content: \"\";position: absolute;border-left: 1px solid gray;box-sizing: border-box;top: 0;bottom: 0;left: 50%;z-index: 0;}#sk-container-id-1 div.sk-serial {display: flex;flex-direction: column;align-items: center;background-color: white;padding-right: 0.2em;padding-left: 0.2em;position: relative;}#sk-container-id-1 div.sk-item {position: relative;z-index: 1;}#sk-container-id-1 div.sk-parallel {display: flex;align-items: stretch;justify-content: center;background-color: white;position: relative;}#sk-container-id-1 div.sk-item::before, #sk-container-id-1 div.sk-parallel-item::before {content: \"\";position: absolute;border-left: 1px solid gray;box-sizing: border-box;top: 0;bottom: 0;left: 50%;z-index: -1;}#sk-container-id-1 div.sk-parallel-item {display: flex;flex-direction: column;z-index: 1;position: relative;background-color: white;}#sk-container-id-1 div.sk-parallel-item:first-child::after {align-self: flex-end;width: 50%;}#sk-container-id-1 div.sk-parallel-item:last-child::after {align-self: flex-start;width: 50%;}#sk-container-id-1 div.sk-parallel-item:only-child::after {width: 0;}#sk-container-id-1 div.sk-dashed-wrapped {border: 1px dashed gray;margin: 0 0.4em 0.5em 0.4em;box-sizing: border-box;padding-bottom: 0.4em;background-color: white;}#sk-container-id-1 div.sk-label label {font-family: monospace;font-weight: bold;display: inline-block;line-height: 1.2em;}#sk-container-id-1 div.sk-label-container {text-align: center;}#sk-container-id-1 div.sk-container {/* jupyter's `normalize.less` sets `[hidden] { display: none; }` but bootstrap.min.css set `[hidden] { display: none !important; }` so we also need the `!important` here to be able to override the default hidden behavior on the sphinx rendered scikit-learn.org. See: https://github.com/scikit-learn/scikit-learn/issues/21755 */display: inline-block !important;position: relative;}#sk-container-id-1 div.sk-text-repr-fallback {display: none;}</style><div id=\"sk-container-id-1\" class=\"sk-top-container\"><div class=\"sk-text-repr-fallback\"><pre>LogisticRegression()</pre><b>In a Jupyter environment, please rerun this cell to show the HTML representation or trust the notebook. <br />On GitHub, the HTML representation is unable to render, please try loading this page with nbviewer.org.</b></div><div class=\"sk-container\" hidden><div class=\"sk-item\"><div class=\"sk-estimator sk-toggleable\"><input class=\"sk-toggleable__control sk-hidden--visually\" id=\"sk-estimator-id-1\" type=\"checkbox\" checked><label for=\"sk-estimator-id-1\" class=\"sk-toggleable__label sk-toggleable__label-arrow\">LogisticRegression</label><div class=\"sk-toggleable__content\"><pre>LogisticRegression()</pre></div></div></div></div></div>"
            ]
          },
          "metadata": {},
          "execution_count": 26
        }
      ]
    },
    {
      "cell_type": "code",
      "source": [
        "#Realizamos una predicción\n",
        "y_pred = algoritmo.predict(X_test) \n",
        "y_pred"
      ],
      "metadata": {
        "colab": {
          "base_uri": "https://localhost:8080/"
        },
        "id": "yju6qXTdWyFJ",
        "outputId": "b69fad43-3655-40a9-99df-112f18c76a95"
      },
      "execution_count": 27,
      "outputs": [
        {
          "output_type": "execute_result",
          "data": {
            "text/plain": [
              "array(['COMPRAS', 'OTROS GASTOS', 'OTROS GASTOS', 'COMPRAS', 'COMPRAS',\n",
              "       'OTROS GASTOS', 'COMPRAS', 'COMPRAS', 'OTROS GASTOS', 'COMPRAS',\n",
              "       'COMPRAS', 'OTROS GASTOS', 'COMPRAS', 'COMPRAS', 'COMPRAS',\n",
              "       'OTROS GASTOS', 'COMPRAS', 'COMPRAS', 'COMPRAS', 'OTROS GASTOS',\n",
              "       'COMPRAS', 'OTROS GASTOS', 'COMPRAS', 'OTROS GASTOS',\n",
              "       'OTROS GASTOS', 'COMPRAS', 'COMPRAS', 'COMPRAS', 'OTROS GASTOS',\n",
              "       'OTROS GASTOS', 'OTROS GASTOS', 'COMPRAS', 'COMPRAS',\n",
              "       'OTROS GASTOS', 'OTROS GASTOS', 'OTROS GASTOS', 'COMPRAS',\n",
              "       'OTROS GASTOS', 'COMPRAS', 'OTROS GASTOS', 'COMPRAS',\n",
              "       'OTROS GASTOS', 'COMPRAS', 'COMPRAS', 'COMPRAS', 'COMPRAS',\n",
              "       'COMPRAS', 'COMPRAS', 'COMPRAS', 'COMPRAS', 'COMPRAS', 'COMPRAS',\n",
              "       'COMPRAS', 'OTROS GASTOS', 'COMPRAS', 'COMPRAS', 'COMPRAS',\n",
              "       'COMPRAS', 'COMPRAS', 'COMPRAS', 'COMPRAS', 'COMPRAS', 'COMPRAS',\n",
              "       'COMPRAS', 'OTROS GASTOS', 'COMPRAS', 'OTROS GASTOS', 'COMPRAS',\n",
              "       'OTROS GASTOS', 'OTROS GASTOS', 'COMPRAS', 'COMPRAS',\n",
              "       'OTROS GASTOS', 'OTROS GASTOS', 'COMPRAS', 'COMPRAS', 'COMPRAS',\n",
              "       'COMPRAS', 'COMPRAS', 'OTROS GASTOS', 'COMPRAS', 'COMPRAS',\n",
              "       'COMPRAS', 'OTROS GASTOS', 'COMPRAS', 'COMPRAS', 'COMPRAS',\n",
              "       'OTROS GASTOS', 'COMPRAS', 'COMPRAS', 'OTROS GASTOS',\n",
              "       'OTROS GASTOS', 'COMPRAS', 'COMPRAS', 'COMPRAS', 'OTROS GASTOS',\n",
              "       'COMPRAS', 'COMPRAS', 'COMPRAS', 'COMPRAS', 'COMPRAS',\n",
              "       'OTROS GASTOS', 'OTROS GASTOS', 'COMPRAS', 'COMPRAS', 'COMPRAS',\n",
              "       'COMPRAS', 'COMPRAS', 'COMPRAS', 'COMPRAS', 'OTROS GASTOS',\n",
              "       'COMPRAS', 'COMPRAS', 'OTROS GASTOS', 'COMPRAS', 'OTROS GASTOS',\n",
              "       'COMPRAS', 'COMPRAS', 'COMPRAS', 'COMPRAS', 'COMPRAS', 'COMPRAS',\n",
              "       'COMPRAS', 'COMPRAS', 'COMPRAS', 'COMPRAS', 'COMPRAS', 'COMPRAS',\n",
              "       'COMPRAS', 'COMPRAS', 'COMPRAS', 'OTROS GASTOS', 'COMPRAS',\n",
              "       'OTROS GASTOS', 'COMPRAS', 'COMPRAS', 'OTROS GASTOS', 'COMPRAS',\n",
              "       'COMPRAS', 'COMPRAS', 'OTROS GASTOS', 'COMPRAS', 'COMPRAS',\n",
              "       'COMPRAS', 'COMPRAS', 'COMPRAS', 'COMPRAS', 'COMPRAS', 'COMPRAS',\n",
              "       'COMPRAS', 'OTROS GASTOS', 'OTROS GASTOS', 'COMPRAS', 'COMPRAS',\n",
              "       'OTROS GASTOS', 'COMPRAS', 'COMPRAS', 'COMPRAS', 'COMPRAS',\n",
              "       'COMPRAS', 'COMPRAS', 'COMPRAS', 'COMPRAS', 'OTROS GASTOS',\n",
              "       'COMPRAS', 'COMPRAS', 'COMPRAS', 'OTROS GASTOS', 'COMPRAS',\n",
              "       'OTROS GASTOS', 'OTROS GASTOS', 'OTROS GASTOS', 'OTROS GASTOS',\n",
              "       'COMPRAS', 'COMPRAS', 'COMPRAS', 'COMPRAS', 'COMPRAS',\n",
              "       'OTROS GASTOS', 'COMPRAS', 'COMPRAS', 'COMPRAS', 'COMPRAS',\n",
              "       'COMPRAS', 'COMPRAS', 'OTROS GASTOS', 'COMPRAS', 'COMPRAS',\n",
              "       'OTROS GASTOS', 'COMPRAS', 'COMPRAS', 'OTROS GASTOS', 'COMPRAS',\n",
              "       'COMPRAS', 'COMPRAS', 'COMPRAS', 'COMPRAS', 'COMPRAS', 'COMPRAS',\n",
              "       'OTROS GASTOS', 'COMPRAS', 'COMPRAS', 'COMPRAS', 'OTROS GASTOS',\n",
              "       'COMPRAS', 'COMPRAS', 'OTROS GASTOS', 'COMPRAS', 'OTROS GASTOS',\n",
              "       'COMPRAS', 'COMPRAS', 'COMPRAS', 'COMPRAS', 'COMPRAS', 'COMPRAS',\n",
              "       'OTROS GASTOS', 'OTROS GASTOS', 'OTROS GASTOS', 'COMPRAS',\n",
              "       'COMPRAS', 'COMPRAS', 'COMPRAS', 'COMPRAS', 'OTROS GASTOS',\n",
              "       'COMPRAS', 'OTROS GASTOS', 'OTROS GASTOS', 'OTROS GASTOS',\n",
              "       'COMPRAS', 'COMPRAS', 'COMPRAS', 'OTROS GASTOS', 'COMPRAS',\n",
              "       'COMPRAS', 'COMPRAS', 'OTROS GASTOS', 'COMPRAS', 'COMPRAS',\n",
              "       'COMPRAS', 'COMPRAS', 'OTROS GASTOS', 'OTROS GASTOS',\n",
              "       'OTROS GASTOS', 'COMPRAS', 'COMPRAS', 'OTROS GASTOS', 'COMPRAS',\n",
              "       'COMPRAS', 'COMPRAS', 'COMPRAS', 'COMPRAS', 'COMPRAS', 'COMPRAS',\n",
              "       'COMPRAS', 'OTROS GASTOS', 'COMPRAS', 'COMPRAS', 'COMPRAS',\n",
              "       'COMPRAS', 'COMPRAS', 'COMPRAS', 'COMPRAS', 'COMPRAS',\n",
              "       'OTROS GASTOS', 'COMPRAS', 'COMPRAS', 'COMPRAS', 'COMPRAS',\n",
              "       'COMPRAS', 'COMPRAS', 'COMPRAS', 'COMPRAS', 'COMPRAS', 'COMPRAS',\n",
              "       'COMPRAS', 'COMPRAS', 'OTROS GASTOS', 'OTROS GASTOS', 'COMPRAS',\n",
              "       'COMPRAS', 'OTROS GASTOS', 'COMPRAS', 'COMPRAS', 'COMPRAS',\n",
              "       'COMPRAS', 'COMPRAS', 'COMPRAS', 'COMPRAS', 'COMPRAS', 'COMPRAS',\n",
              "       'COMPRAS', 'COMPRAS', 'COMPRAS', 'COMPRAS', 'COMPRAS', 'COMPRAS',\n",
              "       'COMPRAS', 'COMPRAS', 'COMPRAS', 'COMPRAS', 'OTROS GASTOS',\n",
              "       'COMPRAS', 'COMPRAS', 'COMPRAS', 'COMPRAS', 'COMPRAS', 'COMPRAS',\n",
              "       'OTROS GASTOS', 'COMPRAS', 'COMPRAS', 'OTROS GASTOS', 'COMPRAS',\n",
              "       'COMPRAS', 'OTROS GASTOS', 'OTROS GASTOS', 'OTROS GASTOS',\n",
              "       'COMPRAS', 'COMPRAS', 'COMPRAS', 'COMPRAS', 'COMPRAS',\n",
              "       'OTROS GASTOS', 'COMPRAS', 'COMPRAS', 'COMPRAS', 'COMPRAS',\n",
              "       'OTROS GASTOS', 'OTROS GASTOS', 'OTROS GASTOS', 'COMPRAS',\n",
              "       'OTROS GASTOS', 'COMPRAS', 'COMPRAS', 'OTROS GASTOS', 'COMPRAS',\n",
              "       'COMPRAS', 'OTROS GASTOS', 'OTROS GASTOS', 'OTROS GASTOS',\n",
              "       'COMPRAS', 'COMPRAS', 'COMPRAS', 'COMPRAS', 'COMPRAS', 'COMPRAS',\n",
              "       'OTROS GASTOS', 'COMPRAS', 'COMPRAS', 'COMPRAS', 'OTROS GASTOS',\n",
              "       'COMPRAS', 'COMPRAS', 'COMPRAS', 'COMPRAS', 'COMPRAS',\n",
              "       'OTROS GASTOS', 'COMPRAS', 'COMPRAS', 'COMPRAS', 'COMPRAS',\n",
              "       'COMPRAS', 'COMPRAS', 'OTROS GASTOS', 'COMPRAS', 'COMPRAS',\n",
              "       'COMPRAS', 'COMPRAS', 'OTROS GASTOS', 'COMPRAS', 'COMPRAS',\n",
              "       'COMPRAS', 'COMPRAS', 'COMPRAS', 'COMPRAS', 'OTROS GASTOS',\n",
              "       'OTROS GASTOS', 'COMPRAS', 'COMPRAS', 'COMPRAS', 'COMPRAS',\n",
              "       'OTROS GASTOS', 'COMPRAS', 'OTROS GASTOS', 'OTROS GASTOS',\n",
              "       'OTROS GASTOS', 'COMPRAS', 'OTROS GASTOS', 'COMPRAS', 'COMPRAS',\n",
              "       'OTROS GASTOS', 'COMPRAS', 'COMPRAS', 'COMPRAS', 'COMPRAS',\n",
              "       'COMPRAS', 'COMPRAS', 'COMPRAS', 'COMPRAS', 'COMPRAS', 'COMPRAS',\n",
              "       'COMPRAS', 'COMPRAS', 'COMPRAS', 'OTROS GASTOS', 'COMPRAS',\n",
              "       'OTROS GASTOS', 'OTROS GASTOS', 'COMPRAS', 'COMPRAS',\n",
              "       'OTROS GASTOS', 'COMPRAS', 'COMPRAS', 'COMPRAS', 'COMPRAS',\n",
              "       'COMPRAS', 'COMPRAS', 'COMPRAS', 'COMPRAS', 'COMPRAS',\n",
              "       'OTROS GASTOS', 'COMPRAS', 'COMPRAS', 'OTROS GASTOS', 'COMPRAS',\n",
              "       'COMPRAS', 'COMPRAS', 'COMPRAS', 'COMPRAS', 'COMPRAS', 'COMPRAS',\n",
              "       'COMPRAS', 'COMPRAS', 'COMPRAS', 'COMPRAS', 'COMPRAS', 'COMPRAS',\n",
              "       'COMPRAS', 'OTROS GASTOS', 'COMPRAS', 'COMPRAS', 'OTROS GASTOS',\n",
              "       'OTROS GASTOS', 'COMPRAS', 'COMPRAS', 'COMPRAS', 'COMPRAS',\n",
              "       'COMPRAS', 'COMPRAS', 'COMPRAS', 'COMPRAS', 'COMPRAS', 'COMPRAS',\n",
              "       'COMPRAS', 'COMPRAS', 'COMPRAS', 'COMPRAS', 'COMPRAS', 'COMPRAS',\n",
              "       'OTROS GASTOS', 'COMPRAS', 'COMPRAS', 'COMPRAS', 'OTROS GASTOS',\n",
              "       'COMPRAS', 'COMPRAS', 'COMPRAS', 'COMPRAS', 'COMPRAS', 'COMPRAS',\n",
              "       'COMPRAS', 'OTROS GASTOS', 'OTROS GASTOS', 'COMPRAS', 'COMPRAS',\n",
              "       'COMPRAS', 'COMPRAS', 'COMPRAS', 'COMPRAS', 'COMPRAS', 'COMPRAS',\n",
              "       'COMPRAS', 'OTROS GASTOS', 'COMPRAS', 'COMPRAS', 'COMPRAS',\n",
              "       'COMPRAS', 'COMPRAS', 'COMPRAS', 'COMPRAS', 'COMPRAS', 'COMPRAS',\n",
              "       'OTROS GASTOS', 'COMPRAS', 'OTROS GASTOS', 'COMPRAS', 'COMPRAS',\n",
              "       'OTROS GASTOS', 'OTROS GASTOS', 'COMPRAS', 'COMPRAS', 'COMPRAS',\n",
              "       'OTROS GASTOS', 'COMPRAS', 'OTROS GASTOS', 'OTROS GASTOS',\n",
              "       'COMPRAS', 'COMPRAS', 'OTROS GASTOS', 'COMPRAS', 'COMPRAS',\n",
              "       'COMPRAS', 'COMPRAS', 'COMPRAS', 'COMPRAS', 'COMPRAS', 'COMPRAS',\n",
              "       'COMPRAS', 'COMPRAS', 'COMPRAS', 'OTROS GASTOS', 'COMPRAS',\n",
              "       'COMPRAS', 'COMPRAS', 'COMPRAS', 'COMPRAS', 'COMPRAS', 'COMPRAS',\n",
              "       'COMPRAS', 'OTROS GASTOS', 'COMPRAS', 'COMPRAS', 'COMPRAS',\n",
              "       'COMPRAS', 'OTROS GASTOS', 'COMPRAS', 'COMPRAS', 'COMPRAS',\n",
              "       'COMPRAS', 'OTROS GASTOS', 'COMPRAS', 'COMPRAS', 'OTROS GASTOS',\n",
              "       'OTROS GASTOS', 'COMPRAS', 'COMPRAS', 'COMPRAS', 'COMPRAS',\n",
              "       'OTROS GASTOS', 'COMPRAS', 'COMPRAS', 'COMPRAS', 'COMPRAS',\n",
              "       'COMPRAS', 'OTROS GASTOS', 'COMPRAS', 'COMPRAS', 'COMPRAS',\n",
              "       'OTROS GASTOS', 'COMPRAS', 'COMPRAS', 'COMPRAS', 'COMPRAS',\n",
              "       'COMPRAS', 'COMPRAS', 'COMPRAS', 'OTROS GASTOS', 'COMPRAS',\n",
              "       'OTROS GASTOS', 'COMPRAS', 'COMPRAS', 'COMPRAS', 'COMPRAS',\n",
              "       'COMPRAS', 'COMPRAS', 'COMPRAS', 'COMPRAS', 'COMPRAS', 'COMPRAS',\n",
              "       'OTROS GASTOS', 'COMPRAS', 'OTROS GASTOS', 'OTROS GASTOS',\n",
              "       'COMPRAS', 'COMPRAS', 'COMPRAS', 'OTROS GASTOS', 'COMPRAS',\n",
              "       'COMPRAS', 'COMPRAS', 'OTROS GASTOS', 'OTROS GASTOS', 'COMPRAS',\n",
              "       'OTROS GASTOS', 'COMPRAS', 'COMPRAS', 'COMPRAS', 'COMPRAS',\n",
              "       'COMPRAS', 'OTROS GASTOS', 'COMPRAS', 'COMPRAS', 'OTROS GASTOS',\n",
              "       'COMPRAS', 'COMPRAS', 'COMPRAS', 'COMPRAS', 'COMPRAS', 'COMPRAS',\n",
              "       'COMPRAS', 'COMPRAS', 'COMPRAS', 'COMPRAS', 'COMPRAS',\n",
              "       'OTROS GASTOS', 'COMPRAS', 'COMPRAS', 'COMPRAS', 'COMPRAS',\n",
              "       'COMPRAS', 'COMPRAS', 'COMPRAS', 'COMPRAS', 'COMPRAS',\n",
              "       'OTROS GASTOS', 'COMPRAS', 'COMPRAS', 'COMPRAS', 'COMPRAS',\n",
              "       'COMPRAS', 'COMPRAS', 'COMPRAS', 'COMPRAS', 'COMPRAS', 'COMPRAS',\n",
              "       'OTROS GASTOS', 'COMPRAS', 'COMPRAS', 'COMPRAS', 'COMPRAS',\n",
              "       'OTROS GASTOS', 'COMPRAS', 'COMPRAS', 'COMPRAS', 'COMPRAS',\n",
              "       'OTROS GASTOS', 'COMPRAS', 'COMPRAS', 'COMPRAS', 'OTROS GASTOS',\n",
              "       'COMPRAS', 'COMPRAS', 'COMPRAS', 'COMPRAS', 'COMPRAS', 'COMPRAS',\n",
              "       'COMPRAS', 'COMPRAS', 'COMPRAS', 'COMPRAS', 'COMPRAS',\n",
              "       'OTROS GASTOS', 'COMPRAS', 'COMPRAS', 'OTROS GASTOS', 'COMPRAS',\n",
              "       'COMPRAS', 'COMPRAS', 'COMPRAS', 'COMPRAS', 'COMPRAS', 'COMPRAS',\n",
              "       'COMPRAS', 'COMPRAS', 'COMPRAS', 'COMPRAS', 'COMPRAS', 'COMPRAS',\n",
              "       'COMPRAS', 'OTROS GASTOS', 'COMPRAS', 'COMPRAS', 'COMPRAS',\n",
              "       'COMPRAS', 'COMPRAS', 'COMPRAS', 'OTROS GASTOS', 'COMPRAS',\n",
              "       'COMPRAS', 'OTROS GASTOS', 'COMPRAS', 'COMPRAS', 'COMPRAS',\n",
              "       'OTROS GASTOS', 'COMPRAS', 'COMPRAS', 'OTROS GASTOS', 'COMPRAS',\n",
              "       'COMPRAS', 'OTROS GASTOS', 'COMPRAS', 'COMPRAS', 'COMPRAS',\n",
              "       'COMPRAS', 'COMPRAS', 'COMPRAS', 'COMPRAS', 'COMPRAS', 'COMPRAS',\n",
              "       'COMPRAS', 'COMPRAS', 'COMPRAS', 'COMPRAS', 'COMPRAS',\n",
              "       'OTROS GASTOS', 'COMPRAS', 'COMPRAS', 'COMPRAS', 'COMPRAS',\n",
              "       'OTROS GASTOS', 'COMPRAS', 'OTROS GASTOS', 'COMPRAS', 'COMPRAS',\n",
              "       'COMPRAS', 'COMPRAS', 'COMPRAS', 'COMPRAS', 'COMPRAS', 'COMPRAS',\n",
              "       'COMPRAS', 'COMPRAS', 'COMPRAS', 'OTROS GASTOS', 'COMPRAS',\n",
              "       'COMPRAS', 'COMPRAS', 'COMPRAS', 'COMPRAS', 'OTROS GASTOS',\n",
              "       'OTROS GASTOS', 'COMPRAS', 'OTROS GASTOS', 'COMPRAS', 'COMPRAS',\n",
              "       'OTROS GASTOS', 'COMPRAS', 'OTROS GASTOS', 'OTROS GASTOS',\n",
              "       'COMPRAS', 'COMPRAS', 'COMPRAS', 'COMPRAS', 'COMPRAS', 'COMPRAS',\n",
              "       'COMPRAS', 'OTROS GASTOS', 'COMPRAS', 'COMPRAS', 'COMPRAS',\n",
              "       'COMPRAS', 'COMPRAS', 'COMPRAS', 'COMPRAS', 'OTROS GASTOS',\n",
              "       'COMPRAS', 'COMPRAS', 'COMPRAS', 'COMPRAS', 'COMPRAS', 'COMPRAS',\n",
              "       'COMPRAS', 'OTROS GASTOS', 'COMPRAS', 'COMPRAS', 'COMPRAS',\n",
              "       'COMPRAS', 'OTROS GASTOS', 'COMPRAS', 'COMPRAS', 'COMPRAS',\n",
              "       'COMPRAS', 'COMPRAS', 'COMPRAS', 'COMPRAS', 'COMPRAS', 'COMPRAS',\n",
              "       'OTROS GASTOS', 'COMPRAS', 'COMPRAS', 'COMPRAS', 'COMPRAS',\n",
              "       'COMPRAS', 'COMPRAS', 'COMPRAS', 'COMPRAS', 'COMPRAS',\n",
              "       'OTROS GASTOS', 'OTROS GASTOS', 'COMPRAS', 'COMPRAS', 'COMPRAS',\n",
              "       'OTROS GASTOS', 'OTROS GASTOS', 'COMPRAS', 'COMPRAS', 'COMPRAS',\n",
              "       'COMPRAS', 'COMPRAS', 'COMPRAS', 'COMPRAS', 'COMPRAS', 'COMPRAS',\n",
              "       'OTROS GASTOS', 'COMPRAS', 'OTROS GASTOS', 'COMPRAS', 'COMPRAS',\n",
              "       'COMPRAS', 'COMPRAS', 'COMPRAS', 'COMPRAS', 'COMPRAS', 'COMPRAS',\n",
              "       'COMPRAS', 'OTROS GASTOS', 'COMPRAS', 'COMPRAS', 'COMPRAS',\n",
              "       'COMPRAS', 'COMPRAS', 'COMPRAS', 'OTROS GASTOS', 'OTROS GASTOS',\n",
              "       'OTROS GASTOS', 'OTROS GASTOS', 'COMPRAS', 'COMPRAS', 'COMPRAS',\n",
              "       'COMPRAS', 'OTROS GASTOS', 'COMPRAS', 'COMPRAS', 'COMPRAS',\n",
              "       'COMPRAS', 'COMPRAS', 'COMPRAS', 'OTROS GASTOS', 'COMPRAS',\n",
              "       'OTROS GASTOS', 'COMPRAS', 'COMPRAS', 'OTROS GASTOS', 'COMPRAS',\n",
              "       'COMPRAS', 'COMPRAS', 'COMPRAS', 'COMPRAS', 'COMPRAS', 'COMPRAS',\n",
              "       'COMPRAS', 'OTROS GASTOS', 'COMPRAS', 'COMPRAS', 'COMPRAS',\n",
              "       'COMPRAS', 'COMPRAS', 'OTROS GASTOS', 'OTROS GASTOS', 'COMPRAS',\n",
              "       'COMPRAS', 'OTROS GASTOS', 'COMPRAS', 'COMPRAS', 'COMPRAS',\n",
              "       'COMPRAS', 'COMPRAS', 'COMPRAS', 'COMPRAS', 'COMPRAS', 'COMPRAS',\n",
              "       'COMPRAS', 'COMPRAS', 'COMPRAS', 'COMPRAS', 'COMPRAS',\n",
              "       'OTROS GASTOS', 'COMPRAS', 'OTROS GASTOS', 'COMPRAS', 'COMPRAS',\n",
              "       'OTROS GASTOS', 'COMPRAS', 'OTROS GASTOS', 'COMPRAS', 'COMPRAS',\n",
              "       'OTROS GASTOS', 'COMPRAS', 'OTROS GASTOS', 'COMPRAS', 'COMPRAS',\n",
              "       'COMPRAS', 'COMPRAS', 'COMPRAS', 'COMPRAS', 'COMPRAS', 'COMPRAS',\n",
              "       'COMPRAS', 'COMPRAS', 'COMPRAS', 'COMPRAS', 'COMPRAS'],\n",
              "      dtype=object)"
            ]
          },
          "metadata": {},
          "execution_count": 27
        }
      ]
    },
    {
      "cell_type": "code",
      "source": [
        "#Verifico la matriz de Confusión\n",
        "from sklearn.metrics import confusion_matrix\n",
        "matriz = confusion_matrix(y_test, y_pred)\n",
        "print('Matriz de Confusión:')\n",
        "print(matriz)"
      ],
      "metadata": {
        "colab": {
          "base_uri": "https://localhost:8080/"
        },
        "id": "82pP5v-aW1gt",
        "outputId": "9fb54325-fa6e-47d2-e98e-3fb1fec76d76"
      },
      "execution_count": 28,
      "outputs": [
        {
          "output_type": "stream",
          "name": "stdout",
          "text": [
            "Matriz de Confusión:\n",
            "[[365 101]\n",
            " [346  99]]\n"
          ]
        }
      ]
    },
    {
      "cell_type": "code",
      "source": [
        "#Calculo la precisión del modelo\n",
        "from sklearn.metrics import precision_score\n",
        "\n",
        "precision = precision_score(y_test, y_pred, average=\"binary\", pos_label=\"COMPRAS\")\n",
        "print('Precisión del modelo:')\n",
        "print(precision)"
      ],
      "metadata": {
        "colab": {
          "base_uri": "https://localhost:8080/"
        },
        "id": "XCZzY4JgW-1h",
        "outputId": "e8319824-6527-4ec5-aaf4-0cfe0147b192"
      },
      "execution_count": 30,
      "outputs": [
        {
          "output_type": "stream",
          "name": "stdout",
          "text": [
            "Precisión del modelo:\n",
            "0.5133614627285513\n"
          ]
        }
      ]
    },
    {
      "cell_type": "code",
      "source": [
        "#Calculo la exactitud del modelo\n",
        "from sklearn.metrics import accuracy_score\n",
        "\n",
        "exactitud = accuracy_score(y_test, y_pred)\n",
        "print('Exactitud del modelo:')\n",
        "print(exactitud)"
      ],
      "metadata": {
        "colab": {
          "base_uri": "https://localhost:8080/"
        },
        "id": "3h8zzrI8XD71",
        "outputId": "909a94e0-6dfe-4fa6-bcbe-8219959b8208"
      },
      "execution_count": 31,
      "outputs": [
        {
          "output_type": "stream",
          "name": "stdout",
          "text": [
            "Exactitud del modelo:\n",
            "0.5093304061470911\n"
          ]
        }
      ]
    },
    {
      "cell_type": "code",
      "source": [
        "#Calculo la sensibilidad del modelo\n",
        "from sklearn.metrics import recall_score\n",
        "\n",
        "sensibilidad = recall_score(y_test, y_pred, average=\"binary\", pos_label=\"COMPRAS\")\n",
        "print('Sensibilidad del modelo:')\n",
        "print(sensibilidad)"
      ],
      "metadata": {
        "colab": {
          "base_uri": "https://localhost:8080/"
        },
        "id": "dJ_QIP5rXGOO",
        "outputId": "4392fd35-38a9-4d2d-aa42-ae025fadd840"
      },
      "execution_count": 33,
      "outputs": [
        {
          "output_type": "stream",
          "name": "stdout",
          "text": [
            "Sensibilidad del modelo:\n",
            "0.7832618025751072\n"
          ]
        }
      ]
    },
    {
      "cell_type": "code",
      "source": [
        "# el puntaje F1 que es una combinación entre la precisión y la sensibilidad, para esto importamos f1_score.\n",
        "#Calculo el Puntaje F1 del modelo\n",
        "from sklearn.metrics import f1_score\n",
        "\n",
        "puntajef1 = f1_score(y_test, y_pred, average=\"binary\", pos_label=\"COMPRAS\")\n",
        "print('Puntaje F1 del modelo:')\n",
        "print(puntajef1)"
      ],
      "metadata": {
        "colab": {
          "base_uri": "https://localhost:8080/"
        },
        "id": "wnJj8g3AXKVj",
        "outputId": "df17fef2-e66a-47da-f632-aaad12d38627"
      },
      "execution_count": 35,
      "outputs": [
        {
          "output_type": "stream",
          "name": "stdout",
          "text": [
            "Puntaje F1 del modelo:\n",
            "0.6202209005947324\n"
          ]
        }
      ]
    },
    {
      "cell_type": "markdown",
      "source": [
        "# **2022**"
      ],
      "metadata": {
        "id": "le5Nhb-4aEwP"
      }
    },
    {
      "cell_type": "code",
      "source": [
        "#Cargar archivo csv desde seaborn\n",
        "df_2022= pd.read_excel(\"GastosCostos2023_adecuado.xlsx\", sheet_name=\"2022\")\n",
        "df_2022"
      ],
      "metadata": {
        "colab": {
          "base_uri": "https://localhost:8080/",
          "height": 1000
        },
        "id": "7MfBU8OCQJgw",
        "outputId": "66f62d6b-ed11-4f70-d6dc-b1caa812ab3a"
      },
      "execution_count": null,
      "outputs": [
        {
          "output_type": "execute_result",
          "data": {
            "text/plain": [
              "          Fecha         Folio                                  UUID  \\\n",
              "0    2022-01-01        280108  9DA0E63F-1D47-441F-93D7-C2E05AE4D35E   \n",
              "1    2022-01-01        280109  7E00E776-A839-4D57-B291-411109164B2F   \n",
              "2    2022-01-01  007817297284  BB6585C1-3B54-4130-AFD0-1867C3764821   \n",
              "3    2022-01-01          5595  B5E4B4EB-6C2F-11EC-BB9D-00155D014009   \n",
              "4    2022-01-01          5614  BB6756D1-6CCD-11EC-947D-00155D014407   \n",
              "...         ...           ...                                   ...   \n",
              "2572 2022-12-01        863376  E90DA089-3C3B-45C8-A19C-B8810D222F60   \n",
              "2573 2022-12-01    1092957089  D720ED7C-F370-4236-B269-8873ABB78745   \n",
              "2574 2022-12-01             4  0AFD3EB5-F3DD-43EB-B9FA-79D793CFF417   \n",
              "2575 2022-12-01            16  E3CA1DA8-581A-5844-80D2-CF0317B3BBEA   \n",
              "2576 2022-12-01            17  17178BA2-9CCE-54F8-A4B8-3E5F98D4DB8E   \n",
              "\n",
              "                RFC                                          Proveedor  \\\n",
              "0      BLE1512082R9                       BEPENSA LEASING S.A. DE C.V.   \n",
              "1      BLE1512082R9                       BEPENSA LEASING S.A. DE C.V.   \n",
              "2      BNM840515VB1                     BANCO NACIONAL DE MEXICO, S.A.   \n",
              "3     ZEGC530520V4A                   CARLOS ENRIQUE ZERMEÑO GUTIERREZ   \n",
              "4     ZEGC530520V4A                   CARLOS ENRIQUE ZERMEÑO GUTIERREZ   \n",
              "...             ...                                                ...   \n",
              "2572   BIN940223KE0  BANCO INVEX, S.A., INSTITUCION DE BANCA MULTIP...   \n",
              "2573   BMN930209927  BANCO MERCANTIL DEL NORTE SA INSTITUCION DE BA...   \n",
              "2574   AAE6411055P8               Aesa Articulos Electricos S.A de C.V   \n",
              "2575   AAE6411055P8                          AESA ARTICULOS ELECTRICOS   \n",
              "2576   AAE6411055P8                          AESA ARTICULOS ELECTRICOS   \n",
              "\n",
              "                    TIPO GASTO  \\\n",
              "0     ARRENDAMIENTO FINANCIERO   \n",
              "1     ARRENDAMIENTO FINANCIERO   \n",
              "2            COMISION BANCARIA   \n",
              "3                      COMPRAS   \n",
              "4                      COMPRAS   \n",
              "...                        ...   \n",
              "2572         COMISION BANCARIA   \n",
              "2573         COMISION BANCARIA   \n",
              "2574                   COMPRAS   \n",
              "2575                   COMPRAS   \n",
              "2576                   COMPRAS   \n",
              "\n",
              "                                            Descripción   MP   TC   Importe  \\\n",
              "0     AA RENTA EXIGIBLE CL0000006876 18/36 de 03/12/...  PPD  1.0   5551.38   \n",
              "1     AA RENTA EXIGIBLE CL0000006877 18/36 de 03/12/...  PPD  1.0   5551.98   \n",
              "2                              Servicios de Facturación  PUE  1.0      0.00   \n",
              "3                                                  Pago  NaN  1.0      0.00   \n",
              "4                                                  Pago  NaN  1.0      0.00   \n",
              "...                                                 ...  ...  ...       ...   \n",
              "2572                             COMISIONES E INTERESES  PUE  1.0      0.00   \n",
              "2573                                SERVICIOS BANCARIOS  PUE  1.0  17310.30   \n",
              "2574                                               Pago  NaN  NaN      0.00   \n",
              "2575                                               Pago  NaN  NaN      0.00   \n",
              "2576                                               Pago  NaN  NaN      0.00   \n",
              "\n",
              "         IVA  RET ISR  RET IVA  Otros  TOTAL MX  TOTAL SAT Tipo   Status  \\\n",
              "0     888.22      0.0      0.0    NaN   6439.60    6439.60    I  Vigente   \n",
              "1     888.32      0.0      0.0    NaN   6440.30    6440.30    I  Vigente   \n",
              "2       0.00      0.0      0.0    NaN      0.00       0.00    I  Vigente   \n",
              "3       0.00      0.0      0.0    NaN      0.00       0.00    P  Vigente   \n",
              "4       0.00      0.0      0.0    NaN      0.00       0.00    P  Vigente   \n",
              "...      ...      ...      ...    ...       ...        ...  ...      ...   \n",
              "2572    0.00      0.0      0.0    NaN      0.00       0.00    I  Vigente   \n",
              "2573  516.32      0.0      0.0    NaN  17826.62   17826.62    I  Vigente   \n",
              "2574    0.00      0.0      0.0    NaN      0.00       0.00    P  Vigente   \n",
              "2575    0.00      0.0      0.0    NaN      0.00       0.00    P  Vigente   \n",
              "2576    0.00      0.0      0.0    NaN      0.00       0.00    P  Vigente   \n",
              "\n",
              "          Poliza  \n",
              "0     PE02-ENE22  \n",
              "1     PE03-ENE22  \n",
              "2            NaN  \n",
              "3            NaN  \n",
              "4            NaN  \n",
              "...          ...  \n",
              "2572         NaN  \n",
              "2573         NaN  \n",
              "2574         NaN  \n",
              "2575         NaN  \n",
              "2576         NaN  \n",
              "\n",
              "[2577 rows x 19 columns]"
            ],
            "text/html": [
              "\n",
              "  <div id=\"df-94190b6f-a1c3-49d8-ac66-41af5c20af46\">\n",
              "    <div class=\"colab-df-container\">\n",
              "      <div>\n",
              "<style scoped>\n",
              "    .dataframe tbody tr th:only-of-type {\n",
              "        vertical-align: middle;\n",
              "    }\n",
              "\n",
              "    .dataframe tbody tr th {\n",
              "        vertical-align: top;\n",
              "    }\n",
              "\n",
              "    .dataframe thead th {\n",
              "        text-align: right;\n",
              "    }\n",
              "</style>\n",
              "<table border=\"1\" class=\"dataframe\">\n",
              "  <thead>\n",
              "    <tr style=\"text-align: right;\">\n",
              "      <th></th>\n",
              "      <th>Fecha</th>\n",
              "      <th>Folio</th>\n",
              "      <th>UUID</th>\n",
              "      <th>RFC</th>\n",
              "      <th>Proveedor</th>\n",
              "      <th>TIPO GASTO</th>\n",
              "      <th>Descripción</th>\n",
              "      <th>MP</th>\n",
              "      <th>TC</th>\n",
              "      <th>Importe</th>\n",
              "      <th>IVA</th>\n",
              "      <th>RET ISR</th>\n",
              "      <th>RET IVA</th>\n",
              "      <th>Otros</th>\n",
              "      <th>TOTAL MX</th>\n",
              "      <th>TOTAL SAT</th>\n",
              "      <th>Tipo</th>\n",
              "      <th>Status</th>\n",
              "      <th>Poliza</th>\n",
              "    </tr>\n",
              "  </thead>\n",
              "  <tbody>\n",
              "    <tr>\n",
              "      <th>0</th>\n",
              "      <td>2022-01-01</td>\n",
              "      <td>280108</td>\n",
              "      <td>9DA0E63F-1D47-441F-93D7-C2E05AE4D35E</td>\n",
              "      <td>BLE1512082R9</td>\n",
              "      <td>BEPENSA LEASING S.A. DE C.V.</td>\n",
              "      <td>ARRENDAMIENTO FINANCIERO</td>\n",
              "      <td>AA RENTA EXIGIBLE CL0000006876 18/36 de 03/12/...</td>\n",
              "      <td>PPD</td>\n",
              "      <td>1.0</td>\n",
              "      <td>5551.38</td>\n",
              "      <td>888.22</td>\n",
              "      <td>0.0</td>\n",
              "      <td>0.0</td>\n",
              "      <td>NaN</td>\n",
              "      <td>6439.60</td>\n",
              "      <td>6439.60</td>\n",
              "      <td>I</td>\n",
              "      <td>Vigente</td>\n",
              "      <td>PE02-ENE22</td>\n",
              "    </tr>\n",
              "    <tr>\n",
              "      <th>1</th>\n",
              "      <td>2022-01-01</td>\n",
              "      <td>280109</td>\n",
              "      <td>7E00E776-A839-4D57-B291-411109164B2F</td>\n",
              "      <td>BLE1512082R9</td>\n",
              "      <td>BEPENSA LEASING S.A. DE C.V.</td>\n",
              "      <td>ARRENDAMIENTO FINANCIERO</td>\n",
              "      <td>AA RENTA EXIGIBLE CL0000006877 18/36 de 03/12/...</td>\n",
              "      <td>PPD</td>\n",
              "      <td>1.0</td>\n",
              "      <td>5551.98</td>\n",
              "      <td>888.32</td>\n",
              "      <td>0.0</td>\n",
              "      <td>0.0</td>\n",
              "      <td>NaN</td>\n",
              "      <td>6440.30</td>\n",
              "      <td>6440.30</td>\n",
              "      <td>I</td>\n",
              "      <td>Vigente</td>\n",
              "      <td>PE03-ENE22</td>\n",
              "    </tr>\n",
              "    <tr>\n",
              "      <th>2</th>\n",
              "      <td>2022-01-01</td>\n",
              "      <td>007817297284</td>\n",
              "      <td>BB6585C1-3B54-4130-AFD0-1867C3764821</td>\n",
              "      <td>BNM840515VB1</td>\n",
              "      <td>BANCO NACIONAL DE MEXICO, S.A.</td>\n",
              "      <td>COMISION BANCARIA</td>\n",
              "      <td>Servicios de Facturación</td>\n",
              "      <td>PUE</td>\n",
              "      <td>1.0</td>\n",
              "      <td>0.00</td>\n",
              "      <td>0.00</td>\n",
              "      <td>0.0</td>\n",
              "      <td>0.0</td>\n",
              "      <td>NaN</td>\n",
              "      <td>0.00</td>\n",
              "      <td>0.00</td>\n",
              "      <td>I</td>\n",
              "      <td>Vigente</td>\n",
              "      <td>NaN</td>\n",
              "    </tr>\n",
              "    <tr>\n",
              "      <th>3</th>\n",
              "      <td>2022-01-01</td>\n",
              "      <td>5595</td>\n",
              "      <td>B5E4B4EB-6C2F-11EC-BB9D-00155D014009</td>\n",
              "      <td>ZEGC530520V4A</td>\n",
              "      <td>CARLOS ENRIQUE ZERMEÑO GUTIERREZ</td>\n",
              "      <td>COMPRAS</td>\n",
              "      <td>Pago</td>\n",
              "      <td>NaN</td>\n",
              "      <td>1.0</td>\n",
              "      <td>0.00</td>\n",
              "      <td>0.00</td>\n",
              "      <td>0.0</td>\n",
              "      <td>0.0</td>\n",
              "      <td>NaN</td>\n",
              "      <td>0.00</td>\n",
              "      <td>0.00</td>\n",
              "      <td>P</td>\n",
              "      <td>Vigente</td>\n",
              "      <td>NaN</td>\n",
              "    </tr>\n",
              "    <tr>\n",
              "      <th>4</th>\n",
              "      <td>2022-01-01</td>\n",
              "      <td>5614</td>\n",
              "      <td>BB6756D1-6CCD-11EC-947D-00155D014407</td>\n",
              "      <td>ZEGC530520V4A</td>\n",
              "      <td>CARLOS ENRIQUE ZERMEÑO GUTIERREZ</td>\n",
              "      <td>COMPRAS</td>\n",
              "      <td>Pago</td>\n",
              "      <td>NaN</td>\n",
              "      <td>1.0</td>\n",
              "      <td>0.00</td>\n",
              "      <td>0.00</td>\n",
              "      <td>0.0</td>\n",
              "      <td>0.0</td>\n",
              "      <td>NaN</td>\n",
              "      <td>0.00</td>\n",
              "      <td>0.00</td>\n",
              "      <td>P</td>\n",
              "      <td>Vigente</td>\n",
              "      <td>NaN</td>\n",
              "    </tr>\n",
              "    <tr>\n",
              "      <th>...</th>\n",
              "      <td>...</td>\n",
              "      <td>...</td>\n",
              "      <td>...</td>\n",
              "      <td>...</td>\n",
              "      <td>...</td>\n",
              "      <td>...</td>\n",
              "      <td>...</td>\n",
              "      <td>...</td>\n",
              "      <td>...</td>\n",
              "      <td>...</td>\n",
              "      <td>...</td>\n",
              "      <td>...</td>\n",
              "      <td>...</td>\n",
              "      <td>...</td>\n",
              "      <td>...</td>\n",
              "      <td>...</td>\n",
              "      <td>...</td>\n",
              "      <td>...</td>\n",
              "      <td>...</td>\n",
              "    </tr>\n",
              "    <tr>\n",
              "      <th>2572</th>\n",
              "      <td>2022-12-01</td>\n",
              "      <td>863376</td>\n",
              "      <td>E90DA089-3C3B-45C8-A19C-B8810D222F60</td>\n",
              "      <td>BIN940223KE0</td>\n",
              "      <td>BANCO INVEX, S.A., INSTITUCION DE BANCA MULTIP...</td>\n",
              "      <td>COMISION BANCARIA</td>\n",
              "      <td>COMISIONES E INTERESES</td>\n",
              "      <td>PUE</td>\n",
              "      <td>1.0</td>\n",
              "      <td>0.00</td>\n",
              "      <td>0.00</td>\n",
              "      <td>0.0</td>\n",
              "      <td>0.0</td>\n",
              "      <td>NaN</td>\n",
              "      <td>0.00</td>\n",
              "      <td>0.00</td>\n",
              "      <td>I</td>\n",
              "      <td>Vigente</td>\n",
              "      <td>NaN</td>\n",
              "    </tr>\n",
              "    <tr>\n",
              "      <th>2573</th>\n",
              "      <td>2022-12-01</td>\n",
              "      <td>1092957089</td>\n",
              "      <td>D720ED7C-F370-4236-B269-8873ABB78745</td>\n",
              "      <td>BMN930209927</td>\n",
              "      <td>BANCO MERCANTIL DEL NORTE SA INSTITUCION DE BA...</td>\n",
              "      <td>COMISION BANCARIA</td>\n",
              "      <td>SERVICIOS BANCARIOS</td>\n",
              "      <td>PUE</td>\n",
              "      <td>1.0</td>\n",
              "      <td>17310.30</td>\n",
              "      <td>516.32</td>\n",
              "      <td>0.0</td>\n",
              "      <td>0.0</td>\n",
              "      <td>NaN</td>\n",
              "      <td>17826.62</td>\n",
              "      <td>17826.62</td>\n",
              "      <td>I</td>\n",
              "      <td>Vigente</td>\n",
              "      <td>NaN</td>\n",
              "    </tr>\n",
              "    <tr>\n",
              "      <th>2574</th>\n",
              "      <td>2022-12-01</td>\n",
              "      <td>4</td>\n",
              "      <td>0AFD3EB5-F3DD-43EB-B9FA-79D793CFF417</td>\n",
              "      <td>AAE6411055P8</td>\n",
              "      <td>Aesa Articulos Electricos S.A de C.V</td>\n",
              "      <td>COMPRAS</td>\n",
              "      <td>Pago</td>\n",
              "      <td>NaN</td>\n",
              "      <td>NaN</td>\n",
              "      <td>0.00</td>\n",
              "      <td>0.00</td>\n",
              "      <td>0.0</td>\n",
              "      <td>0.0</td>\n",
              "      <td>NaN</td>\n",
              "      <td>0.00</td>\n",
              "      <td>0.00</td>\n",
              "      <td>P</td>\n",
              "      <td>Vigente</td>\n",
              "      <td>NaN</td>\n",
              "    </tr>\n",
              "    <tr>\n",
              "      <th>2575</th>\n",
              "      <td>2022-12-01</td>\n",
              "      <td>16</td>\n",
              "      <td>E3CA1DA8-581A-5844-80D2-CF0317B3BBEA</td>\n",
              "      <td>AAE6411055P8</td>\n",
              "      <td>AESA ARTICULOS ELECTRICOS</td>\n",
              "      <td>COMPRAS</td>\n",
              "      <td>Pago</td>\n",
              "      <td>NaN</td>\n",
              "      <td>NaN</td>\n",
              "      <td>0.00</td>\n",
              "      <td>0.00</td>\n",
              "      <td>0.0</td>\n",
              "      <td>0.0</td>\n",
              "      <td>NaN</td>\n",
              "      <td>0.00</td>\n",
              "      <td>0.00</td>\n",
              "      <td>P</td>\n",
              "      <td>Vigente</td>\n",
              "      <td>NaN</td>\n",
              "    </tr>\n",
              "    <tr>\n",
              "      <th>2576</th>\n",
              "      <td>2022-12-01</td>\n",
              "      <td>17</td>\n",
              "      <td>17178BA2-9CCE-54F8-A4B8-3E5F98D4DB8E</td>\n",
              "      <td>AAE6411055P8</td>\n",
              "      <td>AESA ARTICULOS ELECTRICOS</td>\n",
              "      <td>COMPRAS</td>\n",
              "      <td>Pago</td>\n",
              "      <td>NaN</td>\n",
              "      <td>NaN</td>\n",
              "      <td>0.00</td>\n",
              "      <td>0.00</td>\n",
              "      <td>0.0</td>\n",
              "      <td>0.0</td>\n",
              "      <td>NaN</td>\n",
              "      <td>0.00</td>\n",
              "      <td>0.00</td>\n",
              "      <td>P</td>\n",
              "      <td>Vigente</td>\n",
              "      <td>NaN</td>\n",
              "    </tr>\n",
              "  </tbody>\n",
              "</table>\n",
              "<p>2577 rows × 19 columns</p>\n",
              "</div>\n",
              "      <button class=\"colab-df-convert\" onclick=\"convertToInteractive('df-94190b6f-a1c3-49d8-ac66-41af5c20af46')\"\n",
              "              title=\"Convert this dataframe to an interactive table.\"\n",
              "              style=\"display:none;\">\n",
              "        \n",
              "  <svg xmlns=\"http://www.w3.org/2000/svg\" height=\"24px\"viewBox=\"0 0 24 24\"\n",
              "       width=\"24px\">\n",
              "    <path d=\"M0 0h24v24H0V0z\" fill=\"none\"/>\n",
              "    <path d=\"M18.56 5.44l.94 2.06.94-2.06 2.06-.94-2.06-.94-.94-2.06-.94 2.06-2.06.94zm-11 1L8.5 8.5l.94-2.06 2.06-.94-2.06-.94L8.5 2.5l-.94 2.06-2.06.94zm10 10l.94 2.06.94-2.06 2.06-.94-2.06-.94-.94-2.06-.94 2.06-2.06.94z\"/><path d=\"M17.41 7.96l-1.37-1.37c-.4-.4-.92-.59-1.43-.59-.52 0-1.04.2-1.43.59L10.3 9.45l-7.72 7.72c-.78.78-.78 2.05 0 2.83L4 21.41c.39.39.9.59 1.41.59.51 0 1.02-.2 1.41-.59l7.78-7.78 2.81-2.81c.8-.78.8-2.07 0-2.86zM5.41 20L4 18.59l7.72-7.72 1.47 1.35L5.41 20z\"/>\n",
              "  </svg>\n",
              "      </button>\n",
              "      \n",
              "  <style>\n",
              "    .colab-df-container {\n",
              "      display:flex;\n",
              "      flex-wrap:wrap;\n",
              "      gap: 12px;\n",
              "    }\n",
              "\n",
              "    .colab-df-convert {\n",
              "      background-color: #E8F0FE;\n",
              "      border: none;\n",
              "      border-radius: 50%;\n",
              "      cursor: pointer;\n",
              "      display: none;\n",
              "      fill: #1967D2;\n",
              "      height: 32px;\n",
              "      padding: 0 0 0 0;\n",
              "      width: 32px;\n",
              "    }\n",
              "\n",
              "    .colab-df-convert:hover {\n",
              "      background-color: #E2EBFA;\n",
              "      box-shadow: 0px 1px 2px rgba(60, 64, 67, 0.3), 0px 1px 3px 1px rgba(60, 64, 67, 0.15);\n",
              "      fill: #174EA6;\n",
              "    }\n",
              "\n",
              "    [theme=dark] .colab-df-convert {\n",
              "      background-color: #3B4455;\n",
              "      fill: #D2E3FC;\n",
              "    }\n",
              "\n",
              "    [theme=dark] .colab-df-convert:hover {\n",
              "      background-color: #434B5C;\n",
              "      box-shadow: 0px 1px 3px 1px rgba(0, 0, 0, 0.15);\n",
              "      filter: drop-shadow(0px 1px 2px rgba(0, 0, 0, 0.3));\n",
              "      fill: #FFFFFF;\n",
              "    }\n",
              "  </style>\n",
              "\n",
              "      <script>\n",
              "        const buttonEl =\n",
              "          document.querySelector('#df-94190b6f-a1c3-49d8-ac66-41af5c20af46 button.colab-df-convert');\n",
              "        buttonEl.style.display =\n",
              "          google.colab.kernel.accessAllowed ? 'block' : 'none';\n",
              "\n",
              "        async function convertToInteractive(key) {\n",
              "          const element = document.querySelector('#df-94190b6f-a1c3-49d8-ac66-41af5c20af46');\n",
              "          const dataTable =\n",
              "            await google.colab.kernel.invokeFunction('convertToInteractive',\n",
              "                                                     [key], {});\n",
              "          if (!dataTable) return;\n",
              "\n",
              "          const docLinkHtml = 'Like what you see? Visit the ' +\n",
              "            '<a target=\"_blank\" href=https://colab.research.google.com/notebooks/data_table.ipynb>data table notebook</a>'\n",
              "            + ' to learn more about interactive tables.';\n",
              "          element.innerHTML = '';\n",
              "          dataTable['output_type'] = 'display_data';\n",
              "          await google.colab.output.renderOutput(dataTable, element);\n",
              "          const docLink = document.createElement('div');\n",
              "          docLink.innerHTML = docLinkHtml;\n",
              "          element.appendChild(docLink);\n",
              "        }\n",
              "      </script>\n",
              "    </div>\n",
              "  </div>\n",
              "  "
            ]
          },
          "metadata": {},
          "execution_count": 286
        }
      ]
    },
    {
      "cell_type": "code",
      "source": [
        "df_2022['IVA'].fillna(df_2022['IVA'].mean(), inplace=True)"
      ],
      "metadata": {
        "id": "eC7Xts7aRcFY"
      },
      "execution_count": null,
      "outputs": []
    },
    {
      "cell_type": "code",
      "source": [
        "#Convierto una variable a dicotómica \n",
        "df_2022['TIPO GASTO'].replace('COMPRAS ','COMPRAS', inplace=True)\n",
        "import numpy as np\n",
        "\n",
        "df_2022['TIPO GASTO'] = np.where(df_2022['TIPO GASTO'].isin(['COMPRAS']), df_2022['TIPO GASTO'], 'OTROS GASTOS')\n",
        "df_2022['TIPO GASTO'].value_counts()"
      ],
      "metadata": {
        "colab": {
          "base_uri": "https://localhost:8080/"
        },
        "id": "ptAwDQV4Tg__",
        "outputId": "2ee64b04-17b1-4c62-cc5c-30eb3aacc3e3"
      },
      "execution_count": null,
      "outputs": [
        {
          "output_type": "execute_result",
          "data": {
            "text/plain": [
              "OTROS GASTOS    1363\n",
              "COMPRAS         1214\n",
              "Name: TIPO GASTO, dtype: int64"
            ]
          },
          "metadata": {},
          "execution_count": 288
        }
      ]
    },
    {
      "cell_type": "code",
      "source": [
        "#Declaramos las variables dependientes e independientes para la regresión Logística\n",
        "Vars_Indep= df_2022[['TOTAL MX']]\n",
        "Var_Dep= df_2022['TIPO GASTO']"
      ],
      "metadata": {
        "id": "mMQhhbxHRcHn"
      },
      "execution_count": null,
      "outputs": []
    },
    {
      "cell_type": "code",
      "source": [
        "#Redefinimos las variables \n",
        "X= Vars_Indep\n",
        "y= Var_Dep"
      ],
      "metadata": {
        "id": "UKvpnJM7RcJu"
      },
      "execution_count": null,
      "outputs": []
    },
    {
      "cell_type": "code",
      "source": [
        "#Dividimos el conjunto de datos en la parte de entrenamiento y prueba:\n",
        "X_train, X_test, y_train, y_test = train_test_split(X, y, test_size=0.3, random_state =68)#63 68 70"
      ],
      "metadata": {
        "id": "CAzaITtVRcL3"
      },
      "execution_count": null,
      "outputs": []
    },
    {
      "cell_type": "code",
      "source": [
        "#Se escalan todos los datos\n",
        "escalar = StandardScaler()"
      ],
      "metadata": {
        "id": "SRfE7kLPRcN2"
      },
      "execution_count": null,
      "outputs": []
    },
    {
      "cell_type": "code",
      "source": [
        "#Para realizar el escalamiento de las variables “X” tanto de entrenamiento como de prueba, utilizaremos fit_transform\n",
        "X_train = escalar.fit_transform(X_train)\n",
        "X_test = escalar.transform(X_test)"
      ],
      "metadata": {
        "id": "5fu33VRfVcjF"
      },
      "execution_count": null,
      "outputs": []
    },
    {
      "cell_type": "code",
      "source": [
        "#Definimos el algoritmo a utilizar\n",
        "from sklearn.linear_model import LogisticRegression\n",
        "algoritmo = LogisticRegression()"
      ],
      "metadata": {
        "id": "OhOhq2dtVclU"
      },
      "execution_count": null,
      "outputs": []
    },
    {
      "cell_type": "code",
      "source": [
        "#Entrenamos el modelo\n",
        "algoritmo.fit(X_train, y_train)"
      ],
      "metadata": {
        "colab": {
          "base_uri": "https://localhost:8080/",
          "height": 74
        },
        "id": "mvrxPpTgVcnc",
        "outputId": "6c15c082-b138-4c32-bda7-5a511d0a3bfb"
      },
      "execution_count": null,
      "outputs": [
        {
          "output_type": "execute_result",
          "data": {
            "text/plain": [
              "LogisticRegression()"
            ],
            "text/html": [
              "<style>#sk-container-id-17 {color: black;background-color: white;}#sk-container-id-17 pre{padding: 0;}#sk-container-id-17 div.sk-toggleable {background-color: white;}#sk-container-id-17 label.sk-toggleable__label {cursor: pointer;display: block;width: 100%;margin-bottom: 0;padding: 0.3em;box-sizing: border-box;text-align: center;}#sk-container-id-17 label.sk-toggleable__label-arrow:before {content: \"▸\";float: left;margin-right: 0.25em;color: #696969;}#sk-container-id-17 label.sk-toggleable__label-arrow:hover:before {color: black;}#sk-container-id-17 div.sk-estimator:hover label.sk-toggleable__label-arrow:before {color: black;}#sk-container-id-17 div.sk-toggleable__content {max-height: 0;max-width: 0;overflow: hidden;text-align: left;background-color: #f0f8ff;}#sk-container-id-17 div.sk-toggleable__content pre {margin: 0.2em;color: black;border-radius: 0.25em;background-color: #f0f8ff;}#sk-container-id-17 input.sk-toggleable__control:checked~div.sk-toggleable__content {max-height: 200px;max-width: 100%;overflow: auto;}#sk-container-id-17 input.sk-toggleable__control:checked~label.sk-toggleable__label-arrow:before {content: \"▾\";}#sk-container-id-17 div.sk-estimator input.sk-toggleable__control:checked~label.sk-toggleable__label {background-color: #d4ebff;}#sk-container-id-17 div.sk-label input.sk-toggleable__control:checked~label.sk-toggleable__label {background-color: #d4ebff;}#sk-container-id-17 input.sk-hidden--visually {border: 0;clip: rect(1px 1px 1px 1px);clip: rect(1px, 1px, 1px, 1px);height: 1px;margin: -1px;overflow: hidden;padding: 0;position: absolute;width: 1px;}#sk-container-id-17 div.sk-estimator {font-family: monospace;background-color: #f0f8ff;border: 1px dotted black;border-radius: 0.25em;box-sizing: border-box;margin-bottom: 0.5em;}#sk-container-id-17 div.sk-estimator:hover {background-color: #d4ebff;}#sk-container-id-17 div.sk-parallel-item::after {content: \"\";width: 100%;border-bottom: 1px solid gray;flex-grow: 1;}#sk-container-id-17 div.sk-label:hover label.sk-toggleable__label {background-color: #d4ebff;}#sk-container-id-17 div.sk-serial::before {content: \"\";position: absolute;border-left: 1px solid gray;box-sizing: border-box;top: 0;bottom: 0;left: 50%;z-index: 0;}#sk-container-id-17 div.sk-serial {display: flex;flex-direction: column;align-items: center;background-color: white;padding-right: 0.2em;padding-left: 0.2em;position: relative;}#sk-container-id-17 div.sk-item {position: relative;z-index: 1;}#sk-container-id-17 div.sk-parallel {display: flex;align-items: stretch;justify-content: center;background-color: white;position: relative;}#sk-container-id-17 div.sk-item::before, #sk-container-id-17 div.sk-parallel-item::before {content: \"\";position: absolute;border-left: 1px solid gray;box-sizing: border-box;top: 0;bottom: 0;left: 50%;z-index: -1;}#sk-container-id-17 div.sk-parallel-item {display: flex;flex-direction: column;z-index: 1;position: relative;background-color: white;}#sk-container-id-17 div.sk-parallel-item:first-child::after {align-self: flex-end;width: 50%;}#sk-container-id-17 div.sk-parallel-item:last-child::after {align-self: flex-start;width: 50%;}#sk-container-id-17 div.sk-parallel-item:only-child::after {width: 0;}#sk-container-id-17 div.sk-dashed-wrapped {border: 1px dashed gray;margin: 0 0.4em 0.5em 0.4em;box-sizing: border-box;padding-bottom: 0.4em;background-color: white;}#sk-container-id-17 div.sk-label label {font-family: monospace;font-weight: bold;display: inline-block;line-height: 1.2em;}#sk-container-id-17 div.sk-label-container {text-align: center;}#sk-container-id-17 div.sk-container {/* jupyter's `normalize.less` sets `[hidden] { display: none; }` but bootstrap.min.css set `[hidden] { display: none !important; }` so we also need the `!important` here to be able to override the default hidden behavior on the sphinx rendered scikit-learn.org. See: https://github.com/scikit-learn/scikit-learn/issues/21755 */display: inline-block !important;position: relative;}#sk-container-id-17 div.sk-text-repr-fallback {display: none;}</style><div id=\"sk-container-id-17\" class=\"sk-top-container\"><div class=\"sk-text-repr-fallback\"><pre>LogisticRegression()</pre><b>In a Jupyter environment, please rerun this cell to show the HTML representation or trust the notebook. <br />On GitHub, the HTML representation is unable to render, please try loading this page with nbviewer.org.</b></div><div class=\"sk-container\" hidden><div class=\"sk-item\"><div class=\"sk-estimator sk-toggleable\"><input class=\"sk-toggleable__control sk-hidden--visually\" id=\"sk-estimator-id-17\" type=\"checkbox\" checked><label for=\"sk-estimator-id-17\" class=\"sk-toggleable__label sk-toggleable__label-arrow\">LogisticRegression</label><div class=\"sk-toggleable__content\"><pre>LogisticRegression()</pre></div></div></div></div></div>"
            ]
          },
          "metadata": {},
          "execution_count": 295
        }
      ]
    },
    {
      "cell_type": "code",
      "source": [
        "#Realizamos una predicción\n",
        "y_pred = algoritmo.predict(X_test) \n",
        "y_pred"
      ],
      "metadata": {
        "colab": {
          "base_uri": "https://localhost:8080/"
        },
        "id": "tzMbFgPBVcpu",
        "outputId": "24d7ffd8-26d3-4b73-f434-0a847cf0cba5"
      },
      "execution_count": null,
      "outputs": [
        {
          "output_type": "execute_result",
          "data": {
            "text/plain": [
              "array(['OTROS GASTOS', 'OTROS GASTOS', 'OTROS GASTOS', 'OTROS GASTOS',\n",
              "       'OTROS GASTOS', 'OTROS GASTOS', 'OTROS GASTOS', 'OTROS GASTOS',\n",
              "       'OTROS GASTOS', 'OTROS GASTOS', 'OTROS GASTOS', 'OTROS GASTOS',\n",
              "       'OTROS GASTOS', 'OTROS GASTOS', 'OTROS GASTOS', 'OTROS GASTOS',\n",
              "       'OTROS GASTOS', 'OTROS GASTOS', 'OTROS GASTOS', 'OTROS GASTOS',\n",
              "       'OTROS GASTOS', 'OTROS GASTOS', 'OTROS GASTOS', 'OTROS GASTOS',\n",
              "       'OTROS GASTOS', 'OTROS GASTOS', 'OTROS GASTOS', 'OTROS GASTOS',\n",
              "       'OTROS GASTOS', 'OTROS GASTOS', 'OTROS GASTOS', 'OTROS GASTOS',\n",
              "       'OTROS GASTOS', 'OTROS GASTOS', 'OTROS GASTOS', 'OTROS GASTOS',\n",
              "       'OTROS GASTOS', 'OTROS GASTOS', 'OTROS GASTOS', 'OTROS GASTOS',\n",
              "       'OTROS GASTOS', 'OTROS GASTOS', 'OTROS GASTOS', 'OTROS GASTOS',\n",
              "       'OTROS GASTOS', 'OTROS GASTOS', 'OTROS GASTOS', 'OTROS GASTOS',\n",
              "       'OTROS GASTOS', 'OTROS GASTOS', 'OTROS GASTOS', 'OTROS GASTOS',\n",
              "       'OTROS GASTOS', 'OTROS GASTOS', 'OTROS GASTOS', 'OTROS GASTOS',\n",
              "       'OTROS GASTOS', 'OTROS GASTOS', 'OTROS GASTOS', 'OTROS GASTOS',\n",
              "       'OTROS GASTOS', 'OTROS GASTOS', 'OTROS GASTOS', 'OTROS GASTOS',\n",
              "       'OTROS GASTOS', 'OTROS GASTOS', 'OTROS GASTOS', 'OTROS GASTOS',\n",
              "       'OTROS GASTOS', 'OTROS GASTOS', 'OTROS GASTOS', 'OTROS GASTOS',\n",
              "       'OTROS GASTOS', 'OTROS GASTOS', 'OTROS GASTOS', 'OTROS GASTOS',\n",
              "       'OTROS GASTOS', 'OTROS GASTOS', 'OTROS GASTOS', 'OTROS GASTOS',\n",
              "       'OTROS GASTOS', 'OTROS GASTOS', 'OTROS GASTOS', 'OTROS GASTOS',\n",
              "       'OTROS GASTOS', 'OTROS GASTOS', 'OTROS GASTOS', 'OTROS GASTOS',\n",
              "       'OTROS GASTOS', 'OTROS GASTOS', 'OTROS GASTOS', 'OTROS GASTOS',\n",
              "       'OTROS GASTOS', 'OTROS GASTOS', 'OTROS GASTOS', 'OTROS GASTOS',\n",
              "       'OTROS GASTOS', 'OTROS GASTOS', 'COMPRAS', 'OTROS GASTOS',\n",
              "       'OTROS GASTOS', 'COMPRAS', 'OTROS GASTOS', 'OTROS GASTOS',\n",
              "       'OTROS GASTOS', 'OTROS GASTOS', 'OTROS GASTOS', 'OTROS GASTOS',\n",
              "       'OTROS GASTOS', 'OTROS GASTOS', 'OTROS GASTOS', 'OTROS GASTOS',\n",
              "       'OTROS GASTOS', 'OTROS GASTOS', 'OTROS GASTOS', 'OTROS GASTOS',\n",
              "       'OTROS GASTOS', 'OTROS GASTOS', 'OTROS GASTOS', 'OTROS GASTOS',\n",
              "       'OTROS GASTOS', 'OTROS GASTOS', 'OTROS GASTOS', 'OTROS GASTOS',\n",
              "       'OTROS GASTOS', 'OTROS GASTOS', 'OTROS GASTOS', 'OTROS GASTOS',\n",
              "       'OTROS GASTOS', 'OTROS GASTOS', 'OTROS GASTOS', 'OTROS GASTOS',\n",
              "       'OTROS GASTOS', 'OTROS GASTOS', 'OTROS GASTOS', 'OTROS GASTOS',\n",
              "       'OTROS GASTOS', 'OTROS GASTOS', 'OTROS GASTOS', 'OTROS GASTOS',\n",
              "       'OTROS GASTOS', 'OTROS GASTOS', 'OTROS GASTOS', 'OTROS GASTOS',\n",
              "       'OTROS GASTOS', 'OTROS GASTOS', 'OTROS GASTOS', 'OTROS GASTOS',\n",
              "       'OTROS GASTOS', 'OTROS GASTOS', 'OTROS GASTOS', 'OTROS GASTOS',\n",
              "       'OTROS GASTOS', 'OTROS GASTOS', 'OTROS GASTOS', 'OTROS GASTOS',\n",
              "       'OTROS GASTOS', 'OTROS GASTOS', 'OTROS GASTOS', 'OTROS GASTOS',\n",
              "       'OTROS GASTOS', 'OTROS GASTOS', 'OTROS GASTOS', 'OTROS GASTOS',\n",
              "       'OTROS GASTOS', 'OTROS GASTOS', 'OTROS GASTOS', 'OTROS GASTOS',\n",
              "       'OTROS GASTOS', 'OTROS GASTOS', 'OTROS GASTOS', 'OTROS GASTOS',\n",
              "       'OTROS GASTOS', 'OTROS GASTOS', 'OTROS GASTOS', 'OTROS GASTOS',\n",
              "       'OTROS GASTOS', 'OTROS GASTOS', 'OTROS GASTOS', 'OTROS GASTOS',\n",
              "       'OTROS GASTOS', 'OTROS GASTOS', 'OTROS GASTOS', 'OTROS GASTOS',\n",
              "       'OTROS GASTOS', 'OTROS GASTOS', 'OTROS GASTOS', 'OTROS GASTOS',\n",
              "       'OTROS GASTOS', 'OTROS GASTOS', 'OTROS GASTOS', 'OTROS GASTOS',\n",
              "       'OTROS GASTOS', 'OTROS GASTOS', 'OTROS GASTOS', 'OTROS GASTOS',\n",
              "       'OTROS GASTOS', 'OTROS GASTOS', 'OTROS GASTOS', 'OTROS GASTOS',\n",
              "       'OTROS GASTOS', 'OTROS GASTOS', 'OTROS GASTOS', 'OTROS GASTOS',\n",
              "       'OTROS GASTOS', 'OTROS GASTOS', 'OTROS GASTOS', 'OTROS GASTOS',\n",
              "       'OTROS GASTOS', 'OTROS GASTOS', 'OTROS GASTOS', 'OTROS GASTOS',\n",
              "       'OTROS GASTOS', 'OTROS GASTOS', 'OTROS GASTOS', 'OTROS GASTOS',\n",
              "       'OTROS GASTOS', 'OTROS GASTOS', 'OTROS GASTOS', 'OTROS GASTOS',\n",
              "       'OTROS GASTOS', 'OTROS GASTOS', 'OTROS GASTOS', 'OTROS GASTOS',\n",
              "       'OTROS GASTOS', 'OTROS GASTOS', 'OTROS GASTOS', 'OTROS GASTOS',\n",
              "       'OTROS GASTOS', 'OTROS GASTOS', 'OTROS GASTOS', 'OTROS GASTOS',\n",
              "       'OTROS GASTOS', 'OTROS GASTOS', 'OTROS GASTOS', 'OTROS GASTOS',\n",
              "       'OTROS GASTOS', 'OTROS GASTOS', 'OTROS GASTOS', 'OTROS GASTOS',\n",
              "       'OTROS GASTOS', 'OTROS GASTOS', 'OTROS GASTOS', 'OTROS GASTOS',\n",
              "       'OTROS GASTOS', 'OTROS GASTOS', 'OTROS GASTOS', 'OTROS GASTOS',\n",
              "       'OTROS GASTOS', 'OTROS GASTOS', 'OTROS GASTOS', 'OTROS GASTOS',\n",
              "       'OTROS GASTOS', 'OTROS GASTOS', 'OTROS GASTOS', 'OTROS GASTOS',\n",
              "       'OTROS GASTOS', 'OTROS GASTOS', 'OTROS GASTOS', 'OTROS GASTOS',\n",
              "       'OTROS GASTOS', 'OTROS GASTOS', 'OTROS GASTOS', 'OTROS GASTOS',\n",
              "       'OTROS GASTOS', 'OTROS GASTOS', 'OTROS GASTOS', 'OTROS GASTOS',\n",
              "       'OTROS GASTOS', 'OTROS GASTOS', 'OTROS GASTOS', 'OTROS GASTOS',\n",
              "       'OTROS GASTOS', 'OTROS GASTOS', 'OTROS GASTOS', 'OTROS GASTOS',\n",
              "       'OTROS GASTOS', 'OTROS GASTOS', 'OTROS GASTOS', 'OTROS GASTOS',\n",
              "       'OTROS GASTOS', 'OTROS GASTOS', 'OTROS GASTOS', 'OTROS GASTOS',\n",
              "       'OTROS GASTOS', 'OTROS GASTOS', 'OTROS GASTOS', 'OTROS GASTOS',\n",
              "       'OTROS GASTOS', 'OTROS GASTOS', 'OTROS GASTOS', 'OTROS GASTOS',\n",
              "       'OTROS GASTOS', 'OTROS GASTOS', 'OTROS GASTOS', 'OTROS GASTOS',\n",
              "       'OTROS GASTOS', 'OTROS GASTOS', 'OTROS GASTOS', 'OTROS GASTOS',\n",
              "       'OTROS GASTOS', 'OTROS GASTOS', 'OTROS GASTOS', 'OTROS GASTOS',\n",
              "       'OTROS GASTOS', 'OTROS GASTOS', 'OTROS GASTOS', 'OTROS GASTOS',\n",
              "       'OTROS GASTOS', 'OTROS GASTOS', 'OTROS GASTOS', 'OTROS GASTOS',\n",
              "       'OTROS GASTOS', 'OTROS GASTOS', 'COMPRAS', 'OTROS GASTOS',\n",
              "       'OTROS GASTOS', 'OTROS GASTOS', 'OTROS GASTOS', 'OTROS GASTOS',\n",
              "       'OTROS GASTOS', 'OTROS GASTOS', 'OTROS GASTOS', 'OTROS GASTOS',\n",
              "       'OTROS GASTOS', 'OTROS GASTOS', 'OTROS GASTOS', 'OTROS GASTOS',\n",
              "       'OTROS GASTOS', 'OTROS GASTOS', 'OTROS GASTOS', 'OTROS GASTOS',\n",
              "       'OTROS GASTOS', 'OTROS GASTOS', 'OTROS GASTOS', 'OTROS GASTOS',\n",
              "       'OTROS GASTOS', 'OTROS GASTOS', 'OTROS GASTOS', 'OTROS GASTOS',\n",
              "       'OTROS GASTOS', 'OTROS GASTOS', 'OTROS GASTOS', 'OTROS GASTOS',\n",
              "       'OTROS GASTOS', 'OTROS GASTOS', 'OTROS GASTOS', 'OTROS GASTOS',\n",
              "       'OTROS GASTOS', 'OTROS GASTOS', 'OTROS GASTOS', 'OTROS GASTOS',\n",
              "       'OTROS GASTOS', 'OTROS GASTOS', 'OTROS GASTOS', 'OTROS GASTOS',\n",
              "       'OTROS GASTOS', 'OTROS GASTOS', 'OTROS GASTOS', 'OTROS GASTOS',\n",
              "       'OTROS GASTOS', 'OTROS GASTOS', 'OTROS GASTOS', 'OTROS GASTOS',\n",
              "       'OTROS GASTOS', 'OTROS GASTOS', 'OTROS GASTOS', 'OTROS GASTOS',\n",
              "       'OTROS GASTOS', 'OTROS GASTOS', 'OTROS GASTOS', 'OTROS GASTOS',\n",
              "       'OTROS GASTOS', 'OTROS GASTOS', 'OTROS GASTOS', 'OTROS GASTOS',\n",
              "       'OTROS GASTOS', 'OTROS GASTOS', 'OTROS GASTOS', 'OTROS GASTOS',\n",
              "       'OTROS GASTOS', 'OTROS GASTOS', 'OTROS GASTOS', 'OTROS GASTOS',\n",
              "       'OTROS GASTOS', 'OTROS GASTOS', 'OTROS GASTOS', 'OTROS GASTOS',\n",
              "       'OTROS GASTOS', 'OTROS GASTOS', 'OTROS GASTOS', 'OTROS GASTOS',\n",
              "       'OTROS GASTOS', 'OTROS GASTOS', 'OTROS GASTOS', 'OTROS GASTOS',\n",
              "       'OTROS GASTOS', 'OTROS GASTOS', 'OTROS GASTOS', 'OTROS GASTOS',\n",
              "       'OTROS GASTOS', 'OTROS GASTOS', 'OTROS GASTOS', 'OTROS GASTOS',\n",
              "       'OTROS GASTOS', 'OTROS GASTOS', 'OTROS GASTOS', 'OTROS GASTOS',\n",
              "       'OTROS GASTOS', 'OTROS GASTOS', 'OTROS GASTOS', 'OTROS GASTOS',\n",
              "       'OTROS GASTOS', 'OTROS GASTOS', 'OTROS GASTOS', 'OTROS GASTOS',\n",
              "       'OTROS GASTOS', 'OTROS GASTOS', 'OTROS GASTOS', 'OTROS GASTOS',\n",
              "       'OTROS GASTOS', 'OTROS GASTOS', 'OTROS GASTOS', 'OTROS GASTOS',\n",
              "       'OTROS GASTOS', 'OTROS GASTOS', 'OTROS GASTOS', 'OTROS GASTOS',\n",
              "       'OTROS GASTOS', 'OTROS GASTOS', 'OTROS GASTOS', 'OTROS GASTOS',\n",
              "       'OTROS GASTOS', 'OTROS GASTOS', 'OTROS GASTOS', 'OTROS GASTOS',\n",
              "       'OTROS GASTOS', 'OTROS GASTOS', 'OTROS GASTOS', 'OTROS GASTOS',\n",
              "       'OTROS GASTOS', 'OTROS GASTOS', 'OTROS GASTOS', 'OTROS GASTOS',\n",
              "       'OTROS GASTOS', 'OTROS GASTOS', 'OTROS GASTOS', 'OTROS GASTOS',\n",
              "       'OTROS GASTOS', 'COMPRAS', 'OTROS GASTOS', 'OTROS GASTOS',\n",
              "       'OTROS GASTOS', 'OTROS GASTOS', 'OTROS GASTOS', 'OTROS GASTOS',\n",
              "       'OTROS GASTOS', 'OTROS GASTOS', 'OTROS GASTOS', 'OTROS GASTOS',\n",
              "       'OTROS GASTOS', 'OTROS GASTOS', 'OTROS GASTOS', 'OTROS GASTOS',\n",
              "       'OTROS GASTOS', 'OTROS GASTOS', 'OTROS GASTOS', 'OTROS GASTOS',\n",
              "       'OTROS GASTOS', 'OTROS GASTOS', 'OTROS GASTOS', 'OTROS GASTOS',\n",
              "       'OTROS GASTOS', 'OTROS GASTOS', 'OTROS GASTOS', 'OTROS GASTOS',\n",
              "       'OTROS GASTOS', 'OTROS GASTOS', 'OTROS GASTOS', 'OTROS GASTOS',\n",
              "       'OTROS GASTOS', 'OTROS GASTOS', 'OTROS GASTOS', 'OTROS GASTOS',\n",
              "       'OTROS GASTOS', 'OTROS GASTOS', 'OTROS GASTOS', 'OTROS GASTOS',\n",
              "       'OTROS GASTOS', 'OTROS GASTOS', 'OTROS GASTOS', 'OTROS GASTOS',\n",
              "       'OTROS GASTOS', 'OTROS GASTOS', 'OTROS GASTOS', 'OTROS GASTOS',\n",
              "       'OTROS GASTOS', 'OTROS GASTOS', 'OTROS GASTOS', 'OTROS GASTOS',\n",
              "       'OTROS GASTOS', 'OTROS GASTOS', 'OTROS GASTOS', 'OTROS GASTOS',\n",
              "       'OTROS GASTOS', 'OTROS GASTOS', 'OTROS GASTOS', 'OTROS GASTOS',\n",
              "       'OTROS GASTOS', 'OTROS GASTOS', 'OTROS GASTOS', 'OTROS GASTOS',\n",
              "       'OTROS GASTOS', 'OTROS GASTOS', 'OTROS GASTOS', 'OTROS GASTOS',\n",
              "       'OTROS GASTOS', 'OTROS GASTOS', 'OTROS GASTOS', 'OTROS GASTOS',\n",
              "       'OTROS GASTOS', 'OTROS GASTOS', 'OTROS GASTOS', 'OTROS GASTOS',\n",
              "       'OTROS GASTOS', 'OTROS GASTOS', 'OTROS GASTOS', 'OTROS GASTOS',\n",
              "       'OTROS GASTOS', 'OTROS GASTOS', 'OTROS GASTOS', 'OTROS GASTOS',\n",
              "       'OTROS GASTOS', 'OTROS GASTOS', 'OTROS GASTOS', 'OTROS GASTOS',\n",
              "       'OTROS GASTOS', 'OTROS GASTOS', 'OTROS GASTOS', 'OTROS GASTOS',\n",
              "       'OTROS GASTOS', 'OTROS GASTOS', 'OTROS GASTOS', 'OTROS GASTOS',\n",
              "       'OTROS GASTOS', 'OTROS GASTOS', 'OTROS GASTOS', 'OTROS GASTOS',\n",
              "       'OTROS GASTOS', 'OTROS GASTOS', 'OTROS GASTOS', 'OTROS GASTOS',\n",
              "       'OTROS GASTOS', 'OTROS GASTOS', 'OTROS GASTOS', 'OTROS GASTOS',\n",
              "       'OTROS GASTOS', 'OTROS GASTOS', 'OTROS GASTOS', 'OTROS GASTOS',\n",
              "       'OTROS GASTOS', 'OTROS GASTOS', 'OTROS GASTOS', 'OTROS GASTOS',\n",
              "       'OTROS GASTOS', 'OTROS GASTOS', 'OTROS GASTOS', 'OTROS GASTOS',\n",
              "       'OTROS GASTOS', 'OTROS GASTOS', 'OTROS GASTOS', 'OTROS GASTOS',\n",
              "       'OTROS GASTOS', 'OTROS GASTOS', 'OTROS GASTOS', 'OTROS GASTOS',\n",
              "       'OTROS GASTOS', 'OTROS GASTOS', 'OTROS GASTOS', 'OTROS GASTOS',\n",
              "       'OTROS GASTOS', 'OTROS GASTOS', 'OTROS GASTOS', 'OTROS GASTOS',\n",
              "       'OTROS GASTOS', 'OTROS GASTOS', 'OTROS GASTOS', 'OTROS GASTOS',\n",
              "       'OTROS GASTOS', 'OTROS GASTOS', 'OTROS GASTOS', 'OTROS GASTOS',\n",
              "       'OTROS GASTOS', 'OTROS GASTOS', 'OTROS GASTOS', 'OTROS GASTOS',\n",
              "       'OTROS GASTOS', 'OTROS GASTOS', 'OTROS GASTOS', 'OTROS GASTOS',\n",
              "       'OTROS GASTOS', 'OTROS GASTOS', 'OTROS GASTOS', 'OTROS GASTOS',\n",
              "       'OTROS GASTOS', 'OTROS GASTOS', 'OTROS GASTOS', 'OTROS GASTOS',\n",
              "       'OTROS GASTOS', 'OTROS GASTOS', 'OTROS GASTOS', 'OTROS GASTOS',\n",
              "       'OTROS GASTOS', 'OTROS GASTOS', 'OTROS GASTOS', 'OTROS GASTOS',\n",
              "       'OTROS GASTOS', 'OTROS GASTOS', 'OTROS GASTOS', 'OTROS GASTOS',\n",
              "       'OTROS GASTOS', 'OTROS GASTOS', 'OTROS GASTOS', 'OTROS GASTOS',\n",
              "       'OTROS GASTOS', 'OTROS GASTOS', 'OTROS GASTOS', 'OTROS GASTOS',\n",
              "       'OTROS GASTOS', 'OTROS GASTOS', 'OTROS GASTOS', 'OTROS GASTOS',\n",
              "       'OTROS GASTOS', 'OTROS GASTOS', 'OTROS GASTOS', 'OTROS GASTOS',\n",
              "       'OTROS GASTOS', 'OTROS GASTOS', 'OTROS GASTOS', 'OTROS GASTOS',\n",
              "       'OTROS GASTOS', 'OTROS GASTOS', 'OTROS GASTOS', 'OTROS GASTOS',\n",
              "       'OTROS GASTOS', 'OTROS GASTOS', 'OTROS GASTOS', 'OTROS GASTOS',\n",
              "       'OTROS GASTOS', 'OTROS GASTOS', 'OTROS GASTOS', 'OTROS GASTOS',\n",
              "       'OTROS GASTOS', 'OTROS GASTOS', 'OTROS GASTOS', 'OTROS GASTOS',\n",
              "       'OTROS GASTOS', 'OTROS GASTOS', 'OTROS GASTOS', 'OTROS GASTOS',\n",
              "       'OTROS GASTOS', 'OTROS GASTOS', 'OTROS GASTOS', 'OTROS GASTOS',\n",
              "       'OTROS GASTOS', 'OTROS GASTOS', 'OTROS GASTOS', 'OTROS GASTOS',\n",
              "       'OTROS GASTOS', 'OTROS GASTOS', 'OTROS GASTOS', 'OTROS GASTOS',\n",
              "       'OTROS GASTOS', 'OTROS GASTOS', 'OTROS GASTOS', 'OTROS GASTOS',\n",
              "       'OTROS GASTOS', 'OTROS GASTOS', 'OTROS GASTOS', 'OTROS GASTOS',\n",
              "       'OTROS GASTOS', 'OTROS GASTOS', 'OTROS GASTOS', 'OTROS GASTOS',\n",
              "       'OTROS GASTOS', 'OTROS GASTOS', 'OTROS GASTOS', 'OTROS GASTOS',\n",
              "       'OTROS GASTOS', 'OTROS GASTOS', 'OTROS GASTOS', 'OTROS GASTOS',\n",
              "       'OTROS GASTOS', 'OTROS GASTOS', 'OTROS GASTOS', 'OTROS GASTOS',\n",
              "       'OTROS GASTOS', 'OTROS GASTOS', 'OTROS GASTOS', 'OTROS GASTOS',\n",
              "       'OTROS GASTOS', 'OTROS GASTOS', 'OTROS GASTOS', 'OTROS GASTOS',\n",
              "       'OTROS GASTOS', 'OTROS GASTOS', 'OTROS GASTOS', 'OTROS GASTOS',\n",
              "       'OTROS GASTOS', 'OTROS GASTOS', 'OTROS GASTOS', 'OTROS GASTOS',\n",
              "       'OTROS GASTOS', 'OTROS GASTOS', 'OTROS GASTOS', 'OTROS GASTOS',\n",
              "       'OTROS GASTOS', 'OTROS GASTOS', 'OTROS GASTOS', 'OTROS GASTOS',\n",
              "       'OTROS GASTOS', 'OTROS GASTOS', 'OTROS GASTOS', 'OTROS GASTOS',\n",
              "       'OTROS GASTOS', 'OTROS GASTOS', 'OTROS GASTOS', 'OTROS GASTOS',\n",
              "       'OTROS GASTOS', 'OTROS GASTOS', 'OTROS GASTOS', 'OTROS GASTOS',\n",
              "       'OTROS GASTOS', 'OTROS GASTOS', 'OTROS GASTOS', 'OTROS GASTOS',\n",
              "       'OTROS GASTOS', 'OTROS GASTOS', 'OTROS GASTOS', 'OTROS GASTOS',\n",
              "       'OTROS GASTOS', 'OTROS GASTOS', 'OTROS GASTOS', 'OTROS GASTOS',\n",
              "       'OTROS GASTOS', 'OTROS GASTOS', 'OTROS GASTOS', 'OTROS GASTOS',\n",
              "       'OTROS GASTOS', 'OTROS GASTOS', 'OTROS GASTOS', 'OTROS GASTOS',\n",
              "       'OTROS GASTOS', 'OTROS GASTOS', 'OTROS GASTOS', 'OTROS GASTOS',\n",
              "       'OTROS GASTOS', 'OTROS GASTOS', 'OTROS GASTOS', 'OTROS GASTOS',\n",
              "       'OTROS GASTOS', 'OTROS GASTOS', 'OTROS GASTOS', 'OTROS GASTOS',\n",
              "       'OTROS GASTOS', 'OTROS GASTOS', 'OTROS GASTOS', 'OTROS GASTOS',\n",
              "       'OTROS GASTOS', 'OTROS GASTOS', 'OTROS GASTOS', 'OTROS GASTOS',\n",
              "       'OTROS GASTOS', 'OTROS GASTOS'], dtype=object)"
            ]
          },
          "metadata": {},
          "execution_count": 296
        }
      ]
    },
    {
      "cell_type": "code",
      "source": [
        "#Verifico la matriz de Confusión\n",
        "from sklearn.metrics import confusion_matrix\n",
        "matriz = confusion_matrix(y_test, y_pred)\n",
        "print('Matriz de Confusión:')\n",
        "print(matriz)"
      ],
      "metadata": {
        "colab": {
          "base_uri": "https://localhost:8080/"
        },
        "id": "JCPmLlUvVcsI",
        "outputId": "833c7d4a-4acb-435a-91c5-c521a27e55a1"
      },
      "execution_count": null,
      "outputs": [
        {
          "output_type": "stream",
          "name": "stdout",
          "text": [
            "Matriz de Confusión:\n",
            "[[  1 360]\n",
            " [  3 410]]\n"
          ]
        }
      ]
    },
    {
      "cell_type": "code",
      "source": [
        "#Calculo la precisión del modelo\n",
        "from sklearn.metrics import precision_score\n",
        "\n",
        "precision = precision_score(y_test, y_pred, average=\"binary\", pos_label=\"COMPRAS\")\n",
        "print('Precisión del modelo:')\n",
        "print(precision)"
      ],
      "metadata": {
        "colab": {
          "base_uri": "https://localhost:8080/"
        },
        "id": "2den52IAVcuA",
        "outputId": "364cdaf5-423c-45aa-d869-46c96faae633"
      },
      "execution_count": null,
      "outputs": [
        {
          "output_type": "stream",
          "name": "stdout",
          "text": [
            "Precisión del modelo:\n",
            "0.25\n"
          ]
        }
      ]
    },
    {
      "cell_type": "code",
      "source": [
        "#Calculo la exactitud del modelo\n",
        "from sklearn.metrics import accuracy_score\n",
        "\n",
        "exactitud = accuracy_score(y_test, y_pred)\n",
        "print('Exactitud del modelo:')\n",
        "print(exactitud)"
      ],
      "metadata": {
        "colab": {
          "base_uri": "https://localhost:8080/"
        },
        "id": "x-9iJbD4VcwG",
        "outputId": "85c7184e-beed-4c2e-d736-38dfa4f89efe"
      },
      "execution_count": null,
      "outputs": [
        {
          "output_type": "stream",
          "name": "stdout",
          "text": [
            "Exactitud del modelo:\n",
            "0.5310077519379846\n"
          ]
        }
      ]
    },
    {
      "cell_type": "code",
      "source": [
        "#Calculo la sensibilidad del modelo\n",
        "from sklearn.metrics import recall_score\n",
        "\n",
        "sensibilidad = recall_score(y_test, y_pred, average=\"binary\", pos_label=\"COMPRAS\")\n",
        "print('Sensibilidad del modelo:')\n",
        "print(sensibilidad)"
      ],
      "metadata": {
        "colab": {
          "base_uri": "https://localhost:8080/"
        },
        "id": "iLJvL1hDVnrU",
        "outputId": "4da715ca-820c-4761-9a4e-ce5a5382ff71"
      },
      "execution_count": null,
      "outputs": [
        {
          "output_type": "stream",
          "name": "stdout",
          "text": [
            "Sensibilidad del modelo:\n",
            "0.002770083102493075\n"
          ]
        }
      ]
    },
    {
      "cell_type": "code",
      "source": [
        "# el puntaje F1 que es una combinación entre la precisión y la sensibilidad, para esto importamos f1_score.\n",
        "#Calculo el Puntaje F1 del modelo\n",
        "from sklearn.metrics import f1_score\n",
        "\n",
        "puntajef1 = f1_score(y_test, y_pred, average=\"binary\", pos_label=\"COMPRAS\")\n",
        "print('Puntaje F1 del modelo:')\n",
        "print(puntajef1)"
      ],
      "metadata": {
        "colab": {
          "base_uri": "https://localhost:8080/"
        },
        "id": "Ve4w_KIWVntk",
        "outputId": "2caf8053-f34a-4056-ffea-a08b1c71714f"
      },
      "execution_count": null,
      "outputs": [
        {
          "output_type": "stream",
          "name": "stdout",
          "text": [
            "Puntaje F1 del modelo:\n",
            "0.0054794520547945215\n"
          ]
        }
      ]
    },
    {
      "cell_type": "markdown",
      "source": [
        "# **2023**"
      ],
      "metadata": {
        "id": "WL9hVBEeQMYZ"
      }
    },
    {
      "cell_type": "code",
      "source": [
        "df23 = pd.read_excel('GastosCostos2023_adecuado.xlsx', sheet_name='2023')\n",
        "df23.head()"
      ],
      "metadata": {
        "colab": {
          "base_uri": "https://localhost:8080/",
          "height": 582
        },
        "id": "GVGZ31dkS4xj",
        "outputId": "72416e3a-e606-42d3-b424-58ad2a733bad"
      },
      "execution_count": null,
      "outputs": [
        {
          "output_type": "execute_result",
          "data": {
            "text/plain": [
              "       Fecha   Folio                                  UUID           RFC  \\\n",
              "0 2023-01-01      31  49536321-60A4-523E-A32F-E8BDF5C2276E  AAE6411055P8   \n",
              "1 2023-01-01      38  20FBB63B-D550-512F-9668-EEC6F983CEB7  AAE6411055P8   \n",
              "2 2023-01-01  341932  DB8C4388-D4E0-4F0C-A09C-77C773257F44  BLE1512082R9   \n",
              "3 2023-01-01  341933  A81A63F5-D5EC-4601-803E-375AF9CC5021  BLE1512082R9   \n",
              "4 2023-01-01  342205  DCC10492-DE51-4C87-8430-5676FBF81931  BLE1512082R9   \n",
              "\n",
              "                      Proveedor                TIPO GASTO  \\\n",
              "0     AESA ARTICULOS ELECTRICOS                   COMPRAS   \n",
              "1     AESA ARTICULOS ELECTRICOS                   COMPRAS   \n",
              "2  BEPENSA LEASING S.A. DE C.V.  ARRENDAMIENTO FINANCIERO   \n",
              "3  BEPENSA LEASING S.A. DE C.V.  ARRENDAMIENTO FINANCIERO   \n",
              "4  BEPENSA LEASING S.A. DE C.V.  ARRENDAMIENTO FINANCIERO   \n",
              "\n",
              "                                         Descripción   MP    FP   TC  Importe  \\\n",
              "0                                               Pago  NaN   NaN  1.0     0.00   \n",
              "1                                               Pago  NaN   NaN  1.0     0.00   \n",
              "2  AA RENTA EXIGIBLE CL0000006876 30/36 de 03/12/...  PPD  99.0  1.0  5551.38   \n",
              "3  AA RENTA EXIGIBLE CL0000006877 30/36 de 03/12/...  PPD  99.0  1.0  5551.98   \n",
              "4  AA RENTA EXIGIBLE CL0000009486 5/48 de 03/12/2...  PPD  99.0  1.0  8454.37   \n",
              "\n",
              "       IVA  RET ISR  RET IVA  Otros  TOTAL MX  TOTAL SAT Tipo   Status  \\\n",
              "0     0.00      0.0      0.0    NaN      0.00       0.00    P  Vigente   \n",
              "1     0.00      0.0      0.0    NaN      0.00       0.00    P  Vigente   \n",
              "2   888.22      0.0      0.0    NaN   6439.60    6439.60    I  Vigente   \n",
              "3   888.32      0.0      0.0    NaN   6440.30    6440.30    I  Vigente   \n",
              "4  1352.70      0.0      0.0    NaN   9807.07    9807.07    I  Vigente   \n",
              "\n",
              "       Poliza  \n",
              "0         NaN  \n",
              "1         NaN  \n",
              "2  PE01-ENE23  \n",
              "3  PE02-ENE23  \n",
              "4  PE03-ENE23  "
            ],
            "text/html": [
              "\n",
              "  <div id=\"df-eeef611f-58cc-47e5-ba37-22e1e9192099\">\n",
              "    <div class=\"colab-df-container\">\n",
              "      <div>\n",
              "<style scoped>\n",
              "    .dataframe tbody tr th:only-of-type {\n",
              "        vertical-align: middle;\n",
              "    }\n",
              "\n",
              "    .dataframe tbody tr th {\n",
              "        vertical-align: top;\n",
              "    }\n",
              "\n",
              "    .dataframe thead th {\n",
              "        text-align: right;\n",
              "    }\n",
              "</style>\n",
              "<table border=\"1\" class=\"dataframe\">\n",
              "  <thead>\n",
              "    <tr style=\"text-align: right;\">\n",
              "      <th></th>\n",
              "      <th>Fecha</th>\n",
              "      <th>Folio</th>\n",
              "      <th>UUID</th>\n",
              "      <th>RFC</th>\n",
              "      <th>Proveedor</th>\n",
              "      <th>TIPO GASTO</th>\n",
              "      <th>Descripción</th>\n",
              "      <th>MP</th>\n",
              "      <th>FP</th>\n",
              "      <th>TC</th>\n",
              "      <th>Importe</th>\n",
              "      <th>IVA</th>\n",
              "      <th>RET ISR</th>\n",
              "      <th>RET IVA</th>\n",
              "      <th>Otros</th>\n",
              "      <th>TOTAL MX</th>\n",
              "      <th>TOTAL SAT</th>\n",
              "      <th>Tipo</th>\n",
              "      <th>Status</th>\n",
              "      <th>Poliza</th>\n",
              "    </tr>\n",
              "  </thead>\n",
              "  <tbody>\n",
              "    <tr>\n",
              "      <th>0</th>\n",
              "      <td>2023-01-01</td>\n",
              "      <td>31</td>\n",
              "      <td>49536321-60A4-523E-A32F-E8BDF5C2276E</td>\n",
              "      <td>AAE6411055P8</td>\n",
              "      <td>AESA ARTICULOS ELECTRICOS</td>\n",
              "      <td>COMPRAS</td>\n",
              "      <td>Pago</td>\n",
              "      <td>NaN</td>\n",
              "      <td>NaN</td>\n",
              "      <td>1.0</td>\n",
              "      <td>0.00</td>\n",
              "      <td>0.00</td>\n",
              "      <td>0.0</td>\n",
              "      <td>0.0</td>\n",
              "      <td>NaN</td>\n",
              "      <td>0.00</td>\n",
              "      <td>0.00</td>\n",
              "      <td>P</td>\n",
              "      <td>Vigente</td>\n",
              "      <td>NaN</td>\n",
              "    </tr>\n",
              "    <tr>\n",
              "      <th>1</th>\n",
              "      <td>2023-01-01</td>\n",
              "      <td>38</td>\n",
              "      <td>20FBB63B-D550-512F-9668-EEC6F983CEB7</td>\n",
              "      <td>AAE6411055P8</td>\n",
              "      <td>AESA ARTICULOS ELECTRICOS</td>\n",
              "      <td>COMPRAS</td>\n",
              "      <td>Pago</td>\n",
              "      <td>NaN</td>\n",
              "      <td>NaN</td>\n",
              "      <td>1.0</td>\n",
              "      <td>0.00</td>\n",
              "      <td>0.00</td>\n",
              "      <td>0.0</td>\n",
              "      <td>0.0</td>\n",
              "      <td>NaN</td>\n",
              "      <td>0.00</td>\n",
              "      <td>0.00</td>\n",
              "      <td>P</td>\n",
              "      <td>Vigente</td>\n",
              "      <td>NaN</td>\n",
              "    </tr>\n",
              "    <tr>\n",
              "      <th>2</th>\n",
              "      <td>2023-01-01</td>\n",
              "      <td>341932</td>\n",
              "      <td>DB8C4388-D4E0-4F0C-A09C-77C773257F44</td>\n",
              "      <td>BLE1512082R9</td>\n",
              "      <td>BEPENSA LEASING S.A. DE C.V.</td>\n",
              "      <td>ARRENDAMIENTO FINANCIERO</td>\n",
              "      <td>AA RENTA EXIGIBLE CL0000006876 30/36 de 03/12/...</td>\n",
              "      <td>PPD</td>\n",
              "      <td>99.0</td>\n",
              "      <td>1.0</td>\n",
              "      <td>5551.38</td>\n",
              "      <td>888.22</td>\n",
              "      <td>0.0</td>\n",
              "      <td>0.0</td>\n",
              "      <td>NaN</td>\n",
              "      <td>6439.60</td>\n",
              "      <td>6439.60</td>\n",
              "      <td>I</td>\n",
              "      <td>Vigente</td>\n",
              "      <td>PE01-ENE23</td>\n",
              "    </tr>\n",
              "    <tr>\n",
              "      <th>3</th>\n",
              "      <td>2023-01-01</td>\n",
              "      <td>341933</td>\n",
              "      <td>A81A63F5-D5EC-4601-803E-375AF9CC5021</td>\n",
              "      <td>BLE1512082R9</td>\n",
              "      <td>BEPENSA LEASING S.A. DE C.V.</td>\n",
              "      <td>ARRENDAMIENTO FINANCIERO</td>\n",
              "      <td>AA RENTA EXIGIBLE CL0000006877 30/36 de 03/12/...</td>\n",
              "      <td>PPD</td>\n",
              "      <td>99.0</td>\n",
              "      <td>1.0</td>\n",
              "      <td>5551.98</td>\n",
              "      <td>888.32</td>\n",
              "      <td>0.0</td>\n",
              "      <td>0.0</td>\n",
              "      <td>NaN</td>\n",
              "      <td>6440.30</td>\n",
              "      <td>6440.30</td>\n",
              "      <td>I</td>\n",
              "      <td>Vigente</td>\n",
              "      <td>PE02-ENE23</td>\n",
              "    </tr>\n",
              "    <tr>\n",
              "      <th>4</th>\n",
              "      <td>2023-01-01</td>\n",
              "      <td>342205</td>\n",
              "      <td>DCC10492-DE51-4C87-8430-5676FBF81931</td>\n",
              "      <td>BLE1512082R9</td>\n",
              "      <td>BEPENSA LEASING S.A. DE C.V.</td>\n",
              "      <td>ARRENDAMIENTO FINANCIERO</td>\n",
              "      <td>AA RENTA EXIGIBLE CL0000009486 5/48 de 03/12/2...</td>\n",
              "      <td>PPD</td>\n",
              "      <td>99.0</td>\n",
              "      <td>1.0</td>\n",
              "      <td>8454.37</td>\n",
              "      <td>1352.70</td>\n",
              "      <td>0.0</td>\n",
              "      <td>0.0</td>\n",
              "      <td>NaN</td>\n",
              "      <td>9807.07</td>\n",
              "      <td>9807.07</td>\n",
              "      <td>I</td>\n",
              "      <td>Vigente</td>\n",
              "      <td>PE03-ENE23</td>\n",
              "    </tr>\n",
              "  </tbody>\n",
              "</table>\n",
              "</div>\n",
              "      <button class=\"colab-df-convert\" onclick=\"convertToInteractive('df-eeef611f-58cc-47e5-ba37-22e1e9192099')\"\n",
              "              title=\"Convert this dataframe to an interactive table.\"\n",
              "              style=\"display:none;\">\n",
              "        \n",
              "  <svg xmlns=\"http://www.w3.org/2000/svg\" height=\"24px\"viewBox=\"0 0 24 24\"\n",
              "       width=\"24px\">\n",
              "    <path d=\"M0 0h24v24H0V0z\" fill=\"none\"/>\n",
              "    <path d=\"M18.56 5.44l.94 2.06.94-2.06 2.06-.94-2.06-.94-.94-2.06-.94 2.06-2.06.94zm-11 1L8.5 8.5l.94-2.06 2.06-.94-2.06-.94L8.5 2.5l-.94 2.06-2.06.94zm10 10l.94 2.06.94-2.06 2.06-.94-2.06-.94-.94-2.06-.94 2.06-2.06.94z\"/><path d=\"M17.41 7.96l-1.37-1.37c-.4-.4-.92-.59-1.43-.59-.52 0-1.04.2-1.43.59L10.3 9.45l-7.72 7.72c-.78.78-.78 2.05 0 2.83L4 21.41c.39.39.9.59 1.41.59.51 0 1.02-.2 1.41-.59l7.78-7.78 2.81-2.81c.8-.78.8-2.07 0-2.86zM5.41 20L4 18.59l7.72-7.72 1.47 1.35L5.41 20z\"/>\n",
              "  </svg>\n",
              "      </button>\n",
              "      \n",
              "  <style>\n",
              "    .colab-df-container {\n",
              "      display:flex;\n",
              "      flex-wrap:wrap;\n",
              "      gap: 12px;\n",
              "    }\n",
              "\n",
              "    .colab-df-convert {\n",
              "      background-color: #E8F0FE;\n",
              "      border: none;\n",
              "      border-radius: 50%;\n",
              "      cursor: pointer;\n",
              "      display: none;\n",
              "      fill: #1967D2;\n",
              "      height: 32px;\n",
              "      padding: 0 0 0 0;\n",
              "      width: 32px;\n",
              "    }\n",
              "\n",
              "    .colab-df-convert:hover {\n",
              "      background-color: #E2EBFA;\n",
              "      box-shadow: 0px 1px 2px rgba(60, 64, 67, 0.3), 0px 1px 3px 1px rgba(60, 64, 67, 0.15);\n",
              "      fill: #174EA6;\n",
              "    }\n",
              "\n",
              "    [theme=dark] .colab-df-convert {\n",
              "      background-color: #3B4455;\n",
              "      fill: #D2E3FC;\n",
              "    }\n",
              "\n",
              "    [theme=dark] .colab-df-convert:hover {\n",
              "      background-color: #434B5C;\n",
              "      box-shadow: 0px 1px 3px 1px rgba(0, 0, 0, 0.15);\n",
              "      filter: drop-shadow(0px 1px 2px rgba(0, 0, 0, 0.3));\n",
              "      fill: #FFFFFF;\n",
              "    }\n",
              "  </style>\n",
              "\n",
              "      <script>\n",
              "        const buttonEl =\n",
              "          document.querySelector('#df-eeef611f-58cc-47e5-ba37-22e1e9192099 button.colab-df-convert');\n",
              "        buttonEl.style.display =\n",
              "          google.colab.kernel.accessAllowed ? 'block' : 'none';\n",
              "\n",
              "        async function convertToInteractive(key) {\n",
              "          const element = document.querySelector('#df-eeef611f-58cc-47e5-ba37-22e1e9192099');\n",
              "          const dataTable =\n",
              "            await google.colab.kernel.invokeFunction('convertToInteractive',\n",
              "                                                     [key], {});\n",
              "          if (!dataTable) return;\n",
              "\n",
              "          const docLinkHtml = 'Like what you see? Visit the ' +\n",
              "            '<a target=\"_blank\" href=https://colab.research.google.com/notebooks/data_table.ipynb>data table notebook</a>'\n",
              "            + ' to learn more about interactive tables.';\n",
              "          element.innerHTML = '';\n",
              "          dataTable['output_type'] = 'display_data';\n",
              "          await google.colab.output.renderOutput(dataTable, element);\n",
              "          const docLink = document.createElement('div');\n",
              "          docLink.innerHTML = docLinkHtml;\n",
              "          element.appendChild(docLink);\n",
              "        }\n",
              "      </script>\n",
              "    </div>\n",
              "  </div>\n",
              "  "
            ]
          },
          "metadata": {},
          "execution_count": 4
        }
      ]
    },
    {
      "cell_type": "markdown",
      "source": [
        "## Converción de variable TIPO GASTO"
      ],
      "metadata": {
        "id": "bZTaRWD8QI6U"
      }
    },
    {
      "cell_type": "code",
      "source": [
        "#Rellenamos nulos\n",
        "df23 =df23.fillna(method=\"bfill\")\n",
        "df23 =df23.fillna(method=\"ffill\")"
      ],
      "metadata": {
        "id": "ViLxYpmJVbyc"
      },
      "execution_count": null,
      "outputs": []
    },
    {
      "cell_type": "code",
      "source": [
        "unico = np.unique(df23['TIPO GASTO'])\n",
        "unico"
      ],
      "metadata": {
        "colab": {
          "base_uri": "https://localhost:8080/"
        },
        "id": "H7m0LYRaVjXw",
        "outputId": "187a9489-74f8-4e7c-a315-5d8aece4bc5f"
      },
      "execution_count": null,
      "outputs": [
        {
          "output_type": "execute_result",
          "data": {
            "text/plain": [
              "array(['ALIMENTOS', 'ARRENDAMIENTO FINANCIERO', 'CAPACITACION',\n",
              "       'COMISION BANCARIA', 'COMISION MIXTA', 'COMPRAS', 'COMPRAS ',\n",
              "       'CREDITO ', 'DERECHOS', 'FLETES', 'GASOLINA', 'GERENCIA ADMON',\n",
              "       'HONORARIOS CONTABLES', 'HONORARIOS PM', 'IMSS/INFONAVIT',\n",
              "       'MAQUINARIA', 'MENSAJERIA', 'MONITOREO CAMARAS ADT', 'MTT OFICINA',\n",
              "       'MTTO COMPUTO', 'MTTO LOCAL', 'MTTO MAQUINARIA', 'MTTO OFICINA ',\n",
              "       'MTTO TRANSPORTE', 'NO DEDUCIBLE', 'PAPELERIA', 'PAQUETERIA',\n",
              "       'PUBLICIDAD', 'RENTA AUTO', 'RENTA COPIADORA', 'SEGUROS',\n",
              "       'SUELDOS DIRECCION', 'SUSCRIPCIONES', 'TELEFONO', 'UNIFORMES',\n",
              "       'VALES DESPENSA', 'VARIOS'], dtype=object)"
            ]
          },
          "metadata": {},
          "execution_count": 22
        }
      ]
    },
    {
      "cell_type": "code",
      "source": [
        "df23['TIPO GASTO']= df23['TIPO GASTO'].replace(['COMPRAS '],\"COMPRAS\")\n",
        "df23['TIPO GASTO']= df23['TIPO GASTO'].replace(['ALIMENTOS', 'ARRENDAMIENTO FINANCIERO', 'CAPACITACION',\n",
        "       'COMISION BANCARIA', 'COMISION MIXTA', 'COMPRAS ',\n",
        "       'CREDITO ', 'DERECHOS', 'FLETES', 'GASOLINA', 'GERENCIA ADMON',\n",
        "       'HONORARIOS CONTABLES', 'HONORARIOS PM', 'IMSS/INFONAVIT',\n",
        "       'MAQUINARIA', 'MENSAJERIA', 'MONITOREO CAMARAS ADT', 'MTT OFICINA',\n",
        "       'MTTO COMPUTO', 'MTTO LOCAL', 'MTTO MAQUINARIA', 'MTTO OFICINA ',\n",
        "       'MTTO TRANSPORTE', 'NO DEDUCIBLE', 'PAPELERIA', 'PAQUETERIA',\n",
        "       'PUBLICIDAD', 'RENTA AUTO', 'RENTA COPIADORA', 'SEGUROS',\n",
        "       'SUELDOS DIRECCION', 'SUSCRIPCIONES', 'TELEFONO', 'UNIFORMES',\n",
        "       'VALES DESPENSA', 'VARIOS'], \"OTROS GASTOS\")\n",
        "df23"
      ],
      "metadata": {
        "colab": {
          "base_uri": "https://localhost:8080/",
          "height": 1000
        },
        "id": "Jpj3HlGjS_g8",
        "outputId": "11057ff7-c82d-45e2-f384-7af6a5826330"
      },
      "execution_count": null,
      "outputs": [
        {
          "output_type": "execute_result",
          "data": {
            "text/plain": [
              "         Fecha       Folio                                  UUID  \\\n",
              "0   2023-01-01          31  49536321-60A4-523E-A32F-E8BDF5C2276E   \n",
              "1   2023-01-01          38  20FBB63B-D550-512F-9668-EEC6F983CEB7   \n",
              "2   2023-01-01      341932  DB8C4388-D4E0-4F0C-A09C-77C773257F44   \n",
              "3   2023-01-01      341933  A81A63F5-D5EC-4601-803E-375AF9CC5021   \n",
              "4   2023-01-01      342205  DCC10492-DE51-4C87-8430-5676FBF81931   \n",
              "..         ...         ...                                   ...   \n",
              "392 2023-02-01      882974  3E97C399-6747-4BCA-8436-ED4B0933DF33   \n",
              "393 2023-02-01      053560  B7132758-F800-4797-B1D6-CC61AFFEE444   \n",
              "394 2023-02-01  1092957089  D1E2DC1E-9FFB-46C6-82E4-B350B83CB6F7   \n",
              "395 2023-02-01     1453820  6249FE27-6FA6-4EFB-910E-3CD67A0E29A1   \n",
              "396 2023-02-01          18  439A9230-277E-5563-818C-7630B0E8D706   \n",
              "\n",
              "              RFC                                          Proveedor  \\\n",
              "0    AAE6411055P8                          AESA ARTICULOS ELECTRICOS   \n",
              "1    AAE6411055P8                          AESA ARTICULOS ELECTRICOS   \n",
              "2    BLE1512082R9                       BEPENSA LEASING S.A. DE C.V.   \n",
              "3    BLE1512082R9                       BEPENSA LEASING S.A. DE C.V.   \n",
              "4    BLE1512082R9                       BEPENSA LEASING S.A. DE C.V.   \n",
              "..            ...                                                ...   \n",
              "392  BIN940223KE0  BANCO INVEX, S.A., INSTITUCION DE BANCA MULTIP...   \n",
              "393  BPU7901018D4                                BEBIDAS PURIFICADAS   \n",
              "394  BMN930209927  BANCO MERCANTIL DEL NORTE SA INSTITUCION DE BA...   \n",
              "395  EFE8908015L3                      EFECTIVALE S. de R.L. de C.V.   \n",
              "396  AAE6411055P8                          AESA ARTICULOS ELECTRICOS   \n",
              "\n",
              "       TIPO GASTO                                        Descripción   MP  \\\n",
              "0         COMPRAS                                               Pago  PPD   \n",
              "1         COMPRAS                                               Pago  PPD   \n",
              "2    OTROS GASTOS  AA RENTA EXIGIBLE CL0000006876 30/36 de 03/12/...  PPD   \n",
              "3    OTROS GASTOS  AA RENTA EXIGIBLE CL0000006877 30/36 de 03/12/...  PPD   \n",
              "4    OTROS GASTOS  AA RENTA EXIGIBLE CL0000009486 5/48 de 03/12/2...  PPD   \n",
              "..            ...                                                ...  ...   \n",
              "392  OTROS GASTOS                             COMISIONES E INTERESES  PUE   \n",
              "393  OTROS GASTOS                         Epura 20 Lts Policarbonato  PUE   \n",
              "394  OTROS GASTOS                                SERVICIOS BANCARIOS  PUE   \n",
              "395  OTROS GASTOS  CONSUMOS DE COMBUSTIBLE DE MONEDEROS ELECTRONICOS  PUE   \n",
              "396       COMPRAS                                               Pago  PUE   \n",
              "\n",
              "       FP   TC   Importe      IVA  RET ISR  RET IVA  Otros  TOTAL MX  \\\n",
              "0    99.0  1.0      0.00     0.00      0.0      0.0    NaN      0.00   \n",
              "1    99.0  1.0      0.00     0.00      0.0      0.0    NaN      0.00   \n",
              "2    99.0  1.0   5551.38   888.22      0.0      0.0    NaN   6439.60   \n",
              "3    99.0  1.0   5551.98   888.32      0.0      0.0    NaN   6440.30   \n",
              "4    99.0  1.0   8454.37  1352.70      0.0      0.0    NaN   9807.07   \n",
              "..    ...  ...       ...      ...      ...      ...    ...       ...   \n",
              "392   3.0  1.0      0.00     0.00      0.0      0.0    NaN      0.00   \n",
              "393   1.0  1.0    220.00     0.00      0.0      0.0    NaN    220.00   \n",
              "394   3.0  1.0  18071.52   682.40      0.0      0.0    NaN  18753.92   \n",
              "395   5.0  1.0  14472.32     0.00      0.0      0.0    NaN  14472.32   \n",
              "396   5.0  1.0      0.00     0.00      0.0      0.0    NaN      0.00   \n",
              "\n",
              "     TOTAL SAT Tipo   Status       Poliza  \n",
              "0         0.00    P  Vigente   PE01-ENE23  \n",
              "1         0.00    P  Vigente   PE01-ENE23  \n",
              "2      6439.60    I  Vigente   PE01-ENE23  \n",
              "3      6440.30    I  Vigente   PE02-ENE23  \n",
              "4      9807.07    I  Vigente   PE03-ENE23  \n",
              "..         ...  ...      ...          ...  \n",
              "392       0.00    I  Vigente  PE111-FEB23  \n",
              "393     220.00    I  Vigente  PE111-FEB23  \n",
              "394   18753.92    I  Vigente  PE111-FEB23  \n",
              "395   14472.32    I  Vigente  PE111-FEB23  \n",
              "396       0.00    P  Vigente  PE111-FEB23  \n",
              "\n",
              "[397 rows x 20 columns]"
            ],
            "text/html": [
              "\n",
              "  <div id=\"df-99617065-1c65-486a-803d-c20c7cb47a44\">\n",
              "    <div class=\"colab-df-container\">\n",
              "      <div>\n",
              "<style scoped>\n",
              "    .dataframe tbody tr th:only-of-type {\n",
              "        vertical-align: middle;\n",
              "    }\n",
              "\n",
              "    .dataframe tbody tr th {\n",
              "        vertical-align: top;\n",
              "    }\n",
              "\n",
              "    .dataframe thead th {\n",
              "        text-align: right;\n",
              "    }\n",
              "</style>\n",
              "<table border=\"1\" class=\"dataframe\">\n",
              "  <thead>\n",
              "    <tr style=\"text-align: right;\">\n",
              "      <th></th>\n",
              "      <th>Fecha</th>\n",
              "      <th>Folio</th>\n",
              "      <th>UUID</th>\n",
              "      <th>RFC</th>\n",
              "      <th>Proveedor</th>\n",
              "      <th>TIPO GASTO</th>\n",
              "      <th>Descripción</th>\n",
              "      <th>MP</th>\n",
              "      <th>FP</th>\n",
              "      <th>TC</th>\n",
              "      <th>Importe</th>\n",
              "      <th>IVA</th>\n",
              "      <th>RET ISR</th>\n",
              "      <th>RET IVA</th>\n",
              "      <th>Otros</th>\n",
              "      <th>TOTAL MX</th>\n",
              "      <th>TOTAL SAT</th>\n",
              "      <th>Tipo</th>\n",
              "      <th>Status</th>\n",
              "      <th>Poliza</th>\n",
              "    </tr>\n",
              "  </thead>\n",
              "  <tbody>\n",
              "    <tr>\n",
              "      <th>0</th>\n",
              "      <td>2023-01-01</td>\n",
              "      <td>31</td>\n",
              "      <td>49536321-60A4-523E-A32F-E8BDF5C2276E</td>\n",
              "      <td>AAE6411055P8</td>\n",
              "      <td>AESA ARTICULOS ELECTRICOS</td>\n",
              "      <td>COMPRAS</td>\n",
              "      <td>Pago</td>\n",
              "      <td>PPD</td>\n",
              "      <td>99.0</td>\n",
              "      <td>1.0</td>\n",
              "      <td>0.00</td>\n",
              "      <td>0.00</td>\n",
              "      <td>0.0</td>\n",
              "      <td>0.0</td>\n",
              "      <td>NaN</td>\n",
              "      <td>0.00</td>\n",
              "      <td>0.00</td>\n",
              "      <td>P</td>\n",
              "      <td>Vigente</td>\n",
              "      <td>PE01-ENE23</td>\n",
              "    </tr>\n",
              "    <tr>\n",
              "      <th>1</th>\n",
              "      <td>2023-01-01</td>\n",
              "      <td>38</td>\n",
              "      <td>20FBB63B-D550-512F-9668-EEC6F983CEB7</td>\n",
              "      <td>AAE6411055P8</td>\n",
              "      <td>AESA ARTICULOS ELECTRICOS</td>\n",
              "      <td>COMPRAS</td>\n",
              "      <td>Pago</td>\n",
              "      <td>PPD</td>\n",
              "      <td>99.0</td>\n",
              "      <td>1.0</td>\n",
              "      <td>0.00</td>\n",
              "      <td>0.00</td>\n",
              "      <td>0.0</td>\n",
              "      <td>0.0</td>\n",
              "      <td>NaN</td>\n",
              "      <td>0.00</td>\n",
              "      <td>0.00</td>\n",
              "      <td>P</td>\n",
              "      <td>Vigente</td>\n",
              "      <td>PE01-ENE23</td>\n",
              "    </tr>\n",
              "    <tr>\n",
              "      <th>2</th>\n",
              "      <td>2023-01-01</td>\n",
              "      <td>341932</td>\n",
              "      <td>DB8C4388-D4E0-4F0C-A09C-77C773257F44</td>\n",
              "      <td>BLE1512082R9</td>\n",
              "      <td>BEPENSA LEASING S.A. DE C.V.</td>\n",
              "      <td>OTROS GASTOS</td>\n",
              "      <td>AA RENTA EXIGIBLE CL0000006876 30/36 de 03/12/...</td>\n",
              "      <td>PPD</td>\n",
              "      <td>99.0</td>\n",
              "      <td>1.0</td>\n",
              "      <td>5551.38</td>\n",
              "      <td>888.22</td>\n",
              "      <td>0.0</td>\n",
              "      <td>0.0</td>\n",
              "      <td>NaN</td>\n",
              "      <td>6439.60</td>\n",
              "      <td>6439.60</td>\n",
              "      <td>I</td>\n",
              "      <td>Vigente</td>\n",
              "      <td>PE01-ENE23</td>\n",
              "    </tr>\n",
              "    <tr>\n",
              "      <th>3</th>\n",
              "      <td>2023-01-01</td>\n",
              "      <td>341933</td>\n",
              "      <td>A81A63F5-D5EC-4601-803E-375AF9CC5021</td>\n",
              "      <td>BLE1512082R9</td>\n",
              "      <td>BEPENSA LEASING S.A. DE C.V.</td>\n",
              "      <td>OTROS GASTOS</td>\n",
              "      <td>AA RENTA EXIGIBLE CL0000006877 30/36 de 03/12/...</td>\n",
              "      <td>PPD</td>\n",
              "      <td>99.0</td>\n",
              "      <td>1.0</td>\n",
              "      <td>5551.98</td>\n",
              "      <td>888.32</td>\n",
              "      <td>0.0</td>\n",
              "      <td>0.0</td>\n",
              "      <td>NaN</td>\n",
              "      <td>6440.30</td>\n",
              "      <td>6440.30</td>\n",
              "      <td>I</td>\n",
              "      <td>Vigente</td>\n",
              "      <td>PE02-ENE23</td>\n",
              "    </tr>\n",
              "    <tr>\n",
              "      <th>4</th>\n",
              "      <td>2023-01-01</td>\n",
              "      <td>342205</td>\n",
              "      <td>DCC10492-DE51-4C87-8430-5676FBF81931</td>\n",
              "      <td>BLE1512082R9</td>\n",
              "      <td>BEPENSA LEASING S.A. DE C.V.</td>\n",
              "      <td>OTROS GASTOS</td>\n",
              "      <td>AA RENTA EXIGIBLE CL0000009486 5/48 de 03/12/2...</td>\n",
              "      <td>PPD</td>\n",
              "      <td>99.0</td>\n",
              "      <td>1.0</td>\n",
              "      <td>8454.37</td>\n",
              "      <td>1352.70</td>\n",
              "      <td>0.0</td>\n",
              "      <td>0.0</td>\n",
              "      <td>NaN</td>\n",
              "      <td>9807.07</td>\n",
              "      <td>9807.07</td>\n",
              "      <td>I</td>\n",
              "      <td>Vigente</td>\n",
              "      <td>PE03-ENE23</td>\n",
              "    </tr>\n",
              "    <tr>\n",
              "      <th>...</th>\n",
              "      <td>...</td>\n",
              "      <td>...</td>\n",
              "      <td>...</td>\n",
              "      <td>...</td>\n",
              "      <td>...</td>\n",
              "      <td>...</td>\n",
              "      <td>...</td>\n",
              "      <td>...</td>\n",
              "      <td>...</td>\n",
              "      <td>...</td>\n",
              "      <td>...</td>\n",
              "      <td>...</td>\n",
              "      <td>...</td>\n",
              "      <td>...</td>\n",
              "      <td>...</td>\n",
              "      <td>...</td>\n",
              "      <td>...</td>\n",
              "      <td>...</td>\n",
              "      <td>...</td>\n",
              "      <td>...</td>\n",
              "    </tr>\n",
              "    <tr>\n",
              "      <th>392</th>\n",
              "      <td>2023-02-01</td>\n",
              "      <td>882974</td>\n",
              "      <td>3E97C399-6747-4BCA-8436-ED4B0933DF33</td>\n",
              "      <td>BIN940223KE0</td>\n",
              "      <td>BANCO INVEX, S.A., INSTITUCION DE BANCA MULTIP...</td>\n",
              "      <td>OTROS GASTOS</td>\n",
              "      <td>COMISIONES E INTERESES</td>\n",
              "      <td>PUE</td>\n",
              "      <td>3.0</td>\n",
              "      <td>1.0</td>\n",
              "      <td>0.00</td>\n",
              "      <td>0.00</td>\n",
              "      <td>0.0</td>\n",
              "      <td>0.0</td>\n",
              "      <td>NaN</td>\n",
              "      <td>0.00</td>\n",
              "      <td>0.00</td>\n",
              "      <td>I</td>\n",
              "      <td>Vigente</td>\n",
              "      <td>PE111-FEB23</td>\n",
              "    </tr>\n",
              "    <tr>\n",
              "      <th>393</th>\n",
              "      <td>2023-02-01</td>\n",
              "      <td>053560</td>\n",
              "      <td>B7132758-F800-4797-B1D6-CC61AFFEE444</td>\n",
              "      <td>BPU7901018D4</td>\n",
              "      <td>BEBIDAS PURIFICADAS</td>\n",
              "      <td>OTROS GASTOS</td>\n",
              "      <td>Epura 20 Lts Policarbonato</td>\n",
              "      <td>PUE</td>\n",
              "      <td>1.0</td>\n",
              "      <td>1.0</td>\n",
              "      <td>220.00</td>\n",
              "      <td>0.00</td>\n",
              "      <td>0.0</td>\n",
              "      <td>0.0</td>\n",
              "      <td>NaN</td>\n",
              "      <td>220.00</td>\n",
              "      <td>220.00</td>\n",
              "      <td>I</td>\n",
              "      <td>Vigente</td>\n",
              "      <td>PE111-FEB23</td>\n",
              "    </tr>\n",
              "    <tr>\n",
              "      <th>394</th>\n",
              "      <td>2023-02-01</td>\n",
              "      <td>1092957089</td>\n",
              "      <td>D1E2DC1E-9FFB-46C6-82E4-B350B83CB6F7</td>\n",
              "      <td>BMN930209927</td>\n",
              "      <td>BANCO MERCANTIL DEL NORTE SA INSTITUCION DE BA...</td>\n",
              "      <td>OTROS GASTOS</td>\n",
              "      <td>SERVICIOS BANCARIOS</td>\n",
              "      <td>PUE</td>\n",
              "      <td>3.0</td>\n",
              "      <td>1.0</td>\n",
              "      <td>18071.52</td>\n",
              "      <td>682.40</td>\n",
              "      <td>0.0</td>\n",
              "      <td>0.0</td>\n",
              "      <td>NaN</td>\n",
              "      <td>18753.92</td>\n",
              "      <td>18753.92</td>\n",
              "      <td>I</td>\n",
              "      <td>Vigente</td>\n",
              "      <td>PE111-FEB23</td>\n",
              "    </tr>\n",
              "    <tr>\n",
              "      <th>395</th>\n",
              "      <td>2023-02-01</td>\n",
              "      <td>1453820</td>\n",
              "      <td>6249FE27-6FA6-4EFB-910E-3CD67A0E29A1</td>\n",
              "      <td>EFE8908015L3</td>\n",
              "      <td>EFECTIVALE S. de R.L. de C.V.</td>\n",
              "      <td>OTROS GASTOS</td>\n",
              "      <td>CONSUMOS DE COMBUSTIBLE DE MONEDEROS ELECTRONICOS</td>\n",
              "      <td>PUE</td>\n",
              "      <td>5.0</td>\n",
              "      <td>1.0</td>\n",
              "      <td>14472.32</td>\n",
              "      <td>0.00</td>\n",
              "      <td>0.0</td>\n",
              "      <td>0.0</td>\n",
              "      <td>NaN</td>\n",
              "      <td>14472.32</td>\n",
              "      <td>14472.32</td>\n",
              "      <td>I</td>\n",
              "      <td>Vigente</td>\n",
              "      <td>PE111-FEB23</td>\n",
              "    </tr>\n",
              "    <tr>\n",
              "      <th>396</th>\n",
              "      <td>2023-02-01</td>\n",
              "      <td>18</td>\n",
              "      <td>439A9230-277E-5563-818C-7630B0E8D706</td>\n",
              "      <td>AAE6411055P8</td>\n",
              "      <td>AESA ARTICULOS ELECTRICOS</td>\n",
              "      <td>COMPRAS</td>\n",
              "      <td>Pago</td>\n",
              "      <td>PUE</td>\n",
              "      <td>5.0</td>\n",
              "      <td>1.0</td>\n",
              "      <td>0.00</td>\n",
              "      <td>0.00</td>\n",
              "      <td>0.0</td>\n",
              "      <td>0.0</td>\n",
              "      <td>NaN</td>\n",
              "      <td>0.00</td>\n",
              "      <td>0.00</td>\n",
              "      <td>P</td>\n",
              "      <td>Vigente</td>\n",
              "      <td>PE111-FEB23</td>\n",
              "    </tr>\n",
              "  </tbody>\n",
              "</table>\n",
              "<p>397 rows × 20 columns</p>\n",
              "</div>\n",
              "      <button class=\"colab-df-convert\" onclick=\"convertToInteractive('df-99617065-1c65-486a-803d-c20c7cb47a44')\"\n",
              "              title=\"Convert this dataframe to an interactive table.\"\n",
              "              style=\"display:none;\">\n",
              "        \n",
              "  <svg xmlns=\"http://www.w3.org/2000/svg\" height=\"24px\"viewBox=\"0 0 24 24\"\n",
              "       width=\"24px\">\n",
              "    <path d=\"M0 0h24v24H0V0z\" fill=\"none\"/>\n",
              "    <path d=\"M18.56 5.44l.94 2.06.94-2.06 2.06-.94-2.06-.94-.94-2.06-.94 2.06-2.06.94zm-11 1L8.5 8.5l.94-2.06 2.06-.94-2.06-.94L8.5 2.5l-.94 2.06-2.06.94zm10 10l.94 2.06.94-2.06 2.06-.94-2.06-.94-.94-2.06-.94 2.06-2.06.94z\"/><path d=\"M17.41 7.96l-1.37-1.37c-.4-.4-.92-.59-1.43-.59-.52 0-1.04.2-1.43.59L10.3 9.45l-7.72 7.72c-.78.78-.78 2.05 0 2.83L4 21.41c.39.39.9.59 1.41.59.51 0 1.02-.2 1.41-.59l7.78-7.78 2.81-2.81c.8-.78.8-2.07 0-2.86zM5.41 20L4 18.59l7.72-7.72 1.47 1.35L5.41 20z\"/>\n",
              "  </svg>\n",
              "      </button>\n",
              "      \n",
              "  <style>\n",
              "    .colab-df-container {\n",
              "      display:flex;\n",
              "      flex-wrap:wrap;\n",
              "      gap: 12px;\n",
              "    }\n",
              "\n",
              "    .colab-df-convert {\n",
              "      background-color: #E8F0FE;\n",
              "      border: none;\n",
              "      border-radius: 50%;\n",
              "      cursor: pointer;\n",
              "      display: none;\n",
              "      fill: #1967D2;\n",
              "      height: 32px;\n",
              "      padding: 0 0 0 0;\n",
              "      width: 32px;\n",
              "    }\n",
              "\n",
              "    .colab-df-convert:hover {\n",
              "      background-color: #E2EBFA;\n",
              "      box-shadow: 0px 1px 2px rgba(60, 64, 67, 0.3), 0px 1px 3px 1px rgba(60, 64, 67, 0.15);\n",
              "      fill: #174EA6;\n",
              "    }\n",
              "\n",
              "    [theme=dark] .colab-df-convert {\n",
              "      background-color: #3B4455;\n",
              "      fill: #D2E3FC;\n",
              "    }\n",
              "\n",
              "    [theme=dark] .colab-df-convert:hover {\n",
              "      background-color: #434B5C;\n",
              "      box-shadow: 0px 1px 3px 1px rgba(0, 0, 0, 0.15);\n",
              "      filter: drop-shadow(0px 1px 2px rgba(0, 0, 0, 0.3));\n",
              "      fill: #FFFFFF;\n",
              "    }\n",
              "  </style>\n",
              "\n",
              "      <script>\n",
              "        const buttonEl =\n",
              "          document.querySelector('#df-99617065-1c65-486a-803d-c20c7cb47a44 button.colab-df-convert');\n",
              "        buttonEl.style.display =\n",
              "          google.colab.kernel.accessAllowed ? 'block' : 'none';\n",
              "\n",
              "        async function convertToInteractive(key) {\n",
              "          const element = document.querySelector('#df-99617065-1c65-486a-803d-c20c7cb47a44');\n",
              "          const dataTable =\n",
              "            await google.colab.kernel.invokeFunction('convertToInteractive',\n",
              "                                                     [key], {});\n",
              "          if (!dataTable) return;\n",
              "\n",
              "          const docLinkHtml = 'Like what you see? Visit the ' +\n",
              "            '<a target=\"_blank\" href=https://colab.research.google.com/notebooks/data_table.ipynb>data table notebook</a>'\n",
              "            + ' to learn more about interactive tables.';\n",
              "          element.innerHTML = '';\n",
              "          dataTable['output_type'] = 'display_data';\n",
              "          await google.colab.output.renderOutput(dataTable, element);\n",
              "          const docLink = document.createElement('div');\n",
              "          docLink.innerHTML = docLinkHtml;\n",
              "          element.appendChild(docLink);\n",
              "        }\n",
              "      </script>\n",
              "    </div>\n",
              "  </div>\n",
              "  "
            ]
          },
          "metadata": {},
          "execution_count": 23
        }
      ]
    },
    {
      "cell_type": "code",
      "source": [
        "df23['TIPO GASTO'].value_counts()"
      ],
      "metadata": {
        "colab": {
          "base_uri": "https://localhost:8080/"
        },
        "id": "Eq1APtOTVu87",
        "outputId": "c4b9c42c-e2fe-4fb1-d8f2-89e53967d38b"
      },
      "execution_count": null,
      "outputs": [
        {
          "output_type": "execute_result",
          "data": {
            "text/plain": [
              "COMPRAS         210\n",
              "OTROS GASTOS    187\n",
              "Name: TIPO GASTO, dtype: int64"
            ]
          },
          "metadata": {},
          "execution_count": 24
        }
      ]
    },
    {
      "cell_type": "markdown",
      "source": [
        "## **Regresión Logística**"
      ],
      "metadata": {
        "id": "9cZp4jatWCfs"
      }
    },
    {
      "cell_type": "code",
      "source": [
        "X= df23[['TOTAL MX']]\n",
        "y= df23['TIPO GASTO']\n",
        "X_train, X_test, y_train, y_test = train_test_split(X, y, test_size=0.3, random_state =12)"
      ],
      "metadata": {
        "id": "0sgVYVmAQwBv"
      },
      "execution_count": null,
      "outputs": []
    },
    {
      "cell_type": "code",
      "source": [
        "escalar = StandardScaler()\n",
        "X_train = escalar.fit_transform(X_train)\n",
        "X_test = escalar.transform(X_test)\n",
        "from sklearn.linear_model import LogisticRegression\n",
        "algoritmo = LogisticRegression()\n",
        "algoritmo.fit(X_train, y_train)\n",
        "y_pred = algoritmo.predict(X_test) \n",
        "y_pred"
      ],
      "metadata": {
        "colab": {
          "base_uri": "https://localhost:8080/"
        },
        "id": "ynXc6Z94WXzX",
        "outputId": "12499806-4c8d-40f6-e6ef-cbea9f46f906"
      },
      "execution_count": null,
      "outputs": [
        {
          "output_type": "execute_result",
          "data": {
            "text/plain": [
              "array(['OTROS GASTOS', 'COMPRAS', 'COMPRAS', 'COMPRAS', 'COMPRAS',\n",
              "       'COMPRAS', 'COMPRAS', 'COMPRAS', 'COMPRAS', 'COMPRAS', 'COMPRAS',\n",
              "       'OTROS GASTOS', 'COMPRAS', 'COMPRAS', 'COMPRAS', 'COMPRAS',\n",
              "       'COMPRAS', 'COMPRAS', 'COMPRAS', 'COMPRAS', 'COMPRAS', 'COMPRAS',\n",
              "       'COMPRAS', 'COMPRAS', 'COMPRAS', 'COMPRAS', 'COMPRAS', 'COMPRAS',\n",
              "       'COMPRAS', 'COMPRAS', 'COMPRAS', 'COMPRAS', 'COMPRAS', 'COMPRAS',\n",
              "       'COMPRAS', 'COMPRAS', 'COMPRAS', 'COMPRAS', 'COMPRAS', 'COMPRAS',\n",
              "       'COMPRAS', 'COMPRAS', 'OTROS GASTOS', 'COMPRAS', 'COMPRAS',\n",
              "       'COMPRAS', 'OTROS GASTOS', 'OTROS GASTOS', 'COMPRAS', 'COMPRAS',\n",
              "       'COMPRAS', 'COMPRAS', 'COMPRAS', 'COMPRAS', 'COMPRAS', 'COMPRAS',\n",
              "       'COMPRAS', 'COMPRAS', 'COMPRAS', 'OTROS GASTOS', 'COMPRAS',\n",
              "       'COMPRAS', 'COMPRAS', 'COMPRAS', 'COMPRAS', 'OTROS GASTOS',\n",
              "       'COMPRAS', 'COMPRAS', 'COMPRAS', 'OTROS GASTOS', 'COMPRAS',\n",
              "       'COMPRAS', 'COMPRAS', 'COMPRAS', 'OTROS GASTOS', 'COMPRAS',\n",
              "       'COMPRAS', 'COMPRAS', 'COMPRAS', 'COMPRAS', 'COMPRAS', 'COMPRAS',\n",
              "       'COMPRAS', 'COMPRAS', 'COMPRAS', 'COMPRAS', 'OTROS GASTOS',\n",
              "       'OTROS GASTOS', 'COMPRAS', 'COMPRAS', 'COMPRAS', 'OTROS GASTOS',\n",
              "       'COMPRAS', 'COMPRAS', 'COMPRAS', 'COMPRAS', 'COMPRAS', 'COMPRAS',\n",
              "       'COMPRAS', 'COMPRAS', 'COMPRAS', 'COMPRAS', 'COMPRAS', 'COMPRAS',\n",
              "       'COMPRAS', 'OTROS GASTOS', 'COMPRAS', 'COMPRAS', 'COMPRAS',\n",
              "       'COMPRAS', 'COMPRAS', 'COMPRAS', 'COMPRAS', 'COMPRAS', 'COMPRAS',\n",
              "       'COMPRAS', 'COMPRAS', 'COMPRAS', 'COMPRAS', 'COMPRAS'],\n",
              "      dtype=object)"
            ]
          },
          "metadata": {},
          "execution_count": 31
        }
      ]
    },
    {
      "cell_type": "code",
      "source": [
        "from sklearn.metrics import confusion_matrix\n",
        "matriz = confusion_matrix(y_test, y_pred)\n",
        "print('Matriz de Confusión:')\n",
        "print(matriz)"
      ],
      "metadata": {
        "colab": {
          "base_uri": "https://localhost:8080/"
        },
        "id": "K2AUHb-AWnXC",
        "outputId": "25b7e3cc-a644-490a-e4f3-3733a9b82cf1"
      },
      "execution_count": null,
      "outputs": [
        {
          "output_type": "stream",
          "name": "stdout",
          "text": [
            "Matriz de Confusión:\n",
            "[[58  7]\n",
            " [49  6]]\n"
          ]
        }
      ]
    },
    {
      "cell_type": "code",
      "source": [
        "#Calculo la precisión del modelo\n",
        "from sklearn.metrics import precision_score\n",
        "from sklearn.metrics import accuracy_score\n",
        "from sklearn.metrics import recall_score\n",
        "\n",
        "precision = precision_score(y_test, y_pred, average=\"binary\", pos_label=\"COMPRAS\")\n",
        "print('Precisión del modelo:', precision)\n",
        "exactitud = accuracy_score(y_test, y_pred)\n",
        "print('Exactitud del modelo:', exactitud)\n",
        "sensibilidad = recall_score(y_test, y_pred, average=\"binary\", pos_label=\"COMPRAS\")\n",
        "print('Sensibilidad del modelo:', sensibilidad)"
      ],
      "metadata": {
        "colab": {
          "base_uri": "https://localhost:8080/"
        },
        "id": "NgXXZIlvW5if",
        "outputId": "0dabd6a6-df3a-489e-9078-3747738b75ee"
      },
      "execution_count": null,
      "outputs": [
        {
          "output_type": "stream",
          "name": "stdout",
          "text": [
            "Precisión del modelo: 0.5420560747663551\n",
            "Exactitud del modelo: 0.5333333333333333\n",
            "Sensibilidad del modelo: 0.8923076923076924\n"
          ]
        }
      ]
    },
    {
      "cell_type": "markdown",
      "source": [
        "# **Tabla comparativa e Interpretación**"
      ],
      "metadata": {
        "id": "NLe2_V1xmWfj"
      }
    },
    {
      "cell_type": "markdown",
      "source": [
        "![Screenshot 2023-05-05 at 19-07-46 Tabla Actividad 7-1 - Documentos de Google.png](data:image/png;base64,iVBORw0KGgoAAAANSUhEUgAAAmwAAAC3CAYAAACv8wLgAAAgAElEQVR4Xu1dPVIcSRPtPQYYUoTgDuBIEV+EBDcAY9cgAgM4AJgyZMiAA4C5Bg7cAHYtyYE7gCIkA47xfZuzX04URVVl9WTPVHbOa0uifyrzvZfVr6qre3777z9bhw0IAAEgAASAABAAAkDALAK/wbCZ5QaBAQEgAASAABAAAkBgggAMG4QABIAAEAACQAAIAAHjCMCwGScI4QEBIAAEgAAQAAJAAIYNGgACQAAIAAEgAASAgHEEYNiME4TwgAAQAAJAAAgAASAAwwYNAAEgAASAABAAAkDAOAIwbMYJQnhAAAgAASAABIAAEIBhgwaAABAAAkAACAABIGAcARg24wQhPCAABIAAEAACQAAIwLBBA0AACAABIAAEgAAQMI6AaNh+++034ykgPCAABIAAEAACQAAI2EdA82ugVYZN04B9+NpGSIYY+LblAK2PHwHU0fg5tJYBNGWNkfHHo9UUDFtjDWgJbBw+mgcCJhBAHZmgwVUQ0JQrOk0ko9UUDFtjGrUENg4fzQMBEwigjkzQ4CoIaMoVnSaS0WoKhq0xjVoCG4eP5oGACQRQRyZocBUENOWKThPJaDUFw9aYRi2BjcNH80DABAKoIxM0uAoCmnJFp4lktJqCYWtMo5bAxuGjeSBgAgHUkQkaXAUBTbmi00QyWk3BsDWmUUtg4/DRPBAwgQDqyAQNroKAplzRaSIZraZg2BrTqCWwcfhoHgiYQAB1ZIIGV0FAU67oNJGMVlMwbI1p1BLYOHw0DwRMIIA6MkGDqyCgKVd0mkhGqykYtsY0aglsHD6aBwImEEAdmaDBVRDQlCs6TSSj1RQMW2MaJQJpf2pbWVnpnp6eFhI9x/Dw8NCtra2JbZaOPzk56c7Ozrrj4+Pu9PRUvBYOAAI1CMxaR3ztWm3XxNL3mL711ef6q6ur3fPzc3dzc9NtbW31OXXpj5U0xQBtbm529/f3U7xa9W2xjmp0JZ1Tc40hNDbENcYg2FpN5XKBYWvMskRgzrBR2IsybTVFG8JYOp72terQGlON5ueIgKaOKKxFGja6we/t7XWHh4cTRFL1Eh8zK3TLciOcFZ/SeZKm6Nzd3d3u+vr61WXOz8+n/M4jttQ1JfM1yzk1ff8QGhviGovCWdNOjaaKmvzndyz/qxWtJoFlP1ciMFUwj4+P3fr6+gQ6jJyXXUHIn01PqSurufEsAkmejSnd0GuOqY11WW6EtXj0OU7qm1Nm++Liojs6Ouo2Nja6u7u7Ps0Nfuwsmp/lnCE0NsQ1BgdwDhes0RQM2xyAH+qSEoG5AuJOnQ0bH7ezszMd8fENLJ6yT93Y4pFieEOJY7i9ve22t7dfQFA6ng7kR6F8EsV5dXU1vQa3QdehDo83GNKhlOb7OrPWUYhKqGuuEa4L1mtK+/GMca6W4jrkGfKwvn7//fcXj9dSx/CyhNRNjv9GeVFcl5eXeCQ6o/QlTYWGTXpqIPXBNf1f3343d81wNlmalUvdfySN1dSIdI0ZKTN/Wo2mYNgM0ygRWDvDFj865RFeWBghDKFpizuT2CyFMdA+nt2LYeWOII4599ggfKQbx5+L1TCVCK0hArV1lAoxHDyEBu0///nPdPDA9ZLTKQ8sSrX0+fNn0YxpDFuubcoZA5/+4pQ0RVcsDXS5xZo+WOr/wqcqtf2udM3QcOb67rgvr9HYrDWyDDqt0RQMW/9aXdgZEoGlogun3fm4cKTHI53wuHjRf9gRcNHG0/ph0dLxNLtWWj+XM3jhTSMc/dFanjj+VFwLIwUNjQ4BTR3lZnvjgUsKlPDx5adPn6aDmVwtpR535m6K0qx1OMNGsfGsN7cdznTAsPWXtKQpvmLKxMQclPrg0Dhx/x33f337XZqFTd0TWDPcTp8ZNo6B4u2jsVDz7969W2qd1moqp1a8dNC/jgc9QyIwZ9jiNRKpmbj4MWQYON+katZcxNeOR4yxeQuP/+uvv5JrOjg2jiMV/7KsaxhUUEt6sdo6qnm5IDQ6sZnL3aTJXNEmrV+al2H78eNHsm3U0OwFIWkqvHJqBoxmZWv64NRMF/0t5q5PvxsatvBpitTvlgxcri/PaSw2sqUaWRad9tFUSrkwbLPX8yBnSgSmjEySyP9//iO8IZU6CzZ8sxg2bj/uQHhGAIZtEGngIj0QGKqOqMmwbnKDkXh9KAxbD7JGcqikqVQa8Qthf//99+QzRqkt9YQk7L9zJqam321p2Lj/71MjMGx1RQHDVofT3I6SOgWNYasxY6lHjzzDUFrwHAJSGrXRcak3WnOPRGs6rLmRgQuPFoGh6ig1U8KPj2KdhzMjZNhSj0TjWtLOsPGjTa5tioH+Rlv8SDQ+Bt9h6ydvSVOMb87UEy+5mc84klmeMNTOloXLZNgYpQbXoclLrWlLPRKNNcYGNZyZDvv61CPRZdKppClJoTBsEkJz3i8RqDFsFHpuwWu4Pia3kDRV1GHRxtDkOoHcSwezjjDnTAkuP0IEausolxoboXCNz8HBwYvBBt98U9dg7Uu1FO7PDYhSx9Qs9q45ZoTUNgtZ0lRo2OMgQxNX0wdLhi005LX9bm45DZ0fv0Qz1EsHmhrhwYfngUWNpkqCh2Fr1h3827BEoNawpUxb6htQVj7rgRm2xoIcafO1dVQybDw7EA4k4lmUsE5oFmF/f38ys5V605TbCustXB+XM2ypY+KZv9wnO5b1cwnzkK2kKW4zNmSpb7DlHmPyNSTDRiZm1s96kFbCx7Lz/qxHTY0sq05rNZXTMwzbPCq9xzW1BPZoCocCAbcIoI7cUtssMWiqGfRuG9ZqCoatsTS0BDYOH80DARMIoI5M0OAqCGjKFZ0mktFqCoatMY1aAhuHj+aBgAkEUEcmaHAVBDTlik4TyWg1BcPWmEYtgY3DR/NAwAQCqCMTNLgKAppyRaeJZLSagmFrTKOWwMbho3kgYAIB1JEJGlwFAU25otNEMlpNwbA1plFLYOPw0TwQMIEA6sgEDa6CgKZc0WkiGa2mYNga06glsHH4aB4ImEAAdWSCBldBQFOu6DSRjFZTMGyNadQS2Dh8NA8ETCCAOjJBg6sgoClXdJpIRqspGLbGNGoJbBw+mgcCJhBAHZmgwVUQ0JQrOk0ko9UUDFtjGrUENg4fzQMBEwigjkzQ4CoIaMoVnSaS0WqqyrCZyBRBAAEgAASAABAAAkBgxAjw77jOkkKVYdM0MEtQy3SO1nEvE1bIFQjkEEAdQRtDIwBNDY0orqfVFAxbYw1pCWwcPpoHAiYQQB2ZoMFVENCUKzpNJKPVFAxbYxq1BDYOH80DARMIoI5M0OAqCGjKFZ0mktFqCoatMY1aAhuHj+aBgAkEUEcmaHAVBDTlik4TyWg1BcPWmEYtgY3DR/NAwAQCqCMTNLgKAppyRaeJZLSagmFrTKOWwMbho3kgYAIB1JEJGlwFAU25otNEMlpNwbA1plFLYOPw0TwQMIEA6sgEDa6CgKZc0WkiGa2mYNga06glsHH4aB4ImEAAdWSCBldBQFOu6DSRjFZTMGyNadQS2Dh8NA8ETCCAOjJBg6sgoClXdJpIRqspGLbGNGoJbBw+mgcCJhBAHZmgwVUQ0JQrOk0ko9XUIIbt5OSkOzs7mwJyfn7eHR4eTv+/u7vbXV9fT/8f/3KC9nwTTMwYRA2BEn5x03TNcIvx3tzc7O7v7yeHrKysdE9PTy+OL7X3+PjYra+vv8r24eGhW1tbmxEFnAYEdAgMXUd9dU7tx/1e3K/FNRLW4cbGRnd3d6cDAWcPisDQmqLgJM6lvl7SlHT+oADhYr0RqNFU6aJqwxYLiBu7ubnptra2ulhAsUnQnt8bMWMnSAQSPpeXl1NTRXh+//79lcnitOh6x8fH3enp6eRPjD+bNuowfv36NT3/4uKi+/Lly/T/zAcfH7d3e3vbbW9vd/i5MmNCWvJwhq6jPjrnm3Bo2OK6S9XVz58/pyaNrkEbTJsdIQ+tKdJEiXOp75U01fdeYQfp5YlE0pSEhNqwra6uds/Pz9PRJYtqZ2enu7q66ni2h0eX8fHa86UEre+XCEyN3OlvbIjD/HI3Gb7Gu3fvJmYrPpduFnt7e5NZUeLj8+fPL2ZIw/aoU/j27RtuLNaFtWTxDVlHBF2tznnAE/aBPDsX1xnX1qdPnyaz1OF+rl3MVNsR7pCaSmki5rzU99LTi1gzhFR4Tp97hR2UlysSSVMSGirDFj424BkX6sCOjo46Mmz7+/sTgxBO9/MogmaBDg4Opo/XZjmfZ5GkJC3vLxHI+KYepXz48GE6iyblFxu2eHaMTDZtZLAlwxYeK7WL/UBgUQgMXUc1Og9vwtTP8Qwb94F9ZqFh2BallPp2htZU3HIfw/bjx4/JfTWnqaHuFfXo4MhZEGhq2FIB8wwbdV60kchCwxYaOjII8aY9fxYQW55TIjA3Y1ZzM+GcGG8yfVTUdGNJGcC3b99ODFtqWp7WH3JHQYaONppR4C0129cSU7S9fAgMXUc1OqeZaR44hbMbPDtHs9bU//FWmj2j9t6/fz+pQWw2EBhaU3FWMeelvlfS1BD3Chuo+47ClGFjwfFCdjYLKcOWWmSrPX+MVJcIzI3U47UQubx51BWuaaNO4s2bN9NHmikDHa4rjF9KoHj5cTe1y+fDtI1RfX5iHrqOJJ3H64Viw0YvYYV1wjUVm7ZwjS8eh9rS49Ca4uxKnOf6Xv57TlN//fVXcgau9l5hC3m/0ZgxbKHQ4sebNTNs2vPHSvG8RnFs1lLGmNcNEmbUAfDGj0TDkX6NIaOZBp6hGysPiHvcCMyrjkJUWOdfv36dLOUIDVZs2MIXhfgapTrheo3fNB03K+OOft6aijmPZ9zCvvfvv/9+8fJZrCleflRa7jJuNnxEb8KwpcwWwcvTtLk1bLwGTXv+mKmcxzoJ7gjC0VgJI3608/Hjx+QboNIjWGn/mPlB7ONAYB51FGfOOqfBSfgZo/A46uvoMWnqxRypTqT942DCT5SL1JRkuEhzJU2lBhHERPjY3g8z482kuWHjUQBBmJrSpwDDffFbodrzx0vdv5FLBObe/MmNxNkk58waXS98fBkunKZ4Umvc+EbCnYr2JYixc4b47SEwZB3lXgAo3fzCOs2tJ4oHRqW1pPYQXr6IFqUpMmO5vjXue1Pf1Eyto2S2UveP5WPSTsaSpqRIVW+JsuFINcKzatJ32NjQxdeoPV9K0Pp+iUDp2zxhfqk1a3H+8fee4v/n1rixyYv3x/FZxxvx+URgyDoihPrqPL4xxnUVr2HL1RnWsdnR57w1Fb4QRp/tkPpeSVN97hV2UF6uSCRNSWioDBuPJEuGjfblvr6sPV9Kbgz7awgsfb06XBeT+wgx4RC/eMBveUpr3Ojc1PekwrdE+3y+YAycIMbxITBkHXH24VpP+ltJ56mZjLhuS790QNeHWbOlu3loKvylgxTnsebivlfSFH7pwJaG4mhqNFXKQGXYbEMzjui0BI4jS0QJBOaLAOpovvgu49WhqWVkfb45azUFwzZffsSrawkUG8ABQGAJEEAdLQHJC04Rmlow4EvQnFZTMGyNRaIlsHH4aB4ImEAAdWSCBldBQFOu6DSRjFZTMGyNadQS2Dh8NA8ETCCAOjJBg6sgoClXdJpIRqspGLbGNGoJbBw+mgcCJhBAHZmgwVUQ0JQrOk0ko9UUDFtjGrUENg4fzQMBEwigjkzQ4CoIaMoVnSaS0WoKhq0xjVoCG4eP5oGACQRQRyZocBUENOWKThPJaDUFw9aYRi2BjcNH80DABAKoIxM0uAoCmnJFp4lktJqCYWtMo5bAxuGjeSBgAgHUkQkaXAUBTbmi00QyWk3BsDWmUUtg4/DRPBAwgQDqyAQNroKAplzRaSIZraaqDJuJTBEEEAACQAAIAAEgAARGjIDmpxyrDJumgRHjupDQtY57IUGiESBgHAHUkXGCRhgeNDVC0oyHrNUUDFtjgrUENg4fzQMBEwigjkzQ4CoIaMoVnSaS0WoKhq0xjVoCG4eP5oGACQRQRyZocBUENOWKThPJaDUFw9aYRi2BjcNH80DABAKoIxM0uAoCmnJFp4lktJqCYWtMo5bAxuGjeSBgAgHUkQkaXAUBTbmi00QyWk3BsDWmUUtg4/DRPBAwgQDqyAQNroKAplzRaSIZraZg2BrTqCWwcfhoHgiYQAB1ZIIGV0FAU67oNJGMVlMwbI1p1BLYOHw0DwRMIIA6MkGDqyCgKVd0mkhGqykYtsY0aglsHD6aBwImEEAdmaDBVRDQlCs6TSSj1RQMW2MatQQ2Dh/NAwETCKCOTNDgKghoyhWdJpLRamoQw3ZyctKdnZ1NATk/P+8ODw+n/9/d3e2ur6+n/49/OUE6n0+kZGnz9MsLNQRK+IVKfHx87NbX11+J8+HhoVtbW3vxd8L958+f3dXV1Yu/b25udvf395O/bWxsdHd3d732m6gMBLFUCLSoI6kuwzpaWVnpnp6eUEcjUuWQmrq4uOiOjo6S2Yd9bB9NpfpmvkdyQ57ulSOSTjbUGk2V8lQbtthscWM3Nzfd1tZWFwuQ9oedl3Q+Xy+8jicRSgQSPpeXl9POnnD4/v37q86fcbq9ve22t7dFU8u47+zsvDBsdH0ycWzS6KZDG/9f2u+hqJDD+BBYdB1JdUl18+vXr2md0g37y5cvL+q4VGfjY8BfxENrKkaITRwPprlP5vtb3NdLfS/Fe3x83J2enk6a4nump/vl2FUmaUrKT23YVldXu+fn545n1VgkbATY8bMo4+Ol8ykBPsbjqEEikPbHM5b0NzbEMcFU9N++fXs1KxYeF+IZGjaenQuvzQaQ+KONZu9y++MZPEl82A8EhkJg0XVUqkvKiQZNcY2Sidvb2+s+ffqEOhqK+DleZ2hNxaHGGqJ++fPnzy+eTnFfT31rqe+lvjs1UE/pdI6Q4dICApKmJABVhi18/MYunkcNZAT29/cnIgqnbnkUQSOBg4OD6eO71Pn0qI7NBc3KkTGkzdOIoUQg4xs/zqSO/8OHD9ORVEgyGWba4secfAzx8+eff04MHV3n7du32WPpnNCwpQyZtF8SIPYDgSEQWGQdSXX58ePH5M2zVJuooyFUMOw1htZU3E/HT0pKho2eVsVbjWZg2IbVhPZqTQ1bKnieYaNZIdrouX1o2EJDlzIV4fm0Do5ETAaDRxjLZNhyjzdLHT/hRRubW/p3bjauxrDR9d6/f581ddJ+rcBxPhCoQaDUEQ5dR9L1eKCaGmjlBkiooxqWF3vM0Jri6Nnwx09OUo9Eae13boJC0kz8yHWx6KG1FAKmDBsLjteosWBShi21YDI+P0w4NZvnQRIlAhm/uGDjtQwhDnS98DEnXyNl2kqGLVwzmHphQdrvgRvkMB4EFllHP378mAxES3VJN9M3b95MlybkBqqoI7saG1pTnGm8/jFEIFzTnXpRhY6t0QzfL8M1bXaRXp7IzBi2UGjx482aGbbU+ctu2KSRfO6xZyz/nDGrmWHLjQal0eLylCAytYDAvGZDwty4XngGLWXY6Hiuy3itKF8rVbdSnVnAeNlimJemSBd//PHHqyUt8YxZabBNXOQ0w39PTYosG4fW8jVh2HJmiw1Hbg0bv80imbVQnPRvrGHLr2FLCTT3CLXGsPGILrwRxW1I6+asFQ3i8YfAPNcbMVqs869fv07W3vZZW0rXKK09rakzf6zZzmgemkq92EUozDo4j/tevn789r9tpJcnuuaGLfy+TOrRmfSWqHQ+U7mMj0Qp99zbaPH6h7Doa28ksWHLLWKNZxb6rM1ZnlJEpi0RkDrCoetIul78Jnd4oyac6GUs1FFLxchtD6kpbi23zCXX97Ihq1kXydeAWZO5bXWEpCkpLtVbomwoUo3wrJr0HTY2dPE14uncZTVs0rd5YtzitTPx+eHxqRm23Nqb8LMsqbU5KbMuiQ/7gcBQCEgd4dB1JF0v/n5h/H+pzobCBdeZHYGhNUWRlD67lNMErz8uaYauTbO+WLM2O9+LOFPSlBSDyrCxoy8ZNtqX+3pz7fl0jWU1bCX8aF/OdIVvieYeIZfWtvEvHVAbqZmA0n5JdNgPBIZGoKYjLH1FfpY6kr5KH65hk34xJFVnQ2OE6/VDYB6akpaPxN8cTX3LL9X35j5ATxnDxPXjfZ5H12iq1L7KsM0zsWW5tpbAZcEJeQKBYkf2z9vRnta2gu32CKBvbs+Btwi0moJha6wILYGNw0fzQMAEAqgjEzS4CgKackWniWS0moJha0yjlsDG4aN5IGACAdSRCRpcBQFNuaLTRDJaTcGwNaZRS2Dj8NE8EDCBAOrIBA2ugoCmXNFpIhmtpmDYGtOoJbBx+GgeCJhAAHVkggZXQUBTrug0kYxWUzBsjWnUEtg4fDQPBEwggDoyQYOrIKApV3SaSEarKRi2xjRqCWwcPpoHAiYQQB2ZoMFVENCUKzpNJKPVFAxbYxq1BDYOH80DARMIoI5M0OAqCGjKFZ0mktFqCoatMY1aAhuHj+aBgAkEUEcmaHAVBDTlik4TyWg1VWXYTGSKIIAAEAACQAAIAAEgMGIENB/4rjJsmgZGjOtCQtc67oUEiUaAgHEEUEfGCRpheNDUCEkzHrJWUzBsjQnWEtg4fDQPBEwggDoyQYOrIKApV3SaSEarKRi2xjRqCWwcPpoHAiYQQB2ZoMFVENCUKzpNJKPVFAxbYxq1BDYOH80DARMIoI5M0OAqCGjKFZ0mktFqCoatMY1aAhuHj+aBgAkEUEcmaHAVBDTlik4TyWg1BcPWmEYtgY3DR/NAwAQCqCMTNLgKAppyRaeJZLSagmFrTKOWwMbho3kgYAIB1JEJGlwFAU25otNEMlpNwbA1plFLYOPw0TwQMIEA6sgEDa6CgKZc0WkiGa2mYNga06glsHH4aB4ImEAAdWSCBldBQFOu6DSRjFZTMGyNadQS2Dh8NA8ETCCAOjJBg6sgoClXdJpIRqspGLbGNGoJbBw+mgcCJhBAHZmgwVUQ0JQrOk0ko9XUIIbt5OSkOzs7mwJyfn7eHR4eTv+/u7vbXV9fT/8f/9SVdL603wQTMwZRQ6CEX9w0XTPcQrwfHx+79fX1V9E+PDx0a2trM2aB04BAWwSGrqOaOtnc3Ozu7+8niW9sbHR3d3dJEKj/+vnzZ3d1dfVif9+6bovw8rU+tKYIQYlzaX+ub7+4uOiOjo6SJJW0uXysts24RlOlCNWGLTZT3NjNzU23tbX1SqC0f2VlpXt6epocKp0v7W8Lv751iUDK//LycooXFfT379+n/0+ZtePj4+709HSyizsANm23t7fd9vZ2h9+H1XOHK9hBYOg6kuqE6opMGJs0Mm+0xaaN+6+dnZ0Xhq1vXdtBenkiGVpTEufSfoqn1LfHzLCJw2DcjmYlTUmRqg3b6upq9/z83PGsGhsE7qB4RMCiiY+Xzpf2Swla3y8RSPvjGUv6GxviML/cTSa8BnUK3759y84GWMcL8QGBFAJD1hEPJHN1wrNvYQ1y7YU3R+676HqxYetT12C8DQJDa0rivLSfEEgNtFPnMFqlfW0QRauSpiSEVIYtfGzAMzbs6qmD2t/fn4gsnJLlESeNFA4ODqaP51Lnf/36tbg/fsQgJWtxf4lAxjceIdFo/sOHD9NZNCmvsHDJUNPmATspb+xfHgSGrqO+dRIbNuoH//zzz8nAiOr17du305obqq6Xh902mQ6pKYlzvhf27etzpkx6EtMGUbTa1LCl4OcZNpoVoo2eq4eGLTR0KdMQnh+ug+O2pP1jk0SJwNyMWZ+bSTwtTqN+2mhWlLfUbN3YcES8y43A0HXUt07o+Pfv3ycHQrFhG6Kul5vtxWQ/pKYkznlyI16qUurrc4882RzGT2YWgxpaKSFgyrDx7BmvUWNBpQxbaiFkfH6cuLR/jFIpEcj4pYo4XD+Ty5sLN1z3QO2Fj2e4DZi2MaoHMTMCQ9dRbZ2Ei8Rza4Viw6ata7C+GASG1JTE+d7e3mRyo7avT/XtjEq8Fm4xaKGVGgTMGLbw5YD48WbNDFvq/BAAaX8NWBaPGXIUF+bHBV3zhlB8Q7GIE2ICArOOXKXZjdrlAaU6Kc1qYIZtnNodsm+WNNhnhk3q22m2948//qheMjNOdsYZtQnDljNTLNLcGjZ+k1EyY9L+cVL3b9RDrpNgHLig44XOOZz6PGIdM9aI3S8C86ijGC2pTnL7sYZtnLobUlNDrWGT+vbUCzHjRN9n1M0NW/j9l9QjAQqQttxbotL50v6x0yoRmHtzKLc+gU1yyqyl3mQj/Pq+xDB2zBG/PwSGrCOpTj5+/Dh5mSq1QDx8uYBRTs3M9a1rf4zZz2hITfHgPPXGP/9N0kSpb2c0c49e7aO9HBFKmpJQUL0lyiJMNcKzavGHAOnY8DtsbOjia/D50n4pQev7JQJ5dpEfM5fe/imta2AcaLr8zZs30896xNe3jhfiAwIpBIasI7q+VCfx/tI3r1KGrU9dg/E2CAytKYnz0v6avp1Qwmeb2miltlVJU9J1VIaNHX/JsNG+3NebpfO/fPkyGclK15eStLy/hsDS16/Dm0HuI8OUf/jiQfh9KNqHj+haVghiq0FgyDoKBzfh29RxnYS/dEDn1L50wNeXvmpfkzeOmR8C89CUxHluf23fLj22nx9auHINAjWaKl1HZdhqAsQxZQS0BAJfIAAEymtBgQ8QmAUB9M2zoIZziobrnyVimgkSGLbG+kKn0JgANO8CAdSRCxpNJQFNmaLDRTBaTcGwNZaBlsDG4aN5IGACAdSRCRpcBQFNuaLTRDJaTcGwNaZRS2Dj8NE8EDCBAOrIBA2ugoCmXNFpIhmtpmDYGtOoJbBx+GgeCJhAAHVkggZXQUBTrug0kYxWUzBsjWnUEtg4fDQPBEwggDoyQYOrIKApV3SaSEarKRi2xjRqCWwcPpoHAiYQQB2ZoMFVENCUKzpNJFEccTsAAAkLSURBVKPVFAxbYxq1BDYOH80DARMIoI5M0OAqCGjKFZ0mktFqCoatMY1aAhuHj+aBgAkEUEcmaHAVBDTlik4TyWg1VWXYTGSKIIAAEAACQAAIAAEgMGIE8OHcEZOnddwjTh2hA4HBEEAdDQYlLvR/BKApSGFoBLSaqpph0zjCoRP2dj0tgd7wQD5AYBYEUEezoIZzSghAU9DH0AhoNQXDNjQjPa+nJbBnczgcCLhEAHXkktamSUFTTeF32bhWUzBsjWWhJbBx+GgeCJhAAHVkggZXQUBTrug0kYxWUzBsjWnUEtg4fDQPBEwggDoyQYOrIKApV3SaSEarKRi2xjRqCWwcPpoHAiYQQB2ZoMFVENCUKzpNJKPVFAxbYxq1BDYOH80DARMIoI5M0OAqCGjKFZ0mktFqCoatMY1aAhuHj+aBgAkEUEcmaHAVBDTlik4TyWg1BcPWmEYtgY3DR/NAwAQCqCMTNLgKAppyRaeJZLSagmFrTKOWwMbho3kgYAIB1JEJGlwFAU25otNEMlpNwbA1plFLYOPw0TwQMIEA6sgEDa6CgKZc0WkiGa2mBjFsJycn3dnZ2RSQ8/Pz7vDwcPr/3d3d7vr6evr/+JcTpPM3Nze7+/v7yfkrKyvd09OTCfCHCKKGQAm/MI7Hx8dufX39VWgPDw/d2traq79T+zFf9Ldwi/nqE88QGOEaQEBCoEUdhf3SxsZGd3d39yJM7X4pZ+yfLwJDa4qilfpO6V4n9c2S5uaLGK4uIVCjqdI11IYtNlvc2M3NTbe1tfVKoLHpks4PBcjX9mTaJAIJn8vLy6lJpYL//v171rTe3t5229vbXc3PiTG2oWGjeI6Pj7vT09MJ3NzB8PX6xiMJGPuBwBAILLqOqC5+/vw5NWlUS7SxadPuHwITXEOHwNCa4nsd96VxX04a+vXr17Rvv7i46L58+TL9v9Q3S5rToYGzh0BA0pTUhtqwra6uds/Pz9NZGr7B7+zsdFdXVx2PCHiGJz6+dP7Xr1+ns0V8fnw9KUHr+yUCczNgbIjj/KhT+Pbt26vRfnwcdwYhdzmzF8bQNx7r+CM+Hwgsso54FjusQa4d6qdoo1nuWfenZsJ9sDSuLIbWFN3rPn/+/OLpE7VBOqGNBtpxv04mbm9vr3v37l1yIM798adPn4qag6ZsaE/SlBSlyrCFj9941EBG4OjoqCPDtr+/PxFZ+LiARxk0i3NwcDA1ZKnzyfDFGxu2mhkkKXkL+0sEMr7x40wq4g8fPkxnwcI8yDDTlsKOjwtvOMRP/Eg0hTkdw51Cn3gsYIwY/CPQoo5CVEPDlro5avf7Z9BehkNrqsawpZaflPrz1ACakZQ0Zw9x/xE1NWwpeHmGjW7wtJF5Cw1baOhSpiI8P1wHx+fRNSWDMSbaSwTmZrxKpow6Bdpo5oy31KiNDV+p4Ol8xp1MGhm91OPWGpM4Jk4Q6/gQaFFHIUpUd+/fv88OlLT7x8fI+CMeWlOpR6K0tptMWs5c0eD87du3SV2FfXNqkCBpbvwMjS8DU4aNBclrzFhQKcOWWqQbnx/SEa51S507Pur+jbhEIOOXGnWF62fC3Ol6/Dg6NFxs2uI1aCXDxjNxvKZtlnjGygviHhcCi64jRidcRJ56sUe7f1ws+Ip2aE0ROuF9LF6LTQbrzZs30+UspcmNuG8OkZc054ulcWVjxrCFQowfb9bMsKXOT1HBYgwXxo+LspfRDj2KS2HBozReExjeWHKGjTuEkLtZZvzGzA1iHw8Ci6yj1JMBrpfc7L92/3iY8BPp0JqKZ7zYkIVPQHhNN6FIA2/eQs2l+uYU6pLm/DA1nkxMGLac2eIbfG4NG7+JmDu/NEMXziKNh67XkQ69TiJncunvNLUefn4lPDbkiAs9xniWNXVj5gaxjweBRdZRbn2otDRAu388bPiIdEhNzTrYjdcr5/rmHOKS5nwwNZ4smhu2cG1Z6pEAvySQe0u0dH74UgOPQvhTFMtg2EiGqRmw3KxYaR1E7iWF+Fp8jRy+feIZTxkh0rEjIHWEfXQr1dHHjx8nazlTL9/QoIhftpp1f+mFobHzNKb4F6Gp0FBRe+FsW/w2cqlvnmUN3Ji48BKrpCkpT9VbomwoUo3wjE38oUA6Nnx2z4YuvkbpfDo29yFYKWFr+yUCpW/3xPnE6yDi8+PjwxtZaV0En9c3Hmt4Ix6fCCy6jnLrjcKBaWo9Uu1+nyyNK6t5ayp+JBp/yy/8f03fLGlyXOj7jFbSlJS1yrCxqy8ZNtqX+7qz9nwpuTHsryGw9HXs1FtE4ToIwqD0CZTQsOU+YkzXSH1Ml/H18omVMegFMaYRaFFH8Ue9UzNq/AstqUGmdD64bovAIjQVv8Ef9t2ppUQpRMK+GZpqqxmp9RpNla6hMmxScNgvI6AlUG4BRwAB/wigjvxzvOgMoalFI+6/Pa2mYNgaa0RLYOPw0TwQMIEA6sgEDa6CgKZc0WkiGa2mYNga06glsHH4aB4ImEAAdWSCBldBQFOu6DSRjFZTMGyNadQS2Dh8NA8ETCCAOjJBg6sgoClXdJpIRqspGLbGNGoJbBw+mgcCJhBAHZmgwVUQ0JQrOk0ko9UUDFtjGrUENg4fzQMBEwigjkzQ4CoIaMoVnSaS0WoKhq0xjVoCG4eP5oGACQRQRyZocBUENOWKThPJaDUFw9aYRi2BjcNH80DABAKoIxM0uAoCmnJFp4lktJqCYWtMo5bAxuGjeSBgAgHUkQkaXAUBTbmi00QyWk1VGTYTmSIIIAAEgAAQAAJAAAiMGAHNLwOJhm3EuCB0IAAEgAAQAAJAAAi4QACGzQWNSAIIAAEgAASAABDwjAAMm2d2kRsQAAJAAAgAASDgAgEYNhc0IgkgAASAABAAAkDAMwIwbJ7ZRW5AAAgAASAABICACwRg2FzQiCSAABAAAkAACAABzwjAsHlmF7kBASAABIAAEAACLhCAYXNBI5IAAkAACAABIAAEPCMAw+aZXeQGBIAAEAACQAAIuEAAhs0FjUgCCAABIAAEgAAQ8IwADJtndpEbEAACQAAIAAEg4AIBGDYXNCIJIAAEgAAQAAJAwDMC/wPxS9Q0raZQCwAAAABJRU5ErkJggg==)"
      ],
      "metadata": {
        "id": "NkcYCYAnmZX6"
      }
    },
    {
      "cell_type": "markdown",
      "source": [
        "El modelo con mayor porcentaje de precisión fue el realizado con el año 2023. Esto puede exliarse debido a que es el que tiene menor cantidad de registros, lo que favorece la precisión debido a que indica el porcentaje de casos correctamente clasificados sobre el total de casos.\n",
        "\n",
        "- 2020: 0.2985 (29.85%)\n",
        "- 2021: 0.5133 (51.33%)\n",
        "- 2022: 0.25 (25.00%)\n",
        "- 2023: 0.5420 (54.20%)\n",
        "\n",
        "En cuanto a la excatitud, esta mide la proporción de casos positivos predichos correctamente en relación con el total de casos positivos predichos (tanto verdaderos como falsos positivos). La más alta fue en 2020. \n",
        "\n",
        "- 2020: 0.5463 (54.63%)\n",
        "- 2021: 0.5093 (50.93%)\n",
        "- 2022: 0.5310 (53.10%)\n",
        "- 2023: 0.5333 (53.33%)\n",
        "\n",
        "Entorno a la sensibilidad, la más alta se obtuvo en el año 2023 y esta proporciona los verdaderos casos positivos que son correctamente identificados en relación con el total de casos positivos reales. \n",
        "\n",
        "- 2020: 0.3860 (38.60%)\n",
        "- 2021: 0.7832 (78.32%)\n",
        "- 2022: 0.0027 (0.27%)\n",
        "- 2023: 0.8923 (89.23%)"
      ],
      "metadata": {
        "id": "iP3WLNR_mipZ"
      }
    }
  ]
}